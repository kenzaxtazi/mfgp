{
 "cells": [
  {
   "attachments": {},
   "cell_type": "markdown",
   "id": "220e1f89-e5db-4ea0-8762-c45193d0f19d",
   "metadata": {},
   "source": [
    "# Experiment 0"
   ]
  },
  {
   "cell_type": "code",
   "execution_count": 1,
   "id": "90f5db7b-5395-4d5d-9624-298733a7eccf",
   "metadata": {},
   "outputs": [],
   "source": [
    "import sys\n",
    "sys.path.append('/Users/kenzatazi/Documents/CDT/Code')\n",
    "\n",
    "from load import era5, data_dir, value\n",
    "from sklearn.preprocessing import MinMaxScaler, StandardScaler\n",
    "from matplotlib import pyplot as plt\n",
    "import pandas as pd\n",
    "import numpy as np\n",
    "import GPy\n",
    "import scipy as sp\n",
    "from sklearn.metrics import mean_squared_error, r2_score\n",
    "from sklearn.model_selection import KFold\n",
    "from mfdgp.utils.metrics import msll, r2_low_vs_high"
   ]
  },
  {
   "cell_type": "code",
   "execution_count": 2,
   "id": "070628eb-456f-4eb2-88e8-326efaa47f02",
   "metadata": {},
   "outputs": [],
   "source": [
    "from sklearn.linear_model import LinearRegression\n",
    "from sklearn.metrics import mean_squared_error, r2_score"
   ]
  },
  {
   "cell_type": "code",
   "execution_count": 3,
   "id": "d5d3cf61-9e60-402e-b56d-104888050963",
   "metadata": {},
   "outputs": [],
   "source": [
    "import emukit\n",
    "from emukit.model_wrappers.gpy_model_wrappers import GPyMultiOutputWrapper\n",
    "from emukit.multi_fidelity.models import GPyLinearMultiFidelityModel\n",
    "from emukit.multi_fidelity.convert_lists_to_array import convert_x_list_to_array, convert_xy_lists_to_arrays"
   ]
  },
  {
   "cell_type": "markdown",
   "id": "82901517-73c8-4c78-8383-f0a82b56bd31",
   "metadata": {
    "tags": []
   },
   "source": [
    "## Prepare data"
   ]
  },
  {
   "cell_type": "code",
   "execution_count": 19,
   "id": "67eee07c-9b61-491e-a122-342ec97f4206",
   "metadata": {},
   "outputs": [],
   "source": [
    "# Load data\n",
    "minyear = 2000\n",
    "maxyear = 2005"
   ]
  },
  {
   "cell_type": "code",
   "execution_count": 27,
   "id": "d8763cd5-a051-4c68-a40e-cb625db31004",
   "metadata": {},
   "outputs": [
    {
     "name": "stderr",
     "output_type": "stream",
     "text": [
      " /var/folders/jn/8my89c2536z23fm0t2l486340000gn/T/ipykernel_10299/3201607459.py:21: SettingWithCopyWarning:\n",
      "A value is trying to be set on a copy of a slice from a DataFrame\n",
      "\n",
      "See the caveats in the documentation: https://pandas.pydata.org/pandas-docs/stable/user_guide/indexing.html#returning-a-view-versus-a-copy\n"
     ]
    }
   ],
   "source": [
    "gauge_df = value.all_gauge_data(minyear, maxyear, monthly=True)\n",
    "station_names = gauge_df.drop_duplicates('name')['name']\n",
    "\n",
    "# Get CV scheme\n",
    "cv_locs = np.load('/Users/kenzatazi/Documents/CDT/Code/mfdgp/experiments/exp1/cv/exp1_cv_locs.npy')\n",
    "cv_locs = cv_locs.reshape(-1, 2)\n",
    "\n",
    "station_list = []\n",
    "for loc in cv_locs:\n",
    "    station_row = gauge_df[(gauge_df['latitude'] == loc[1]) | (gauge_df['longitude'] == loc[0])].iloc[0]\n",
    "    station_list.append(station_row['name'])\n",
    "station_arr = np.array(station_list)\n",
    "\n",
    "# Split indexes\n",
    "kf = KFold(n_splits=5)\n",
    "\n",
    "cv_train_list = []\n",
    "cv_test_list = []\n",
    "\n",
    "for train_index, test_index in kf.split(station_arr):\n",
    "    [station_names.drop(station_names.loc[station_names == l].index,\n",
    "                        inplace=True) for l in station_arr[test_index]]\n",
    "    hf_train = station_names.values \n",
    "    hf_test = station_arr[test_index]\n",
    "    cv_train_list.append(hf_train)\n",
    "    cv_test_list.append(hf_test)"
   ]
  },
  {
   "cell_type": "code",
   "execution_count": 28,
   "id": "5dfda015",
   "metadata": {},
   "outputs": [
    {
     "data": {
      "text/plain": [
       "[array(['GRAZ', 'INNSBRUCK', 'SALZBURG', 'SONNBLICK', 'WIEN', 'UCCLE',\n",
       "        'ZAGREB-GRIC', 'HELSINKI-KAISANIEMI', 'JYVASKYLA-LENTOASEMA',\n",
       "        'SODANKYLA', 'BOURGES', 'PARIS-14E', 'MARSEILLE-MARIGNANE',\n",
       "        'HOHENPEISSENBERG', 'POTSDAM', 'ZUGSPITZE', 'CORFU', 'LARISSA',\n",
       "        'METHONI', 'MILAN', 'CAGLIARI', 'ROMA-CIAMPINO',\n",
       "        'VERONA-VILLAFRANCA', 'KARASJOK', 'KJOEREMSGRENDE', 'FAERDER',\n",
       "        'VARDOE', 'KAUNAS', 'KLAIPEDA', 'BRAGANCA', 'LISBOA-GEOFISICA',\n",
       "        'ARAD', 'BUCURESTI-BANEASA', 'BADAJOZ-TALAVERA', 'MALAGA',\n",
       "        'NAVACERRADA', 'SAN-SEBASTIAN-IGUELDO',\n",
       "        'TORTOSA-OBSERVATORIO-DEL-EBRO', 'BASEL-BINNINGEN', 'LUGANO',\n",
       "        'SAENTIS', '\\tZUERISWITZERLAND', 'ESKDALEMUIR', 'OXFORD', 'WICK',\n",
       "        'RENNES', 'FOKSTUA', 'LEBA', 'SIEDLCE', 'HAPARANDA', 'STORNOWAY',\n",
       "        'VALLEY', 'MONT-AIGOUAL', 'SIBIU', 'GOTEBORG', 'VISBY',\n",
       "        'DRESDEN-KLOTZSCHE', 'JOKIOINEN-JOKIOISTEN', 'TOULOUSE-BLAGNAC',\n",
       "        'IASI', 'BIRZAI', 'LAZDIJAI', 'SANTIAGO-DE-COMPOSTELA', 'JACKVIK',\n",
       "        'SION', 'GOSPIC', 'HVAR', 'ZAVIZAN', 'BROCKEN', 'CONSTANTA',\n",
       "        'RHEINSTETTEN', 'PALMA-DE-MALLORCA', 'MADRID-BARAJAS',\n",
       "        'GIESSEN-WETTENBERG', 'ARKONA', 'OBERSTDORF', 'REGENSBURG',\n",
       "        'SALEN', 'SIIKAJOKI-REVONLAHTI'], dtype=object),\n",
       " array(['GRAZ', 'WIEN', 'UCCLE', 'ZAGREB-GRIC', 'HELSINKI-KAISANIEMI',\n",
       "        'JYVASKYLA-LENTOASEMA', 'SODANKYLA', 'BOURGES', 'PARIS-14E',\n",
       "        'MARSEILLE-MARIGNANE', 'POTSDAM', 'CORFU', 'LARISSA', 'METHONI',\n",
       "        'MILAN', 'CAGLIARI', 'ROMA-CIAMPINO', 'VERONA-VILLAFRANCA',\n",
       "        'KARASJOK', 'KJOEREMSGRENDE', 'FAERDER', 'VARDOE', 'KAUNAS',\n",
       "        'KLAIPEDA', 'BRAGANCA', 'LISBOA-GEOFISICA', 'ARAD',\n",
       "        'BUCURESTI-BANEASA', 'BADAJOZ-TALAVERA', 'MALAGA', 'NAVACERRADA',\n",
       "        'SAN-SEBASTIAN-IGUELDO', 'TORTOSA-OBSERVATORIO-DEL-EBRO',\n",
       "        'BASEL-BINNINGEN', 'LUGANO', 'SAENTIS', '\\tZUERISWITZERLAND',\n",
       "        'ESKDALEMUIR', 'OXFORD', 'WICK', 'RENNES', 'FOKSTUA', 'LEBA',\n",
       "        'SIEDLCE', 'HAPARANDA', 'STORNOWAY', 'VALLEY', 'MONT-AIGOUAL',\n",
       "        'SIBIU', 'GOTEBORG', 'VISBY', 'DRESDEN-KLOTZSCHE',\n",
       "        'JOKIOINEN-JOKIOISTEN', 'TOULOUSE-BLAGNAC', 'IASI', 'BIRZAI',\n",
       "        'LAZDIJAI', 'SANTIAGO-DE-COMPOSTELA', 'JACKVIK', 'SION', 'GOSPIC',\n",
       "        'HVAR', 'ZAVIZAN', 'BROCKEN', 'CONSTANTA', 'RHEINSTETTEN',\n",
       "        'PALMA-DE-MALLORCA', 'MADRID-BARAJAS', 'GIESSEN-WETTENBERG',\n",
       "        'ARKONA', 'SALEN', 'SIIKAJOKI-REVONLAHTI'], dtype=object),\n",
       " array(['GRAZ', 'WIEN', 'UCCLE', 'ZAGREB-GRIC', 'HELSINKI-KAISANIEMI',\n",
       "        'JYVASKYLA-LENTOASEMA', 'SODANKYLA', 'BOURGES', 'PARIS-14E',\n",
       "        'MARSEILLE-MARIGNANE', 'POTSDAM', 'CORFU', 'LARISSA', 'METHONI',\n",
       "        'MILAN', 'CAGLIARI', 'ROMA-CIAMPINO', 'VERONA-VILLAFRANCA',\n",
       "        'KARASJOK', 'KJOEREMSGRENDE', 'FAERDER', 'VARDOE', 'KAUNAS',\n",
       "        'KLAIPEDA', 'LISBOA-GEOFISICA', 'ARAD', 'BUCURESTI-BANEASA',\n",
       "        'BADAJOZ-TALAVERA', 'MALAGA', 'BASEL-BINNINGEN', 'LUGANO',\n",
       "        'SAENTIS', '\\tZUERISWITZERLAND', 'ESKDALEMUIR', 'OXFORD', 'WICK',\n",
       "        'RENNES', 'FOKSTUA', 'LEBA', 'SIEDLCE', 'HAPARANDA', 'STORNOWAY',\n",
       "        'VALLEY', 'MONT-AIGOUAL', 'SIBIU', 'GOTEBORG', 'VISBY',\n",
       "        'DRESDEN-KLOTZSCHE', 'JOKIOINEN-JOKIOISTEN', 'IASI', 'BIRZAI',\n",
       "        'LAZDIJAI', 'SANTIAGO-DE-COMPOSTELA', 'JACKVIK', 'SION', 'GOSPIC',\n",
       "        'HVAR', 'ZAVIZAN', 'BROCKEN', 'CONSTANTA', 'RHEINSTETTEN',\n",
       "        'GIESSEN-WETTENBERG', 'ARKONA', 'SALEN', 'SIIKAJOKI-REVONLAHTI'],\n",
       "       dtype=object),\n",
       " array(['GRAZ', 'WIEN', 'UCCLE', 'ZAGREB-GRIC', 'SODANKYLA', 'BOURGES',\n",
       "        'PARIS-14E', 'MARSEILLE-MARIGNANE', 'POTSDAM', 'CORFU', 'LARISSA',\n",
       "        'METHONI', 'MILAN', 'CAGLIARI', 'ROMA-CIAMPINO',\n",
       "        'VERONA-VILLAFRANCA', 'KARASJOK', 'KJOEREMSGRENDE', 'FAERDER',\n",
       "        'VARDOE', 'KAUNAS', 'LISBOA-GEOFISICA', 'ARAD',\n",
       "        'BUCURESTI-BANEASA', 'BADAJOZ-TALAVERA', 'MALAGA',\n",
       "        'BASEL-BINNINGEN', 'LUGANO', 'SAENTIS', '\\tZUERISWITZERLAND',\n",
       "        'ESKDALEMUIR', 'OXFORD', 'WICK', 'RENNES', 'FOKSTUA', 'LEBA',\n",
       "        'SIEDLCE', 'STORNOWAY', 'VALLEY', 'MONT-AIGOUAL', 'SIBIU',\n",
       "        'GOTEBORG', 'VISBY', 'DRESDEN-KLOTZSCHE', 'IASI', 'LAZDIJAI',\n",
       "        'SANTIAGO-DE-COMPOSTELA', 'JACKVIK', 'SION', 'GOSPIC', 'HVAR',\n",
       "        'ZAVIZAN', 'BROCKEN', 'CONSTANTA', 'RHEINSTETTEN',\n",
       "        'GIESSEN-WETTENBERG', 'ARKONA', 'SALEN'], dtype=object),\n",
       " array(['GRAZ', 'WIEN', 'UCCLE', 'ZAGREB-GRIC', 'SODANKYLA', 'BOURGES',\n",
       "        'PARIS-14E', 'MARSEILLE-MARIGNANE', 'POTSDAM', 'METHONI', 'MILAN',\n",
       "        'CAGLIARI', 'ROMA-CIAMPINO', 'VERONA-VILLAFRANCA', 'KARASJOK',\n",
       "        'KJOEREMSGRENDE', 'FAERDER', 'VARDOE', 'KAUNAS',\n",
       "        'LISBOA-GEOFISICA', 'BADAJOZ-TALAVERA', 'MALAGA',\n",
       "        'BASEL-BINNINGEN', 'LUGANO', 'SAENTIS', '\\tZUERISWITZERLAND',\n",
       "        'ESKDALEMUIR', 'OXFORD', 'WICK', 'RENNES', 'FOKSTUA', 'LEBA',\n",
       "        'SIEDLCE', 'STORNOWAY', 'VALLEY', 'MONT-AIGOUAL', 'GOTEBORG',\n",
       "        'VISBY', 'DRESDEN-KLOTZSCHE', 'LAZDIJAI', 'SANTIAGO-DE-COMPOSTELA',\n",
       "        'JACKVIK', 'SION', 'GOSPIC', 'HVAR', 'ZAVIZAN', 'BROCKEN',\n",
       "        'RHEINSTETTEN', 'GIESSEN-WETTENBERG', 'ARKONA', 'SALEN'],\n",
       "       dtype=object)]"
      ]
     },
     "execution_count": 28,
     "metadata": {},
     "output_type": "execute_result"
    }
   ],
   "source": [
    "cv_train_list\n"
   ]
  },
  {
   "cell_type": "code",
   "execution_count": 29,
   "id": "31dd72f5-95ee-4295-ad43-9078fb4e57c7",
   "metadata": {},
   "outputs": [
    {
     "name": "stdout",
     "output_type": "stream",
     "text": [
      "value\n",
      "/Users/kenzatazi/Documents/CDT/Code/data/ERA5/combi_data_value_03-2023.csv\n",
      "value\n",
      "/Users/kenzatazi/Documents/CDT/Code/data/ERA5/combi_data_value_03-2023.csv\n",
      "value\n",
      "/Users/kenzatazi/Documents/CDT/Code/data/ERA5/combi_data_value_03-2023.csv\n",
      "value\n",
      "/Users/kenzatazi/Documents/CDT/Code/data/ERA5/combi_data_value_03-2023.csv\n",
      "value\n",
      "/Users/kenzatazi/Documents/CDT/Code/data/ERA5/combi_data_value_03-2023.csv\n"
     ]
    }
   ],
   "source": [
    "# Split data\n",
    "cv_x_train_hf = []\n",
    "cv_y_train_hf = []\n",
    "cv_x_train_lf = []\n",
    "cv_y_train_lf = []\n",
    "cv_x_val = []\n",
    "cv_y_val = []\n",
    "lf_lambdas = []\n",
    "\n",
    "\n",
    "for i in range(len(cv_train_list)):\n",
    "\n",
    "    hf_train_list = []\n",
    "    for station in cv_train_list[i]:\n",
    "        station_ds = value.gauge_download(\n",
    "            station, minyear=minyear, maxyear=maxyear)\n",
    "        hf_train_list.append(station_ds.dropna().reset_index())\n",
    "    hf_train_df = pd.concat(hf_train_list)\n",
    "\n",
    "    val_list = []\n",
    "    for station in cv_test_list[i]:\n",
    "        station_ds = value.gauge_download(\n",
    "            station, minyear=minyear, maxyear=maxyear)\n",
    "        val_list.append(station_ds.dropna().reset_index())\n",
    "    val_df = pd.concat(val_list)\n",
    "\n",
    "    era5_df = era5.value_gauge_download(\n",
    "        list(cv_test_list[i]) + list(cv_train_list[i]), minyear=minyear, maxyear=maxyear)\n",
    "\n",
    "    lf_train_df = era5_df.reset_index()\n",
    "    \n",
    "    # Prepare data\n",
    "    \n",
    "    # Transformations\n",
    "    lf_train_df['tp_tr'], lf_lambda = sp.stats.boxcox(\n",
    "        lf_train_df['tp'].values + 0.01)\n",
    "    hf_train_df['tp_tr'] = sp.stats.boxcox(\n",
    "        hf_train_df['tp'].values + 0.01, lmbda=lf_lambda)\n",
    "    val_df['tp_tr'] = sp.stats.boxcox(\n",
    "        val_df['tp'].values + 0.01, lmbda=lf_lambda)\n",
    "\n",
    "    # Splitting\n",
    "    x_train_lf = lf_train_df[['time', 'lat', 'lon', 'z']].values.reshape(-1, 4)\n",
    "    y_train_lf = lf_train_df['tp_tr'].values.reshape(-1, 1)\n",
    "    x_train_hf = hf_train_df[['time', 'latitude', 'longitude', 'altitude']].values.reshape(-1, 4)\n",
    "    y_train_hf = hf_train_df[['tp_tr']].values.reshape(-1, 1)\n",
    "    x_val = val_df[['time', 'latitude', 'longitude', 'altitude']].values.reshape(-1, 4)\n",
    "    y_val = val_df['tp_tr'].values.reshape(-1, 1)\n",
    "\n",
    "    # Scaling\n",
    "    scaler = StandardScaler().fit(x_train_hf)\n",
    "    x_train_hf1 = scaler.transform(x_train_hf)\n",
    "    x_train_lf1 = scaler.transform(x_train_lf)\n",
    "    x_val1 = scaler.transform(x_val)\n",
    "    \n",
    "    cv_x_train_hf.append(x_train_hf1)\n",
    "    cv_y_train_hf.append(y_train_hf)\n",
    "    cv_x_train_lf.append(x_train_lf1)\n",
    "    cv_y_train_lf.append(y_train_lf)\n",
    "    cv_x_val.append(x_val1)\n",
    "    cv_y_val.append(y_val)\n",
    "    lf_lambdas.append(lf_lambda)\n"
   ]
  },
  {
   "cell_type": "code",
   "execution_count": 31,
   "id": "09610bd6-825a-413a-8c50-2049ad2cb272",
   "metadata": {},
   "outputs": [
    {
     "name": "stderr",
     "output_type": "stream",
     "text": [
      " /Users/kenzatazi/miniconda3/envs/mfdgp/lib/python3.8/site-packages/numpy/lib/npyio.py:521: VisibleDeprecationWarning:Creating an ndarray from ragged nested sequences (which is a list-or-tuple of lists-or-tuples-or ndarrays with different lengths or shapes) is deprecated. If you meant to do this, you must specify 'dtype=object' when creating the ndarray.\n"
     ]
    }
   ],
   "source": [
    "np.save('data/cv_x_train_hf_value0_2000-2005.npy', cv_x_train_hf)\n",
    "np.save('data/cv_y_train_hf_value0_2000-2005.npy', cv_y_train_hf)\n",
    "np.save('data/cv_x_train_lf_value0_2000-2005.npy', cv_x_train_lf)\n",
    "np.save('data/cv_y_train_lf_value0_2000-2005.npy', cv_y_train_lf)\n",
    "np.save('data/cv_y_val_value0_2000-2005.npy', cv_y_val)\n",
    "np.save('data/cv_x_val_value0_2000-2005.npy', cv_x_val)\n",
    "np.save('data/lf_lambda0_2000-2005.npy', lf_lambdas)"
   ]
  },
  {
   "cell_type": "markdown",
   "id": "6e92dcaa-731d-49f1-87a7-56806656a6d0",
   "metadata": {},
   "source": [
    "## Load data"
   ]
  },
  {
   "cell_type": "code",
   "execution_count": 32,
   "id": "30e4949c-5fc3-44c8-bb6c-596ac9e61bea",
   "metadata": {},
   "outputs": [],
   "source": [
    "cv_x_train_hf = np.load('data/cv_x_train_hf_value0_2000-2005.npy', allow_pickle=True)\n",
    "cv_y_train_hf = np.load('data/cv_y_train_hf_value0_2000-2005.npy', allow_pickle=True)\n",
    "cv_x_train_lf = np.load('data/cv_x_train_lf_value0_2000-2005.npy', allow_pickle=True)\n",
    "cv_y_train_lf = np.load('data/cv_y_train_lf_value0_2000-2005.npy', allow_pickle=True)\n",
    "cv_x_val = np.load('data/cv_x_val_value0_2000-2005.npy', allow_pickle=True)\n",
    "cv_y_val = np.load('data/cv_y_val_value0_2000-2005.npy', allow_pickle=True)\n",
    "lf_lambdas = np.load('data/lf_lambda0_2000-2005.npy', allow_pickle=True)"
   ]
  },
  {
   "cell_type": "markdown",
   "id": "34f5c511-90bd-4d8a-be1d-ed0b939252c4",
   "metadata": {},
   "source": [
    "## MFDGP"
   ]
  },
  {
   "cell_type": "code",
   "execution_count": 9,
   "id": "370e155e-5a8c-4cfb-bb14-a4e1ce2b391f",
   "metadata": {},
   "outputs": [
    {
     "name": "stderr",
     "output_type": "stream",
     "text": [
      " /Users/kenzatazi/miniconda3/lib/python3.8/site-packages/paramz/transformations.py:111: RuntimeWarning:divide by zero encountered in log\n"
     ]
    }
   ],
   "source": [
    "R2_all = []\n",
    "RMSE_all = []\n",
    "RMSE_p5 = []\n",
    "RMSE_p95 = []\n",
    "MSLL = []\n",
    "\n",
    "R2_all_low = []\n",
    "RMSE_all_low = []\n",
    "RMSE_p5_low = []\n",
    "RMSE_p95_low = []\n",
    "MSLL_low = []\n",
    "\n",
    "r2_high_list = []\n",
    "r2_low_list = []\n",
    "\n",
    "for i in range(len(cv_x_train_hf)):\n",
    "\n",
    "    # Input data\n",
    "    X_train, Y_train = convert_xy_lists_to_arrays([cv_x_train_lf[i], cv_x_train_hf[i]], [cv_y_train_lf[i], cv_y_train_hf[i]])\n",
    "    \n",
    "    # Train and evaluate\n",
    "    kern1 = GPy.kern.Matern52(input_dim=4, ARD=True)\n",
    "    kernels = [kern1, GPy.kern.Matern52(input_dim=4, ARD=True)]\n",
    "    lin_mf_kernel = emukit.multi_fidelity.kernels.LinearMultiFidelityKernel(kernels)\n",
    "    gpy_lin_mf_model = GPyLinearMultiFidelityModel(X_train, Y_train, lin_mf_kernel, n_fidelities=2,)\n",
    "    gpy_lin_mf_model.mixed_noise.Gaussian_noise.fix(0)\n",
    "    gpy_lin_mf_model.mixed_noise.Gaussian_noise_1.fix(0)\n",
    "    gpy_lin_mf_model.multifidelity.Mat52_1.lengthscale[[2]] = 0.5\n",
    "    lin_mf_model = GPyMultiOutputWrapper(gpy_lin_mf_model, 2, n_optimization_restarts=5)\n",
    "    lin_mf_model.optimize()\n",
    "    print(gpy_lin_mf_model.multifidelity.Mat52_1.lengthscale)\n",
    "\n",
    "    # Load and prep test data                                     \n",
    "    x_val1, y_val = cv_x_val[i], cv_y_val[i]                                                                                   \n",
    "    n = x_val1.shape[0]\n",
    "    x_met = convert_x_list_to_array([x_val1, x_val1])\n",
    "    y_pred0, y_var0 = lin_mf_model.predict(x_met[n:])\n",
    "    y_pred_low0, y_var_low0 = lin_mf_model.predict(x_met[:n])\n",
    "    \n",
    "    # ALL\n",
    "    y_pred = sp.special.inv_boxcox(y_pred0, lf_lambdas[i]).reshape(-1)\n",
    "    y_true = sp.special.inv_boxcox(y_val, lf_lambdas[i]).reshape(-1)\n",
    "    R2_all.append(r2_score(y_true, y_pred))\n",
    "    RMSE_all.append(mean_squared_error(y_true, y_pred, squared=False))\n",
    "    \n",
    "    y_pred_low = sp.special.inv_boxcox(y_pred_low0, lf_lambda).reshape(-1)\n",
    "    R2_all_low.append(r2_score(y_true, y_pred_low))\n",
    "    RMSE_all_low.append(mean_squared_error(y_true, y_pred_low, squared=False))\n",
    "\n",
    "    # 5th PERCENTILE\n",
    "    p5 = np.percentile(y_true, 5.0)\n",
    "    indx = [y_true <= p5][0]\n",
    "    x_val_p5 = x_val1[indx, :]\n",
    "    y_true_p5 = y_true[indx]\n",
    "    y_pred_p5 = y_pred[indx]\n",
    "    y_pred_p5_low = y_pred_low[indx]\n",
    "    RMSE_p5.append(mean_squared_error(y_true_p5, y_pred_p5, squared=False))\n",
    "    RMSE_p5_low.append(mean_squared_error(y_true_p5, y_pred_p5_low, squared=False))\n",
    "\n",
    "    # 95th PERCENTILE\n",
    "    p95 = np.percentile(y_true, 95.0)\n",
    "    indx = [y_true >= p95][0]\n",
    "    x_val_p95 = x_val1[indx]\n",
    "    y_true_p95 = y_true[indx]\n",
    "    y_pred_p95 = y_pred[indx]\n",
    "    y_pred_p95_low = y_pred_low[indx]\n",
    "    RMSE_p95.append(mean_squared_error(y_true_p95, y_pred_p95, squared=False))\n",
    "    RMSE_p95_low.append(mean_squared_error(y_true_p95, y_pred_p95_low, squared=False))\n",
    "                        \n",
    "    # MSLL\n",
    "    ll = msll(y_val, y_pred0, y_var0)\n",
    "    ll_low = msll(y_val, y_pred_low0, y_var_low0)\n",
    "    MSLL.append(ll)\n",
    "    MSLL_low.append(ll_low)\n",
    "    \n",
    "    r2_high, r2_low = r2_low_vs_high(y_pred_low, y_pred, x_val1, y_true)\n",
    "    r2_high_list.append(r2_high)\n",
    "    r2_low_list.append(r2_low)"
   ]
  },
  {
   "cell_type": "code",
   "execution_count": 30,
   "id": "75ffbcbb",
   "metadata": {},
   "outputs": [
    {
     "name": "stdout",
     "output_type": "stream",
     "text": [
      "  \u001b[1mindex\u001b[0;0m  |  gp.multifidelity.Mat52_1.lengthscale  |  constraints  |  priors\n",
      "  \u001b[1m[0]  \u001b[0;0m  |                            0.03993688  |      +ve      |        \n",
      "  \u001b[1m[1]  \u001b[0;0m  |                            0.20328902  |      +ve      |        \n",
      "  \u001b[1m[2]  \u001b[0;0m  |                            0.12667011  |      +ve      |        \n",
      "  \u001b[1m[3]  \u001b[0;0m  |                            0.48907254  |      +ve      |        \n"
     ]
    }
   ],
   "source": [
    "print(gpy_lin_mf_model.multifidelity.Mat52_1.lengthscale)\n"
   ]
  },
  {
   "cell_type": "code",
   "execution_count": 36,
   "id": "c03c873e-89ee-4963-9018-6a94d9c39292",
   "metadata": {},
   "outputs": [
    {
     "name": "stdout",
     "output_type": "stream",
     "text": [
      "Mean RMSE =  1.1288174216277413 ± 0.45955825345996737\n",
      "Mean R2 =  0.6180231256311904 ± 0.10646565424263782\n",
      "5th RMSE =  0.5652902009825029 ± 0.23832664507962512\n",
      "95th RMSE =  3.001644981397689 ± 1.5755066408650757\n",
      "MSLL=  0.9044514227576208 ± 0.19855495122324227\n",
      "Mean RMSE =  1.2059885816345628 ± 0.4592714269204212\n",
      "Mean R2 =  0.5474398303518873 ± 0.14323051517276358\n",
      "5th RMSE =  0.5875472687144019 ± 0.29444462409967453\n",
      "95th RMSE =  2.841226967200339 ± 1.1729332246925321\n",
      "MSLL=  18705811.2223 ± 7429526.352754536\n"
     ]
    }
   ],
   "source": [
    "print('Mean RMSE = ', np.mean(RMSE_all), '±', np.std(RMSE_all))\n",
    "print('Mean R2 = ', np.mean(R2_all), '±', np.std(R2_all))\n",
    "print('5th RMSE = ', np.mean(RMSE_p5), '±', np.std(RMSE_p5))\n",
    "print('95th RMSE = ', np.mean(RMSE_p95), '±', np.std(RMSE_p95))\n",
    "print('MSLL= ', np.mean(MSLL), '±', np.std(MSLL))\n",
    "                        \n",
    "print('Mean RMSE = ', np.mean(RMSE_all_low), '±', np.std(RMSE_all_low))\n",
    "print('Mean R2 = ', np.mean(R2_all_low), '±', np.std(R2_all_low))\n",
    "print('5th RMSE = ', np.mean(RMSE_p5_low), '±', np.std(RMSE_p5_low))\n",
    "print('95th RMSE = ', np.mean(RMSE_p95_low), '±', np.std(RMSE_p95_low))\n",
    "print('MSLL= ', np.mean(MSLL_low), '±', np.std(MSLL_low))\n",
    "\n",
    "np.save('exp1_ypred_lf_r2_2000-2005.npy', r2_low_list)\n",
    "np.save('exp1_ypred_hf_r2_2000-2005.npy', r2_high_list)"
   ]
  },
  {
   "cell_type": "code",
   "execution_count": 33,
   "id": "ab599486",
   "metadata": {},
   "outputs": [
    {
     "data": {
      "text/plain": [
       "[0.6185843494697647,\n",
       " 0.43893394697099797,\n",
       " 0.6464235774513374,\n",
       " 0.7768774566962863,\n",
       " 0.6166973725289622]"
      ]
     },
     "execution_count": 33,
     "metadata": {},
     "output_type": "execute_result"
    }
   ],
   "source": [
    "R2_all"
   ]
  },
  {
   "cell_type": "markdown",
   "id": "868bc7e5-c098-4ee7-b6e7-7bd50067bf89",
   "metadata": {
    "jp-MarkdownHeadingCollapsed": true,
    "tags": []
   },
   "source": [
    "## GP model on gauge data"
   ]
  },
  {
   "cell_type": "code",
   "execution_count": 13,
   "id": "54438d2c-40a1-41e9-a7d1-b452b3e91a49",
   "metadata": {},
   "outputs": [],
   "source": [
    "R2_all = []\n",
    "RMSE_all = []\n",
    "RMSE_p5 = []\n",
    "RMSE_p95 = []\n",
    "MSLL = []\n",
    "\n",
    "for i in range(len(cv_train_list)):\n",
    "\n",
    "    x_train_hf1, y_train_hf = cv_x_train_hf[i], cv_y_train_hf[i]\n",
    "    x_val1, y_val = cv_x_val[i], cv_y_val[i]\n",
    "    \n",
    "    # Input data\n",
    "    kernel = GPy.kern.StdPeriodic(1, active_dims=[0], period=1) * GPy.kern.RBF(1, active_dims=[0]) + GPy.kern.RBF(3, active_dims=[1,2,3], ARD=True)\n",
    "    m = GPy.models.GPRegression(x_train_hf1, y_train_hf, kernel)\n",
    "    m.optimize_restarts(num_restarts = 5)\n",
    "    \n",
    "    y_pred0, y_var0 = m.predict(x_val1)\n",
    "    \n",
    "    y_pred = sp.special.inv_boxcox(y_pred0, lf_lambda).reshape(-1)\n",
    "    y_true = sp.special.inv_boxcox(y_val, lf_lambda).reshape(-1)\n",
    "    R2_all.append(r2_score(y_true, y_pred))\n",
    "    RMSE_all.append(mean_squared_error(y_true, y_pred, squared=False))\n",
    "    \n",
    "    # 5th PERCENTILE\n",
    "    p5 = np.percentile(y_true, 5.0)\n",
    "    indx = [y_true <= p5][0]\n",
    "    x_val_p5 = x_val1[indx, :]\n",
    "    y_true_p5 = y_true[indx]\n",
    "    y_pred_p5 = y_pred[indx]\n",
    "    RMSE_p5.append(mean_squared_error(y_true_p5, y_pred_p5, squared=False))\n",
    "\n",
    "    # 95th PERCENTILE\n",
    "    p95 = np.percentile(y_true, 95.0)\n",
    "    indx = [y_true >= p95][0]\n",
    "    x_val_p95 = x_va1l[indx]\n",
    "    y_true_p95 = y_true[indx]\n",
    "    y_pred_p95 = y_pred[indx]\n",
    "    RMSE_p95.append(mean_squared_error(y_true_p95, y_pred_p95, squared=False))\n",
    "    \n",
    "    # MSLL\n",
    "    ll = msll(y_val, y_pred0, y_var0)\n",
    "    MSLL.append(ll)"
   ]
  },
  {
   "cell_type": "code",
   "execution_count": 23,
   "id": "32a600c6",
   "metadata": {},
   "outputs": [
    {
     "name": "stdout",
     "output_type": "stream",
     "text": [
      "  \u001b[1mindex\u001b[0;0m  |  gp.multifidelity.rbf.lengthscale  |  constraints  |  priors\n",
      "  \u001b[1m[0]  \u001b[0;0m  |                        0.04363753  |      +ve      |        \n",
      "  \u001b[1m[1]  \u001b[0;0m  |                        0.33917221  |      +ve      |        \n",
      "  \u001b[1m[2]  \u001b[0;0m  |                        0.26411480  |      +ve      |        \n",
      "  \u001b[1m[3]  \u001b[0;0m  |                        0.49906948  |      +ve      |        \n"
     ]
    }
   ],
   "source": [
    "\n"
   ]
  },
  {
   "cell_type": "code",
   "execution_count": 27,
   "id": "2870fdcd-cb6b-4429-ac5d-8bb56602b23e",
   "metadata": {},
   "outputs": [
    {
     "name": "stdout",
     "output_type": "stream",
     "text": [
      "GP on gauges\n",
      "Mean RMSE =  1.766620778217169 ± 0.45693719979232983\n",
      "Mean R2 =  -0.018762063464400326 ± 0.12908989365533002\n",
      "5th RMSE =  1.8763025060321297 ± 0.2470065166182675\n",
      "95th RMSE =  5.1869952472261325 ± 1.7614928997790533\n",
      "MSLL=  nan ± nan\n"
     ]
    },
    {
     "name": "stderr",
     "output_type": "stream",
     "text": [
      " /Users/kenzatazi/miniconda3/envs/mfdgp/lib/python3.8/site-packages/numpy/core/fromnumeric.py:3432: RuntimeWarning:Mean of empty slice.\n",
      " /Users/kenzatazi/miniconda3/envs/mfdgp/lib/python3.8/site-packages/numpy/core/_methods.py:190: RuntimeWarning:invalid value encountered in double_scalars\n",
      " /Users/kenzatazi/miniconda3/envs/mfdgp/lib/python3.8/site-packages/numpy/core/_methods.py:265: RuntimeWarning:Degrees of freedom <= 0 for slice\n",
      " /Users/kenzatazi/miniconda3/envs/mfdgp/lib/python3.8/site-packages/numpy/core/_methods.py:223: RuntimeWarning:invalid value encountered in divide\n",
      " /Users/kenzatazi/miniconda3/envs/mfdgp/lib/python3.8/site-packages/numpy/core/_methods.py:257: RuntimeWarning:invalid value encountered in double_scalars\n"
     ]
    }
   ],
   "source": [
    "print('GP on gauges')\n",
    "print('Mean RMSE = ', np.mean(RMSE_all), '±', np.std(RMSE_all))\n",
    "print('Mean R2 = ', np.mean(R2_all), '±', np.std(R2_all))\n",
    "print('5th RMSE = ', np.mean(RMSE_p5), '±', np.std(RMSE_p5))\n",
    "print('95th RMSE = ', np.mean(RMSE_p95), '±', np.std(RMSE_p95))\n",
    "print('MSLL= ', np.mean(MSLL), '±', np.std(MSLL))"
   ]
  },
  {
   "cell_type": "markdown",
   "id": "7f7f9059-a499-4df9-8ed0-1e5b85a9f8ae",
   "metadata": {
    "jp-MarkdownHeadingCollapsed": true,
    "tags": []
   },
   "source": [
    "## Linear regression on ERA5 data"
   ]
  },
  {
   "cell_type": "code",
   "execution_count": 20,
   "id": "9f502be3-bd40-43fa-9019-f7c41c7d1477",
   "metadata": {},
   "outputs": [],
   "source": [
    "R2_all = []\n",
    "RMSE_all = []\n",
    "RMSE_p5 = []\n",
    "RMSE_p95 = []\n",
    "MSLL = []\n",
    "\n",
    "for i in range(len(cv_train_list)):\n",
    "\n",
    "    x_train_lf1, y_train_lf = cv_x_train_lf[i], cv_y_train_lf[i]\n",
    "    x_val1, y_val = cv_x_val[i], cv_y_val[i]\n",
    "    \n",
    "    # Train and evaluate\n",
    "    linear_m = LinearRegression()\n",
    "    linear_m.fit(x_train_lf1, y_train_lf)\n",
    "    y_pred0 = linear_m.predict(x_val1)\n",
    "   \n",
    "    # ALL\n",
    "    y_pred = sp.special.inv_boxcox(y_pred0, lf_lambda).reshape(-1)\n",
    "    y_true = sp.special.inv_boxcox(y_val, lf_lambda).reshape(-1)\n",
    "    R2_all.append(r2_score(y_true, y_pred))\n",
    "    RMSE_all.append(mean_squared_error(y_true, y_pred, squared=False))\n",
    "    \n",
    "    # 5th PERCENTILE\n",
    "    p5 = np.percentile(y_true, 5.0)\n",
    "    indx = [y_true <= p5][0]\n",
    "    x_val_p5 = x_val1[indx, :]\n",
    "    y_true_p5 = y_true[indx]\n",
    "    y_pred_p5 = y_pred[indx]\n",
    "    RMSE_p5.append(mean_squared_error(y_true_p5, y_pred_p5, squared=False))\n",
    "   \n",
    "    # 95th PERCENTILE\n",
    "    p95 = np.percentile(y_true, 95.0)\n",
    "    indx = [y_true >= p95][0]\n",
    "    x_val_p95 = x_val1[indx]\n",
    "    y_true_p95 = y_true[indx]\n",
    "    y_pred_p95 = y_pred[indx]\n",
    "    RMSE_p95.append(mean_squared_error(y_true_p95, y_pred_p95, squared=False))"
   ]
  },
  {
   "cell_type": "code",
   "execution_count": 22,
   "id": "35b73508-6f81-4262-9ada-842babab9a46",
   "metadata": {},
   "outputs": [
    {
     "name": "stdout",
     "output_type": "stream",
     "text": [
      "Lin Reg on ERA5\n",
      "Mean RMSE =  1.766620778217169 ± 0.45693719979232983\n",
      "Mean R2 =  -0.018762063464400326 ± 0.12908989365533002\n",
      "5th RMSE =  1.8763025060321297 ± 0.2470065166182675\n",
      "95th RMSE =  5.1869952472261325 ± 1.7614928997790533\n"
     ]
    }
   ],
   "source": [
    "print('Lin Reg on ERA5')\n",
    "print('Mean RMSE = ', np.mean(RMSE_all), '±', np.std(RMSE_all))\n",
    "print('Mean R2 = ', np.mean(R2_all), '±', np.std(R2_all))\n",
    "print('5th RMSE = ', np.mean(RMSE_p5), '±', np.std(RMSE_p5))\n",
    "print('95th RMSE = ', np.mean(RMSE_p95), '±', np.std(RMSE_p95))"
   ]
  }
 ],
 "metadata": {
  "kernelspec": {
   "display_name": "base",
   "language": "python",
   "name": "python3"
  },
  "language_info": {
   "codemirror_mode": {
    "name": "ipython",
    "version": 3
   },
   "file_extension": ".py",
   "mimetype": "text/x-python",
   "name": "python",
   "nbconvert_exporter": "python",
   "pygments_lexer": "ipython3",
   "version": "3.8.16"
  },
  "vscode": {
   "interpreter": {
    "hash": "5426c688bd3257604544373d620790b2306efd3cd4ed9fb4532f758698a84368"
   }
  }
 },
 "nbformat": 4,
 "nbformat_minor": 5
}
