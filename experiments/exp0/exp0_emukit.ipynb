{
 "cells": [
  {
   "attachments": {},
   "cell_type": "markdown",
   "id": "220e1f89-e5db-4ea0-8762-c45193d0f19d",
   "metadata": {},
   "source": [
    "# Experiment 0"
   ]
  },
  {
   "cell_type": "code",
   "execution_count": 16,
   "id": "90f5db7b-5395-4d5d-9624-298733a7eccf",
   "metadata": {},
   "outputs": [],
   "source": [
    "import sys\n",
    "sys.path.append('/Users/kenzatazi/Documents/CDT/Code')\n",
    "\n",
    "from load import era5, data_dir, value\n",
    "from sklearn.preprocessing import MinMaxScaler, StandardScaler\n",
    "from matplotlib import pyplot as plt\n",
    "import pandas as pd\n",
    "import numpy as np\n",
    "import GPy\n",
    "from tqdm import tqdm\n",
    "import scipy as sp\n",
    "from sklearn.metrics import mean_squared_error, r2_score\n",
    "from sklearn.model_selection import KFold\n",
    "from mfdgp.utils.metrics import msll, r2_low_vs_high"
   ]
  },
  {
   "cell_type": "code",
   "execution_count": 6,
   "id": "070628eb-456f-4eb2-88e8-326efaa47f02",
   "metadata": {},
   "outputs": [],
   "source": [
    "from sklearn.linear_model import LinearRegression\n",
    "from sklearn.metrics import mean_squared_error, r2_score"
   ]
  },
  {
   "cell_type": "code",
   "execution_count": 5,
   "id": "d5d3cf61-9e60-402e-b56d-104888050963",
   "metadata": {},
   "outputs": [],
   "source": [
    "import emukit\n",
    "from emukit.model_wrappers.gpy_model_wrappers import GPyMultiOutputWrapper\n",
    "from emukit.multi_fidelity.models import GPyLinearMultiFidelityModel\n",
    "from emukit.multi_fidelity.convert_lists_to_array import convert_x_list_to_array, convert_xy_lists_to_arrays"
   ]
  },
  {
   "cell_type": "markdown",
   "id": "82901517-73c8-4c78-8383-f0a82b56bd31",
   "metadata": {
    "tags": []
   },
   "source": [
    "## Prepare data"
   ]
  },
  {
   "cell_type": "code",
   "execution_count": 19,
   "id": "67eee07c-9b61-491e-a122-342ec97f4206",
   "metadata": {},
   "outputs": [],
   "source": [
    "# Load data\n",
    "minyear = 2000\n",
    "maxyear = 2005"
   ]
  },
  {
   "cell_type": "code",
   "execution_count": 27,
   "id": "d8763cd5-a051-4c68-a40e-cb625db31004",
   "metadata": {},
   "outputs": [
    {
     "name": "stderr",
     "output_type": "stream",
     "text": [
      " /var/folders/jn/8my89c2536z23fm0t2l486340000gn/T/ipykernel_10299/3201607459.py:21: SettingWithCopyWarning:\n",
      "A value is trying to be set on a copy of a slice from a DataFrame\n",
      "\n",
      "See the caveats in the documentation: https://pandas.pydata.org/pandas-docs/stable/user_guide/indexing.html#returning-a-view-versus-a-copy\n"
     ]
    }
   ],
   "source": [
    "gauge_df = value.all_gauge_data(minyear, maxyear, monthly=True)\n",
    "station_names = gauge_df.drop_duplicates('name')['name']\n",
    "\n",
    "# Get CV scheme\n",
    "cv_locs = np.load('/Users/kenzatazi/Documents/CDT/Code/mfdgp/experiments/exp1/cv/exp1_cv_locs.npy')\n",
    "cv_locs = cv_locs.reshape(-1, 2)\n",
    "\n",
    "station_list = []\n",
    "for loc in cv_locs:\n",
    "    station_row = gauge_df[(gauge_df['latitude'] == loc[1]) | (gauge_df['longitude'] == loc[0])].iloc[0]\n",
    "    station_list.append(station_row['name'])\n",
    "station_arr = np.array(station_list)\n",
    "\n",
    "# Split indexes\n",
    "kf = KFold(n_splits=5)\n",
    "\n",
    "cv_train_list = []\n",
    "cv_test_list = []\n",
    "\n",
    "for train_index, test_index in kf.split(station_arr):\n",
    "    [station_names.drop(station_names.loc[station_names == l].index,\n",
    "                        inplace=True) for l in station_arr[test_index]]\n",
    "    hf_train = station_names.values \n",
    "    hf_test = station_arr[test_index]\n",
    "    cv_train_list.append(hf_train)\n",
    "    cv_test_list.append(hf_test)"
   ]
  },
  {
   "cell_type": "code",
   "execution_count": 28,
   "id": "5dfda015",
   "metadata": {},
   "outputs": [
    {
     "data": {
      "text/plain": [
       "[array(['GRAZ', 'INNSBRUCK', 'SALZBURG', 'SONNBLICK', 'WIEN', 'UCCLE',\n",
       "        'ZAGREB-GRIC', 'HELSINKI-KAISANIEMI', 'JYVASKYLA-LENTOASEMA',\n",
       "        'SODANKYLA', 'BOURGES', 'PARIS-14E', 'MARSEILLE-MARIGNANE',\n",
       "        'HOHENPEISSENBERG', 'POTSDAM', 'ZUGSPITZE', 'CORFU', 'LARISSA',\n",
       "        'METHONI', 'MILAN', 'CAGLIARI', 'ROMA-CIAMPINO',\n",
       "        'VERONA-VILLAFRANCA', 'KARASJOK', 'KJOEREMSGRENDE', 'FAERDER',\n",
       "        'VARDOE', 'KAUNAS', 'KLAIPEDA', 'BRAGANCA', 'LISBOA-GEOFISICA',\n",
       "        'ARAD', 'BUCURESTI-BANEASA', 'BADAJOZ-TALAVERA', 'MALAGA',\n",
       "        'NAVACERRADA', 'SAN-SEBASTIAN-IGUELDO',\n",
       "        'TORTOSA-OBSERVATORIO-DEL-EBRO', 'BASEL-BINNINGEN', 'LUGANO',\n",
       "        'SAENTIS', '\\tZUERISWITZERLAND', 'ESKDALEMUIR', 'OXFORD', 'WICK',\n",
       "        'RENNES', 'FOKSTUA', 'LEBA', 'SIEDLCE', 'HAPARANDA', 'STORNOWAY',\n",
       "        'VALLEY', 'MONT-AIGOUAL', 'SIBIU', 'GOTEBORG', 'VISBY',\n",
       "        'DRESDEN-KLOTZSCHE', 'JOKIOINEN-JOKIOISTEN', 'TOULOUSE-BLAGNAC',\n",
       "        'IASI', 'BIRZAI', 'LAZDIJAI', 'SANTIAGO-DE-COMPOSTELA', 'JACKVIK',\n",
       "        'SION', 'GOSPIC', 'HVAR', 'ZAVIZAN', 'BROCKEN', 'CONSTANTA',\n",
       "        'RHEINSTETTEN', 'PALMA-DE-MALLORCA', 'MADRID-BARAJAS',\n",
       "        'GIESSEN-WETTENBERG', 'ARKONA', 'OBERSTDORF', 'REGENSBURG',\n",
       "        'SALEN', 'SIIKAJOKI-REVONLAHTI'], dtype=object),\n",
       " array(['GRAZ', 'WIEN', 'UCCLE', 'ZAGREB-GRIC', 'HELSINKI-KAISANIEMI',\n",
       "        'JYVASKYLA-LENTOASEMA', 'SODANKYLA', 'BOURGES', 'PARIS-14E',\n",
       "        'MARSEILLE-MARIGNANE', 'POTSDAM', 'CORFU', 'LARISSA', 'METHONI',\n",
       "        'MILAN', 'CAGLIARI', 'ROMA-CIAMPINO', 'VERONA-VILLAFRANCA',\n",
       "        'KARASJOK', 'KJOEREMSGRENDE', 'FAERDER', 'VARDOE', 'KAUNAS',\n",
       "        'KLAIPEDA', 'BRAGANCA', 'LISBOA-GEOFISICA', 'ARAD',\n",
       "        'BUCURESTI-BANEASA', 'BADAJOZ-TALAVERA', 'MALAGA', 'NAVACERRADA',\n",
       "        'SAN-SEBASTIAN-IGUELDO', 'TORTOSA-OBSERVATORIO-DEL-EBRO',\n",
       "        'BASEL-BINNINGEN', 'LUGANO', 'SAENTIS', '\\tZUERISWITZERLAND',\n",
       "        'ESKDALEMUIR', 'OXFORD', 'WICK', 'RENNES', 'FOKSTUA', 'LEBA',\n",
       "        'SIEDLCE', 'HAPARANDA', 'STORNOWAY', 'VALLEY', 'MONT-AIGOUAL',\n",
       "        'SIBIU', 'GOTEBORG', 'VISBY', 'DRESDEN-KLOTZSCHE',\n",
       "        'JOKIOINEN-JOKIOISTEN', 'TOULOUSE-BLAGNAC', 'IASI', 'BIRZAI',\n",
       "        'LAZDIJAI', 'SANTIAGO-DE-COMPOSTELA', 'JACKVIK', 'SION', 'GOSPIC',\n",
       "        'HVAR', 'ZAVIZAN', 'BROCKEN', 'CONSTANTA', 'RHEINSTETTEN',\n",
       "        'PALMA-DE-MALLORCA', 'MADRID-BARAJAS', 'GIESSEN-WETTENBERG',\n",
       "        'ARKONA', 'SALEN', 'SIIKAJOKI-REVONLAHTI'], dtype=object),\n",
       " array(['GRAZ', 'WIEN', 'UCCLE', 'ZAGREB-GRIC', 'HELSINKI-KAISANIEMI',\n",
       "        'JYVASKYLA-LENTOASEMA', 'SODANKYLA', 'BOURGES', 'PARIS-14E',\n",
       "        'MARSEILLE-MARIGNANE', 'POTSDAM', 'CORFU', 'LARISSA', 'METHONI',\n",
       "        'MILAN', 'CAGLIARI', 'ROMA-CIAMPINO', 'VERONA-VILLAFRANCA',\n",
       "        'KARASJOK', 'KJOEREMSGRENDE', 'FAERDER', 'VARDOE', 'KAUNAS',\n",
       "        'KLAIPEDA', 'LISBOA-GEOFISICA', 'ARAD', 'BUCURESTI-BANEASA',\n",
       "        'BADAJOZ-TALAVERA', 'MALAGA', 'BASEL-BINNINGEN', 'LUGANO',\n",
       "        'SAENTIS', '\\tZUERISWITZERLAND', 'ESKDALEMUIR', 'OXFORD', 'WICK',\n",
       "        'RENNES', 'FOKSTUA', 'LEBA', 'SIEDLCE', 'HAPARANDA', 'STORNOWAY',\n",
       "        'VALLEY', 'MONT-AIGOUAL', 'SIBIU', 'GOTEBORG', 'VISBY',\n",
       "        'DRESDEN-KLOTZSCHE', 'JOKIOINEN-JOKIOISTEN', 'IASI', 'BIRZAI',\n",
       "        'LAZDIJAI', 'SANTIAGO-DE-COMPOSTELA', 'JACKVIK', 'SION', 'GOSPIC',\n",
       "        'HVAR', 'ZAVIZAN', 'BROCKEN', 'CONSTANTA', 'RHEINSTETTEN',\n",
       "        'GIESSEN-WETTENBERG', 'ARKONA', 'SALEN', 'SIIKAJOKI-REVONLAHTI'],\n",
       "       dtype=object),\n",
       " array(['GRAZ', 'WIEN', 'UCCLE', 'ZAGREB-GRIC', 'SODANKYLA', 'BOURGES',\n",
       "        'PARIS-14E', 'MARSEILLE-MARIGNANE', 'POTSDAM', 'CORFU', 'LARISSA',\n",
       "        'METHONI', 'MILAN', 'CAGLIARI', 'ROMA-CIAMPINO',\n",
       "        'VERONA-VILLAFRANCA', 'KARASJOK', 'KJOEREMSGRENDE', 'FAERDER',\n",
       "        'VARDOE', 'KAUNAS', 'LISBOA-GEOFISICA', 'ARAD',\n",
       "        'BUCURESTI-BANEASA', 'BADAJOZ-TALAVERA', 'MALAGA',\n",
       "        'BASEL-BINNINGEN', 'LUGANO', 'SAENTIS', '\\tZUERISWITZERLAND',\n",
       "        'ESKDALEMUIR', 'OXFORD', 'WICK', 'RENNES', 'FOKSTUA', 'LEBA',\n",
       "        'SIEDLCE', 'STORNOWAY', 'VALLEY', 'MONT-AIGOUAL', 'SIBIU',\n",
       "        'GOTEBORG', 'VISBY', 'DRESDEN-KLOTZSCHE', 'IASI', 'LAZDIJAI',\n",
       "        'SANTIAGO-DE-COMPOSTELA', 'JACKVIK', 'SION', 'GOSPIC', 'HVAR',\n",
       "        'ZAVIZAN', 'BROCKEN', 'CONSTANTA', 'RHEINSTETTEN',\n",
       "        'GIESSEN-WETTENBERG', 'ARKONA', 'SALEN'], dtype=object),\n",
       " array(['GRAZ', 'WIEN', 'UCCLE', 'ZAGREB-GRIC', 'SODANKYLA', 'BOURGES',\n",
       "        'PARIS-14E', 'MARSEILLE-MARIGNANE', 'POTSDAM', 'METHONI', 'MILAN',\n",
       "        'CAGLIARI', 'ROMA-CIAMPINO', 'VERONA-VILLAFRANCA', 'KARASJOK',\n",
       "        'KJOEREMSGRENDE', 'FAERDER', 'VARDOE', 'KAUNAS',\n",
       "        'LISBOA-GEOFISICA', 'BADAJOZ-TALAVERA', 'MALAGA',\n",
       "        'BASEL-BINNINGEN', 'LUGANO', 'SAENTIS', '\\tZUERISWITZERLAND',\n",
       "        'ESKDALEMUIR', 'OXFORD', 'WICK', 'RENNES', 'FOKSTUA', 'LEBA',\n",
       "        'SIEDLCE', 'STORNOWAY', 'VALLEY', 'MONT-AIGOUAL', 'GOTEBORG',\n",
       "        'VISBY', 'DRESDEN-KLOTZSCHE', 'LAZDIJAI', 'SANTIAGO-DE-COMPOSTELA',\n",
       "        'JACKVIK', 'SION', 'GOSPIC', 'HVAR', 'ZAVIZAN', 'BROCKEN',\n",
       "        'RHEINSTETTEN', 'GIESSEN-WETTENBERG', 'ARKONA', 'SALEN'],\n",
       "       dtype=object)]"
      ]
     },
     "execution_count": 28,
     "metadata": {},
     "output_type": "execute_result"
    }
   ],
   "source": [
    "cv_train_list\n"
   ]
  },
  {
   "cell_type": "code",
   "execution_count": 29,
   "id": "31dd72f5-95ee-4295-ad43-9078fb4e57c7",
   "metadata": {},
   "outputs": [
    {
     "name": "stdout",
     "output_type": "stream",
     "text": [
      "value\n",
      "/Users/kenzatazi/Documents/CDT/Code/data/ERA5/combi_data_value_03-2023.csv\n",
      "value\n",
      "/Users/kenzatazi/Documents/CDT/Code/data/ERA5/combi_data_value_03-2023.csv\n",
      "value\n",
      "/Users/kenzatazi/Documents/CDT/Code/data/ERA5/combi_data_value_03-2023.csv\n",
      "value\n",
      "/Users/kenzatazi/Documents/CDT/Code/data/ERA5/combi_data_value_03-2023.csv\n",
      "value\n",
      "/Users/kenzatazi/Documents/CDT/Code/data/ERA5/combi_data_value_03-2023.csv\n"
     ]
    }
   ],
   "source": [
    "# Split data\n",
    "cv_x_train_hf = []\n",
    "cv_y_train_hf = []\n",
    "cv_x_train_lf = []\n",
    "cv_y_train_lf = []\n",
    "cv_x_val = []\n",
    "cv_y_val = []\n",
    "lf_lambdas = []\n",
    "\n",
    "\n",
    "for i in range(len(cv_train_list)):\n",
    "\n",
    "    hf_train_list = []\n",
    "    for station in cv_train_list[i]:\n",
    "        station_ds = value.gauge_download(\n",
    "            station, minyear=minyear, maxyear=maxyear)\n",
    "        hf_train_list.append(station_ds.dropna().reset_index())\n",
    "    hf_train_df = pd.concat(hf_train_list)\n",
    "\n",
    "    val_list = []\n",
    "    for station in cv_test_list[i]:\n",
    "        station_ds = value.gauge_download(\n",
    "            station, minyear=minyear, maxyear=maxyear)\n",
    "        val_list.append(station_ds.dropna().reset_index())\n",
    "    val_df = pd.concat(val_list)\n",
    "\n",
    "    era5_df = era5.value_gauge_download(\n",
    "        list(cv_test_list[i]) + list(cv_train_list[i]), minyear=minyear, maxyear=maxyear)\n",
    "\n",
    "    lf_train_df = era5_df.reset_index()\n",
    "    \n",
    "    # Prepare data\n",
    "    \n",
    "    # Transformations\n",
    "    lf_train_df['tp_tr'], lf_lambda = sp.stats.boxcox(\n",
    "        lf_train_df['tp'].values + 0.01)\n",
    "    hf_train_df['tp_tr'] = sp.stats.boxcox(\n",
    "        hf_train_df['tp'].values + 0.01, lmbda=lf_lambda)\n",
    "    val_df['tp_tr'] = sp.stats.boxcox(\n",
    "        val_df['tp'].values + 0.01, lmbda=lf_lambda)\n",
    "\n",
    "    # Splitting\n",
    "    x_train_lf = lf_train_df[['time', 'lat', 'lon', 'z']].values.reshape(-1, 4)\n",
    "    y_train_lf = lf_train_df['tp_tr'].values.reshape(-1, 1)\n",
    "    x_train_hf = hf_train_df[['time', 'latitude', 'longitude', 'altitude']].values.reshape(-1, 4)\n",
    "    y_train_hf = hf_train_df[['tp_tr']].values.reshape(-1, 1)\n",
    "    x_val = val_df[['time', 'latitude', 'longitude', 'altitude']].values.reshape(-1, 4)\n",
    "    y_val = val_df['tp_tr'].values.reshape(-1, 1)\n",
    "\n",
    "    # Scaling\n",
    "    scaler = StandardScaler().fit(x_train_hf)\n",
    "    x_train_hf1 = scaler.transform(x_train_hf)\n",
    "    x_train_lf1 = scaler.transform(x_train_lf)\n",
    "    x_val1 = scaler.transform(x_val)\n",
    "    \n",
    "    cv_x_train_hf.append(x_train_hf1)\n",
    "    cv_y_train_hf.append(y_train_hf)\n",
    "    cv_x_train_lf.append(x_train_lf1)\n",
    "    cv_y_train_lf.append(y_train_lf)\n",
    "    cv_x_val.append(x_val1)\n",
    "    cv_y_val.append(y_val)\n",
    "    lf_lambdas.append(lf_lambda)\n"
   ]
  },
  {
   "cell_type": "code",
   "execution_count": 31,
   "id": "09610bd6-825a-413a-8c50-2049ad2cb272",
   "metadata": {},
   "outputs": [
    {
     "name": "stderr",
     "output_type": "stream",
     "text": [
      " /Users/kenzatazi/miniconda3/envs/mfdgp/lib/python3.8/site-packages/numpy/lib/npyio.py:521: VisibleDeprecationWarning:Creating an ndarray from ragged nested sequences (which is a list-or-tuple of lists-or-tuples-or ndarrays with different lengths or shapes) is deprecated. If you meant to do this, you must specify 'dtype=object' when creating the ndarray.\n"
     ]
    }
   ],
   "source": [
    "np.save('data/cv_x_train_hf_value0_2000-2005.npy', cv_x_train_hf)\n",
    "np.save('data/cv_y_train_hf_value0_2000-2005.npy', cv_y_train_hf)\n",
    "np.save('data/cv_x_train_lf_value0_2000-2005.npy', cv_x_train_lf)\n",
    "np.save('data/cv_y_train_lf_value0_2000-2005.npy', cv_y_train_lf)\n",
    "np.save('data/cv_y_val_value0_2000-2005.npy', cv_y_val)\n",
    "np.save('data/cv_x_val_value0_2000-2005.npy', cv_x_val)\n",
    "np.save('data/lf_lambda0_2000-2005.npy', lf_lambdas)"
   ]
  },
  {
   "cell_type": "markdown",
   "id": "6e92dcaa-731d-49f1-87a7-56806656a6d0",
   "metadata": {},
   "source": [
    "## Load data"
   ]
  },
  {
   "cell_type": "code",
   "execution_count": 3,
   "id": "30e4949c-5fc3-44c8-bb6c-596ac9e61bea",
   "metadata": {},
   "outputs": [],
   "source": [
    "cv_x_train_hf = np.load('data/cv_x_train_hf_value0_2000-2005.npy', allow_pickle=True)\n",
    "cv_y_train_hf = np.load('data/cv_y_train_hf_value0_2000-2005.npy', allow_pickle=True)\n",
    "cv_x_train_lf = np.load('data/cv_x_train_lf_value0_2000-2005.npy', allow_pickle=True)\n",
    "cv_y_train_lf = np.load('data/cv_y_train_lf_value0_2000-2005.npy', allow_pickle=True)\n",
    "cv_x_val = np.load('data/cv_x_val_value0_2000-2005.npy', allow_pickle=True)\n",
    "cv_y_val = np.load('data/cv_y_val_value0_2000-2005.npy', allow_pickle=True)\n",
    "lf_lambdas = np.load('data/lf_lambda0_2000-2005.npy', allow_pickle=True)"
   ]
  },
  {
   "cell_type": "markdown",
   "id": "34f5c511-90bd-4d8a-be1d-ed0b939252c4",
   "metadata": {},
   "source": [
    "## MFDGP"
   ]
  },
  {
   "cell_type": "code",
   "execution_count": 8,
   "id": "370e155e-5a8c-4cfb-bb14-a4e1ce2b391f",
   "metadata": {},
   "outputs": [
    {
     "ename": "KeyboardInterrupt",
     "evalue": "",
     "output_type": "error",
     "traceback": [
      "\u001b[0;31m---------------------------------------------------------------------------\u001b[0m",
      "\u001b[0;31mKeyboardInterrupt\u001b[0m                         Traceback (most recent call last)",
      "Cell \u001b[0;32mIn[8], line 26\u001b[0m\n\u001b[1;32m     24\u001b[0m lin_mf_kernel \u001b[39m=\u001b[39m emukit\u001b[39m.\u001b[39mmulti_fidelity\u001b[39m.\u001b[39mkernels\u001b[39m.\u001b[39mLinearMultiFidelityKernel(kernels)\n\u001b[1;32m     25\u001b[0m gpy_lin_mf_model \u001b[39m=\u001b[39m GPyLinearMultiFidelityModel(X_train, Y_train, lin_mf_kernel, n_fidelities\u001b[39m=\u001b[39m\u001b[39m2\u001b[39m,)\n\u001b[0;32m---> 26\u001b[0m gpy_lin_mf_model\u001b[39m.\u001b[39;49mmixed_noise\u001b[39m.\u001b[39;49mGaussian_noise\u001b[39m.\u001b[39;49mfix(\u001b[39m0\u001b[39;49m)\n\u001b[1;32m     27\u001b[0m gpy_lin_mf_model\u001b[39m.\u001b[39mmixed_noise\u001b[39m.\u001b[39mGaussian_noise_1\u001b[39m.\u001b[39mfix(\u001b[39m0\u001b[39m)\n\u001b[1;32m     28\u001b[0m lin_mf_model \u001b[39m=\u001b[39m GPyMultiOutputWrapper(gpy_lin_mf_model, \u001b[39m2\u001b[39m, n_optimization_restarts\u001b[39m=\u001b[39m\u001b[39m5\u001b[39m)\n",
      "File \u001b[0;32m~/miniconda3/envs/mfdgp/lib/python3.8/site-packages/paramz/core/constrainable.py:67\u001b[0m, in \u001b[0;36mConstrainable.constrain_fixed\u001b[0;34m(self, value, warning, trigger_parent)\u001b[0m\n\u001b[1;32m     65\u001b[0m index \u001b[39m=\u001b[39m \u001b[39mself\u001b[39m\u001b[39m.\u001b[39m_add_to_index_operations(\u001b[39mself\u001b[39m\u001b[39m.\u001b[39mconstraints, np\u001b[39m.\u001b[39mempty(\u001b[39m0\u001b[39m), __fixed__, warning)\n\u001b[1;32m     66\u001b[0m \u001b[39mself\u001b[39m\u001b[39m.\u001b[39m_highest_parent_\u001b[39m.\u001b[39m_set_fixed(\u001b[39mself\u001b[39m, index)\n\u001b[0;32m---> 67\u001b[0m \u001b[39mself\u001b[39;49m\u001b[39m.\u001b[39;49mnotify_observers(\u001b[39mself\u001b[39;49m, \u001b[39mNone\u001b[39;49;00m \u001b[39mif\u001b[39;49;00m trigger_parent \u001b[39melse\u001b[39;49;00m \u001b[39m-\u001b[39;49mnp\u001b[39m.\u001b[39;49minf)\n\u001b[1;32m     68\u001b[0m \u001b[39mreturn\u001b[39;00m index\n",
      "File \u001b[0;32m~/miniconda3/envs/mfdgp/lib/python3.8/site-packages/paramz/core/observable.py:91\u001b[0m, in \u001b[0;36mObservable.notify_observers\u001b[0;34m(self, which, min_priority)\u001b[0m\n\u001b[1;32m     89\u001b[0m     which \u001b[39m=\u001b[39m \u001b[39mself\u001b[39m\n\u001b[1;32m     90\u001b[0m \u001b[39mif\u001b[39;00m min_priority \u001b[39mis\u001b[39;00m \u001b[39mNone\u001b[39;00m:\n\u001b[0;32m---> 91\u001b[0m     [callble(\u001b[39mself\u001b[39m, which\u001b[39m=\u001b[39mwhich) \u001b[39mfor\u001b[39;00m _, _, callble \u001b[39min\u001b[39;00m \u001b[39mself\u001b[39m\u001b[39m.\u001b[39mobservers]\n\u001b[1;32m     92\u001b[0m \u001b[39melse\u001b[39;00m:\n\u001b[1;32m     93\u001b[0m     \u001b[39mfor\u001b[39;00m p, _, callble \u001b[39min\u001b[39;00m \u001b[39mself\u001b[39m\u001b[39m.\u001b[39mobservers:\n",
      "File \u001b[0;32m~/miniconda3/envs/mfdgp/lib/python3.8/site-packages/paramz/core/observable.py:91\u001b[0m, in \u001b[0;36m<listcomp>\u001b[0;34m(.0)\u001b[0m\n\u001b[1;32m     89\u001b[0m     which \u001b[39m=\u001b[39m \u001b[39mself\u001b[39m\n\u001b[1;32m     90\u001b[0m \u001b[39mif\u001b[39;00m min_priority \u001b[39mis\u001b[39;00m \u001b[39mNone\u001b[39;00m:\n\u001b[0;32m---> 91\u001b[0m     [callble(\u001b[39mself\u001b[39;49m, which\u001b[39m=\u001b[39;49mwhich) \u001b[39mfor\u001b[39;00m _, _, callble \u001b[39min\u001b[39;00m \u001b[39mself\u001b[39m\u001b[39m.\u001b[39mobservers]\n\u001b[1;32m     92\u001b[0m \u001b[39melse\u001b[39;00m:\n\u001b[1;32m     93\u001b[0m     \u001b[39mfor\u001b[39;00m p, _, callble \u001b[39min\u001b[39;00m \u001b[39mself\u001b[39m\u001b[39m.\u001b[39mobservers:\n",
      "File \u001b[0;32m~/miniconda3/envs/mfdgp/lib/python3.8/site-packages/paramz/core/parameter_core.py:510\u001b[0m, in \u001b[0;36mParameterizable._pass_through_notify_observers\u001b[0;34m(self, me, which)\u001b[0m\n\u001b[1;32m    509\u001b[0m \u001b[39mdef\u001b[39;00m \u001b[39m_pass_through_notify_observers\u001b[39m(\u001b[39mself\u001b[39m, me, which\u001b[39m=\u001b[39m\u001b[39mNone\u001b[39;00m):\n\u001b[0;32m--> 510\u001b[0m     \u001b[39mself\u001b[39;49m\u001b[39m.\u001b[39;49mnotify_observers(which\u001b[39m=\u001b[39;49mwhich)\n",
      "File \u001b[0;32m~/miniconda3/envs/mfdgp/lib/python3.8/site-packages/paramz/core/observable.py:91\u001b[0m, in \u001b[0;36mObservable.notify_observers\u001b[0;34m(self, which, min_priority)\u001b[0m\n\u001b[1;32m     89\u001b[0m     which \u001b[39m=\u001b[39m \u001b[39mself\u001b[39m\n\u001b[1;32m     90\u001b[0m \u001b[39mif\u001b[39;00m min_priority \u001b[39mis\u001b[39;00m \u001b[39mNone\u001b[39;00m:\n\u001b[0;32m---> 91\u001b[0m     [callble(\u001b[39mself\u001b[39m, which\u001b[39m=\u001b[39mwhich) \u001b[39mfor\u001b[39;00m _, _, callble \u001b[39min\u001b[39;00m \u001b[39mself\u001b[39m\u001b[39m.\u001b[39mobservers]\n\u001b[1;32m     92\u001b[0m \u001b[39melse\u001b[39;00m:\n\u001b[1;32m     93\u001b[0m     \u001b[39mfor\u001b[39;00m p, _, callble \u001b[39min\u001b[39;00m \u001b[39mself\u001b[39m\u001b[39m.\u001b[39mobservers:\n",
      "File \u001b[0;32m~/miniconda3/envs/mfdgp/lib/python3.8/site-packages/paramz/core/observable.py:91\u001b[0m, in \u001b[0;36m<listcomp>\u001b[0;34m(.0)\u001b[0m\n\u001b[1;32m     89\u001b[0m     which \u001b[39m=\u001b[39m \u001b[39mself\u001b[39m\n\u001b[1;32m     90\u001b[0m \u001b[39mif\u001b[39;00m min_priority \u001b[39mis\u001b[39;00m \u001b[39mNone\u001b[39;00m:\n\u001b[0;32m---> 91\u001b[0m     [callble(\u001b[39mself\u001b[39;49m, which\u001b[39m=\u001b[39;49mwhich) \u001b[39mfor\u001b[39;00m _, _, callble \u001b[39min\u001b[39;00m \u001b[39mself\u001b[39m\u001b[39m.\u001b[39mobservers]\n\u001b[1;32m     92\u001b[0m \u001b[39melse\u001b[39;00m:\n\u001b[1;32m     93\u001b[0m     \u001b[39mfor\u001b[39;00m p, _, callble \u001b[39min\u001b[39;00m \u001b[39mself\u001b[39m\u001b[39m.\u001b[39mobservers:\n",
      "File \u001b[0;32m~/miniconda3/envs/mfdgp/lib/python3.8/site-packages/paramz/core/parameter_core.py:510\u001b[0m, in \u001b[0;36mParameterizable._pass_through_notify_observers\u001b[0;34m(self, me, which)\u001b[0m\n\u001b[1;32m    509\u001b[0m \u001b[39mdef\u001b[39;00m \u001b[39m_pass_through_notify_observers\u001b[39m(\u001b[39mself\u001b[39m, me, which\u001b[39m=\u001b[39m\u001b[39mNone\u001b[39;00m):\n\u001b[0;32m--> 510\u001b[0m     \u001b[39mself\u001b[39;49m\u001b[39m.\u001b[39;49mnotify_observers(which\u001b[39m=\u001b[39;49mwhich)\n",
      "File \u001b[0;32m~/miniconda3/envs/mfdgp/lib/python3.8/site-packages/paramz/core/observable.py:91\u001b[0m, in \u001b[0;36mObservable.notify_observers\u001b[0;34m(self, which, min_priority)\u001b[0m\n\u001b[1;32m     89\u001b[0m     which \u001b[39m=\u001b[39m \u001b[39mself\u001b[39m\n\u001b[1;32m     90\u001b[0m \u001b[39mif\u001b[39;00m min_priority \u001b[39mis\u001b[39;00m \u001b[39mNone\u001b[39;00m:\n\u001b[0;32m---> 91\u001b[0m     [callble(\u001b[39mself\u001b[39m, which\u001b[39m=\u001b[39mwhich) \u001b[39mfor\u001b[39;00m _, _, callble \u001b[39min\u001b[39;00m \u001b[39mself\u001b[39m\u001b[39m.\u001b[39mobservers]\n\u001b[1;32m     92\u001b[0m \u001b[39melse\u001b[39;00m:\n\u001b[1;32m     93\u001b[0m     \u001b[39mfor\u001b[39;00m p, _, callble \u001b[39min\u001b[39;00m \u001b[39mself\u001b[39m\u001b[39m.\u001b[39mobservers:\n",
      "File \u001b[0;32m~/miniconda3/envs/mfdgp/lib/python3.8/site-packages/paramz/core/observable.py:91\u001b[0m, in \u001b[0;36m<listcomp>\u001b[0;34m(.0)\u001b[0m\n\u001b[1;32m     89\u001b[0m     which \u001b[39m=\u001b[39m \u001b[39mself\u001b[39m\n\u001b[1;32m     90\u001b[0m \u001b[39mif\u001b[39;00m min_priority \u001b[39mis\u001b[39;00m \u001b[39mNone\u001b[39;00m:\n\u001b[0;32m---> 91\u001b[0m     [callble(\u001b[39mself\u001b[39;49m, which\u001b[39m=\u001b[39;49mwhich) \u001b[39mfor\u001b[39;00m _, _, callble \u001b[39min\u001b[39;00m \u001b[39mself\u001b[39m\u001b[39m.\u001b[39mobservers]\n\u001b[1;32m     92\u001b[0m \u001b[39melse\u001b[39;00m:\n\u001b[1;32m     93\u001b[0m     \u001b[39mfor\u001b[39;00m p, _, callble \u001b[39min\u001b[39;00m \u001b[39mself\u001b[39m\u001b[39m.\u001b[39mobservers:\n",
      "File \u001b[0;32m~/miniconda3/envs/mfdgp/lib/python3.8/site-packages/paramz/core/parameter_core.py:508\u001b[0m, in \u001b[0;36mParameterizable._parameters_changed_notification\u001b[0;34m(self, me, which)\u001b[0m\n\u001b[1;32m    503\u001b[0m \u001b[39m\"\"\"\u001b[39;00m\n\u001b[1;32m    504\u001b[0m \u001b[39mIn parameterizable we just need to make sure, that the next call to optimizer_array\u001b[39;00m\n\u001b[1;32m    505\u001b[0m \u001b[39mwill update the optimizer_array to the latest parameters\u001b[39;00m\n\u001b[1;32m    506\u001b[0m \u001b[39m\"\"\"\u001b[39;00m\n\u001b[1;32m    507\u001b[0m \u001b[39mself\u001b[39m\u001b[39m.\u001b[39m_optimizer_copy_transformed \u001b[39m=\u001b[39m \u001b[39mFalse\u001b[39;00m \u001b[39m# tells the optimizer array to update on next request\u001b[39;00m\n\u001b[0;32m--> 508\u001b[0m \u001b[39mself\u001b[39;49m\u001b[39m.\u001b[39;49mparameters_changed()\n",
      "File \u001b[0;32m~/miniconda3/envs/mfdgp/lib/python3.8/site-packages/GPy/core/gp.py:274\u001b[0m, in \u001b[0;36mGP.parameters_changed\u001b[0;34m(self)\u001b[0m\n\u001b[1;32m    265\u001b[0m \u001b[39mdef\u001b[39;00m \u001b[39mparameters_changed\u001b[39m(\u001b[39mself\u001b[39m):\n\u001b[1;32m    266\u001b[0m     \u001b[39m\"\"\"\u001b[39;00m\n\u001b[1;32m    267\u001b[0m \u001b[39m    Method that is called upon any changes to :class:`~GPy.core.parameterization.param.Param` variables within the model.\u001b[39;00m\n\u001b[1;32m    268\u001b[0m \u001b[39m    In particular in the GP class this method re-performs inference, recalculating the posterior and log marginal likelihood and gradients of the model\u001b[39;00m\n\u001b[0;32m   (...)\u001b[0m\n\u001b[1;32m    272\u001b[0m \u001b[39m        this method yourself, there may be unexpected consequences.\u001b[39;00m\n\u001b[1;32m    273\u001b[0m \u001b[39m    \"\"\"\u001b[39;00m\n\u001b[0;32m--> 274\u001b[0m     \u001b[39mself\u001b[39m\u001b[39m.\u001b[39mposterior, \u001b[39mself\u001b[39m\u001b[39m.\u001b[39m_log_marginal_likelihood, \u001b[39mself\u001b[39m\u001b[39m.\u001b[39mgrad_dict \u001b[39m=\u001b[39m \u001b[39mself\u001b[39;49m\u001b[39m.\u001b[39;49minference_method\u001b[39m.\u001b[39;49minference(\u001b[39mself\u001b[39;49m\u001b[39m.\u001b[39;49mkern, \u001b[39mself\u001b[39;49m\u001b[39m.\u001b[39;49mX, \u001b[39mself\u001b[39;49m\u001b[39m.\u001b[39;49mlikelihood, \u001b[39mself\u001b[39;49m\u001b[39m.\u001b[39;49mY_normalized, \u001b[39mself\u001b[39;49m\u001b[39m.\u001b[39;49mmean_function, \u001b[39mself\u001b[39;49m\u001b[39m.\u001b[39;49mY_metadata)\n\u001b[1;32m    275\u001b[0m     \u001b[39mself\u001b[39m\u001b[39m.\u001b[39mlikelihood\u001b[39m.\u001b[39mupdate_gradients(\u001b[39mself\u001b[39m\u001b[39m.\u001b[39mgrad_dict[\u001b[39m'\u001b[39m\u001b[39mdL_dthetaL\u001b[39m\u001b[39m'\u001b[39m])\n\u001b[1;32m    276\u001b[0m     \u001b[39mself\u001b[39m\u001b[39m.\u001b[39mkern\u001b[39m.\u001b[39mupdate_gradients_full(\u001b[39mself\u001b[39m\u001b[39m.\u001b[39mgrad_dict[\u001b[39m'\u001b[39m\u001b[39mdL_dK\u001b[39m\u001b[39m'\u001b[39m], \u001b[39mself\u001b[39m\u001b[39m.\u001b[39mX)\n",
      "File \u001b[0;32m~/miniconda3/envs/mfdgp/lib/python3.8/site-packages/GPy/inference/latent_function_inference/exact_gaussian_inference.py:53\u001b[0m, in \u001b[0;36mExactGaussianInference.inference\u001b[0;34m(self, kern, X, likelihood, Y, mean_function, Y_metadata, K, variance, Z_tilde)\u001b[0m\n\u001b[1;32m     50\u001b[0m YYT_factor \u001b[39m=\u001b[39m Y\u001b[39m-\u001b[39mm\n\u001b[1;32m     52\u001b[0m \u001b[39mif\u001b[39;00m K \u001b[39mis\u001b[39;00m \u001b[39mNone\u001b[39;00m:\n\u001b[0;32m---> 53\u001b[0m     K \u001b[39m=\u001b[39m kern\u001b[39m.\u001b[39;49mK(X)\n\u001b[1;32m     55\u001b[0m Ky \u001b[39m=\u001b[39m K\u001b[39m.\u001b[39mcopy()\n\u001b[1;32m     56\u001b[0m diag\u001b[39m.\u001b[39madd(Ky, variance\u001b[39m+\u001b[39m\u001b[39m1e-8\u001b[39m)\n",
      "File \u001b[0;32m~/miniconda3/envs/mfdgp/lib/python3.8/site-packages/GPy/kern/src/kernel_slice_operations.py:110\u001b[0m, in \u001b[0;36m_slice_K.<locals>.wrap\u001b[0;34m(self, X, X2, *a, **kw)\u001b[0m\n\u001b[1;32m    107\u001b[0m \u001b[39m@wraps\u001b[39m(f)\n\u001b[1;32m    108\u001b[0m \u001b[39mdef\u001b[39;00m \u001b[39mwrap\u001b[39m(\u001b[39mself\u001b[39m, X, X2 \u001b[39m=\u001b[39m \u001b[39mNone\u001b[39;00m, \u001b[39m*\u001b[39ma, \u001b[39m*\u001b[39m\u001b[39m*\u001b[39mkw):\n\u001b[1;32m    109\u001b[0m     \u001b[39mwith\u001b[39;00m _Slice_wrap(\u001b[39mself\u001b[39m, X, X2) \u001b[39mas\u001b[39;00m s:\n\u001b[0;32m--> 110\u001b[0m         ret \u001b[39m=\u001b[39m f(\u001b[39mself\u001b[39;49m, s\u001b[39m.\u001b[39;49mX, s\u001b[39m.\u001b[39;49mX2, \u001b[39m*\u001b[39;49ma, \u001b[39m*\u001b[39;49m\u001b[39m*\u001b[39;49mkw)\n\u001b[1;32m    111\u001b[0m     \u001b[39mreturn\u001b[39;00m ret\n",
      "File \u001b[0;32m~/miniconda3/envs/mfdgp/lib/python3.8/site-packages/emukit/multi_fidelity/kernels/linear_multi_fidelity_kernel.py:69\u001b[0m, in \u001b[0;36mLinearMultiFidelityKernel.K\u001b[0;34m(self, X, X2)\u001b[0m\n\u001b[1;32m     67\u001b[0m x2_this \u001b[39m=\u001b[39m X2[X2[:, \u001b[39m-\u001b[39m\u001b[39m1\u001b[39m] \u001b[39m==\u001b[39m i, :]\n\u001b[1;32m     68\u001b[0m \u001b[39mfor\u001b[39;00m k \u001b[39min\u001b[39;00m \u001b[39mrange\u001b[39m(np\u001b[39m.\u001b[39mmin((j \u001b[39m+\u001b[39m \u001b[39m1\u001b[39m, i \u001b[39m+\u001b[39m \u001b[39m1\u001b[39m))):\n\u001b[0;32m---> 69\u001b[0m     kernel \u001b[39m=\u001b[39m \u001b[39mself\u001b[39;49m\u001b[39m.\u001b[39;49mkernels[k]\u001b[39m.\u001b[39;49mK(x_this, x2_this)\n\u001b[1;32m     70\u001b[0m     scale_1 \u001b[39m=\u001b[39m np\u001b[39m.\u001b[39mprod(\u001b[39mself\u001b[39m\u001b[39m.\u001b[39mscaling_param[k:i])\n\u001b[1;32m     71\u001b[0m     scale_2 \u001b[39m=\u001b[39m np\u001b[39m.\u001b[39mprod(\u001b[39mself\u001b[39m\u001b[39m.\u001b[39mscaling_param[k:j])\n",
      "File \u001b[0;32m~/miniconda3/envs/mfdgp/lib/python3.8/site-packages/GPy/kern/src/kernel_slice_operations.py:110\u001b[0m, in \u001b[0;36m_slice_K.<locals>.wrap\u001b[0;34m(self, X, X2, *a, **kw)\u001b[0m\n\u001b[1;32m    107\u001b[0m \u001b[39m@wraps\u001b[39m(f)\n\u001b[1;32m    108\u001b[0m \u001b[39mdef\u001b[39;00m \u001b[39mwrap\u001b[39m(\u001b[39mself\u001b[39m, X, X2 \u001b[39m=\u001b[39m \u001b[39mNone\u001b[39;00m, \u001b[39m*\u001b[39ma, \u001b[39m*\u001b[39m\u001b[39m*\u001b[39mkw):\n\u001b[1;32m    109\u001b[0m     \u001b[39mwith\u001b[39;00m _Slice_wrap(\u001b[39mself\u001b[39m, X, X2) \u001b[39mas\u001b[39;00m s:\n\u001b[0;32m--> 110\u001b[0m         ret \u001b[39m=\u001b[39m f(\u001b[39mself\u001b[39;49m, s\u001b[39m.\u001b[39;49mX, s\u001b[39m.\u001b[39;49mX2, \u001b[39m*\u001b[39;49ma, \u001b[39m*\u001b[39;49m\u001b[39m*\u001b[39;49mkw)\n\u001b[1;32m    111\u001b[0m     \u001b[39mreturn\u001b[39;00m ret\n",
      "File \u001b[0;32m~/miniconda3/envs/mfdgp/lib/python3.8/site-packages/decorator.py:232\u001b[0m, in \u001b[0;36mdecorate.<locals>.fun\u001b[0;34m(*args, **kw)\u001b[0m\n\u001b[1;32m    230\u001b[0m \u001b[39mif\u001b[39;00m \u001b[39mnot\u001b[39;00m kwsyntax:\n\u001b[1;32m    231\u001b[0m     args, kw \u001b[39m=\u001b[39m fix(args, kw, sig)\n\u001b[0;32m--> 232\u001b[0m \u001b[39mreturn\u001b[39;00m caller(func, \u001b[39m*\u001b[39;49m(extras \u001b[39m+\u001b[39;49m args), \u001b[39m*\u001b[39;49m\u001b[39m*\u001b[39;49mkw)\n",
      "File \u001b[0;32m~/miniconda3/envs/mfdgp/lib/python3.8/site-packages/paramz/caching.py:283\u001b[0m, in \u001b[0;36mCache_this.__call__.<locals>.g\u001b[0;34m(obj, *args, **kw)\u001b[0m\n\u001b[1;32m    281\u001b[0m \u001b[39melse\u001b[39;00m:\n\u001b[1;32m    282\u001b[0m     cacher \u001b[39m=\u001b[39m cache[\u001b[39mself\u001b[39m\u001b[39m.\u001b[39mf] \u001b[39m=\u001b[39m Cacher(\u001b[39mself\u001b[39m\u001b[39m.\u001b[39mf, \u001b[39mself\u001b[39m\u001b[39m.\u001b[39mlimit, \u001b[39mself\u001b[39m\u001b[39m.\u001b[39mignore_args, \u001b[39mself\u001b[39m\u001b[39m.\u001b[39mforce_kwargs, cacher_enabled\u001b[39m=\u001b[39mcache\u001b[39m.\u001b[39mcaching_enabled)\n\u001b[0;32m--> 283\u001b[0m \u001b[39mreturn\u001b[39;00m cacher(\u001b[39m*\u001b[39;49margs, \u001b[39m*\u001b[39;49m\u001b[39m*\u001b[39;49mkw)\n",
      "File \u001b[0;32m~/miniconda3/envs/mfdgp/lib/python3.8/site-packages/paramz/caching.py:179\u001b[0m, in \u001b[0;36mCacher.__call__\u001b[0;34m(self, *args, **kw)\u001b[0m\n\u001b[1;32m    176\u001b[0m \u001b[39mif\u001b[39;00m changed \u001b[39mor\u001b[39;00m not_seen:\n\u001b[1;32m    177\u001b[0m     \u001b[39m# If we need to compute, we compute the operation, but fail gracefully, if the operation has an error:\u001b[39;00m\n\u001b[1;32m    178\u001b[0m     \u001b[39mtry\u001b[39;00m:\n\u001b[0;32m--> 179\u001b[0m         new_output \u001b[39m=\u001b[39m \u001b[39mself\u001b[39;49m\u001b[39m.\u001b[39;49moperation(\u001b[39m*\u001b[39;49margs, \u001b[39m*\u001b[39;49m\u001b[39m*\u001b[39;49mkw)\n\u001b[1;32m    180\u001b[0m     \u001b[39mexcept\u001b[39;00m:\n\u001b[1;32m    181\u001b[0m         \u001b[39mself\u001b[39m\u001b[39m.\u001b[39mreset()\n",
      "File \u001b[0;32m~/miniconda3/envs/mfdgp/lib/python3.8/site-packages/GPy/kern/src/stationary.py:114\u001b[0m, in \u001b[0;36mStationary.K\u001b[0;34m(self, X, X2)\u001b[0m\n\u001b[1;32m    105\u001b[0m \u001b[39m@Cache_this\u001b[39m(limit\u001b[39m=\u001b[39m\u001b[39m3\u001b[39m, ignore_args\u001b[39m=\u001b[39m())\n\u001b[1;32m    106\u001b[0m \u001b[39mdef\u001b[39;00m \u001b[39mK\u001b[39m(\u001b[39mself\u001b[39m, X, X2\u001b[39m=\u001b[39m\u001b[39mNone\u001b[39;00m):\n\u001b[1;32m    107\u001b[0m     \u001b[39m\"\"\"\u001b[39;00m\n\u001b[1;32m    108\u001b[0m \u001b[39m    Kernel function applied on inputs X and X2.\u001b[39;00m\n\u001b[1;32m    109\u001b[0m \u001b[39m    In the stationary case there is an inner function depending on the\u001b[39;00m\n\u001b[0;32m   (...)\u001b[0m\n\u001b[1;32m    112\u001b[0m \u001b[39m    K(X, X2) = K_of_r((X-X2)**2)\u001b[39;00m\n\u001b[1;32m    113\u001b[0m \u001b[39m    \"\"\"\u001b[39;00m\n\u001b[0;32m--> 114\u001b[0m     r \u001b[39m=\u001b[39m \u001b[39mself\u001b[39;49m\u001b[39m.\u001b[39;49m_scaled_dist(X, X2)\n\u001b[1;32m    115\u001b[0m     \u001b[39mreturn\u001b[39;00m \u001b[39mself\u001b[39m\u001b[39m.\u001b[39mK_of_r(r)\n",
      "File \u001b[0;32m~/miniconda3/envs/mfdgp/lib/python3.8/site-packages/decorator.py:232\u001b[0m, in \u001b[0;36mdecorate.<locals>.fun\u001b[0;34m(*args, **kw)\u001b[0m\n\u001b[1;32m    230\u001b[0m \u001b[39mif\u001b[39;00m \u001b[39mnot\u001b[39;00m kwsyntax:\n\u001b[1;32m    231\u001b[0m     args, kw \u001b[39m=\u001b[39m fix(args, kw, sig)\n\u001b[0;32m--> 232\u001b[0m \u001b[39mreturn\u001b[39;00m caller(func, \u001b[39m*\u001b[39;49m(extras \u001b[39m+\u001b[39;49m args), \u001b[39m*\u001b[39;49m\u001b[39m*\u001b[39;49mkw)\n",
      "File \u001b[0;32m~/miniconda3/envs/mfdgp/lib/python3.8/site-packages/paramz/caching.py:283\u001b[0m, in \u001b[0;36mCache_this.__call__.<locals>.g\u001b[0;34m(obj, *args, **kw)\u001b[0m\n\u001b[1;32m    281\u001b[0m \u001b[39melse\u001b[39;00m:\n\u001b[1;32m    282\u001b[0m     cacher \u001b[39m=\u001b[39m cache[\u001b[39mself\u001b[39m\u001b[39m.\u001b[39mf] \u001b[39m=\u001b[39m Cacher(\u001b[39mself\u001b[39m\u001b[39m.\u001b[39mf, \u001b[39mself\u001b[39m\u001b[39m.\u001b[39mlimit, \u001b[39mself\u001b[39m\u001b[39m.\u001b[39mignore_args, \u001b[39mself\u001b[39m\u001b[39m.\u001b[39mforce_kwargs, cacher_enabled\u001b[39m=\u001b[39mcache\u001b[39m.\u001b[39mcaching_enabled)\n\u001b[0;32m--> 283\u001b[0m \u001b[39mreturn\u001b[39;00m cacher(\u001b[39m*\u001b[39;49margs, \u001b[39m*\u001b[39;49m\u001b[39m*\u001b[39;49mkw)\n",
      "File \u001b[0;32m~/miniconda3/envs/mfdgp/lib/python3.8/site-packages/paramz/caching.py:179\u001b[0m, in \u001b[0;36mCacher.__call__\u001b[0;34m(self, *args, **kw)\u001b[0m\n\u001b[1;32m    176\u001b[0m \u001b[39mif\u001b[39;00m changed \u001b[39mor\u001b[39;00m not_seen:\n\u001b[1;32m    177\u001b[0m     \u001b[39m# If we need to compute, we compute the operation, but fail gracefully, if the operation has an error:\u001b[39;00m\n\u001b[1;32m    178\u001b[0m     \u001b[39mtry\u001b[39;00m:\n\u001b[0;32m--> 179\u001b[0m         new_output \u001b[39m=\u001b[39m \u001b[39mself\u001b[39;49m\u001b[39m.\u001b[39;49moperation(\u001b[39m*\u001b[39;49margs, \u001b[39m*\u001b[39;49m\u001b[39m*\u001b[39;49mkw)\n\u001b[1;32m    180\u001b[0m     \u001b[39mexcept\u001b[39;00m:\n\u001b[1;32m    181\u001b[0m         \u001b[39mself\u001b[39m\u001b[39m.\u001b[39mreset()\n",
      "File \u001b[0;32m~/miniconda3/envs/mfdgp/lib/python3.8/site-packages/GPy/kern/src/stationary.py:166\u001b[0m, in \u001b[0;36mStationary._scaled_dist\u001b[0;34m(self, X, X2)\u001b[0m\n\u001b[1;32m    164\u001b[0m     \u001b[39mif\u001b[39;00m X2 \u001b[39mis\u001b[39;00m \u001b[39mnot\u001b[39;00m \u001b[39mNone\u001b[39;00m:\n\u001b[1;32m    165\u001b[0m         X2 \u001b[39m=\u001b[39m X2 \u001b[39m/\u001b[39m \u001b[39mself\u001b[39m\u001b[39m.\u001b[39mlengthscale\n\u001b[0;32m--> 166\u001b[0m     \u001b[39mreturn\u001b[39;00m \u001b[39mself\u001b[39;49m\u001b[39m.\u001b[39;49m_unscaled_dist(X\u001b[39m/\u001b[39;49m\u001b[39mself\u001b[39;49m\u001b[39m.\u001b[39;49mlengthscale, X2)\n\u001b[1;32m    167\u001b[0m \u001b[39melse\u001b[39;00m:\n\u001b[1;32m    168\u001b[0m     \u001b[39mreturn\u001b[39;00m \u001b[39mself\u001b[39m\u001b[39m.\u001b[39m_unscaled_dist(X, X2)\u001b[39m/\u001b[39m\u001b[39mself\u001b[39m\u001b[39m.\u001b[39mlengthscale\n",
      "File \u001b[0;32m~/miniconda3/envs/mfdgp/lib/python3.8/site-packages/GPy/kern/src/stationary.py:146\u001b[0m, in \u001b[0;36mStationary._unscaled_dist\u001b[0;34m(self, X, X2)\u001b[0m\n\u001b[1;32m    144\u001b[0m X1sq \u001b[39m=\u001b[39m np\u001b[39m.\u001b[39msum(np\u001b[39m.\u001b[39msquare(X),\u001b[39m1\u001b[39m)\n\u001b[1;32m    145\u001b[0m X2sq \u001b[39m=\u001b[39m np\u001b[39m.\u001b[39msum(np\u001b[39m.\u001b[39msquare(X2),\u001b[39m1\u001b[39m)\n\u001b[0;32m--> 146\u001b[0m r2 \u001b[39m=\u001b[39m \u001b[39m-\u001b[39m\u001b[39m2.\u001b[39m\u001b[39m*\u001b[39mnp\u001b[39m.\u001b[39mdot(X, X2\u001b[39m.\u001b[39mT) \u001b[39m+\u001b[39m (X1sq[:,\u001b[39mNone\u001b[39;49;00m] \u001b[39m+\u001b[39;49m X2sq[\u001b[39mNone\u001b[39;49;00m,:])\n\u001b[1;32m    147\u001b[0m r2 \u001b[39m=\u001b[39m np\u001b[39m.\u001b[39mclip(r2, \u001b[39m0\u001b[39m, np\u001b[39m.\u001b[39minf)\n\u001b[1;32m    148\u001b[0m \u001b[39mreturn\u001b[39;00m np\u001b[39m.\u001b[39msqrt(r2)\n",
      "\u001b[0;31mKeyboardInterrupt\u001b[0m: "
     ]
    }
   ],
   "source": [
    "R2_all = []\n",
    "RMSE_all = []\n",
    "RMSE_p5 = []\n",
    "RMSE_p95 = []\n",
    "MSLL = []\n",
    "\n",
    "R2_all_low = []\n",
    "RMSE_all_low = []\n",
    "RMSE_p5_low = []\n",
    "RMSE_p95_low = []\n",
    "MSLL_low = []\n",
    "\n",
    "r2_high_list = []\n",
    "r2_low_list = []\n",
    "\n",
    "for i in range(len(cv_x_train_hf)):\n",
    "\n",
    "    # Input data\n",
    "    X_train, Y_train = convert_xy_lists_to_arrays([cv_x_train_lf[i], cv_x_train_hf[i]], [cv_y_train_lf[i], cv_y_train_hf[i]])\n",
    "    \n",
    "    # Train and evaluate\n",
    "    kern1 = GPy.kern.Matern52(input_dim=4, ARD=True)\n",
    "    kernels = [kern1, GPy.kern.Matern52(input_dim=4, ARD=True)]\n",
    "    lin_mf_kernel = emukit.multi_fidelity.kernels.LinearMultiFidelityKernel(kernels)\n",
    "    gpy_lin_mf_model = GPyLinearMultiFidelityModel(X_train, Y_train, lin_mf_kernel, n_fidelities=2,)\n",
    "    gpy_lin_mf_model.mixed_noise.Gaussian_noise.fix(0)\n",
    "    gpy_lin_mf_model.mixed_noise.Gaussian_noise_1.fix(0)\n",
    "    lin_mf_model = GPyMultiOutputWrapper(gpy_lin_mf_model, 2, n_optimization_restarts=5)\n",
    "    lin_mf_model.optimize()\n",
    "    print(gpy_lin_mf_model.multifidelity.Mat52_1.lengthscale)\n",
    "\n",
    "    # Load and prep test data                                     \n",
    "    x_val1, y_val = cv_x_val[i], cv_y_val[i]                                                                                   \n",
    "    n = x_val1.shape[0]\n",
    "    x_met = convert_x_list_to_array([x_val1, x_val1])\n",
    "    y_pred0, y_var0 = lin_mf_model.predict(x_met[n:])\n",
    "    y_pred_low0, y_var_low0 = lin_mf_model.predict(x_met[:n])\n",
    "    \n",
    "    # ALL\n",
    "    y_pred = sp.special.inv_boxcox(y_pred0, lf_lambdas[i]).reshape(-1)\n",
    "    y_true = sp.special.inv_boxcox(y_val, lf_lambdas[i]).reshape(-1)\n",
    "    R2_all.append(r2_score(y_true, y_pred))\n",
    "    RMSE_all.append(mean_squared_error(y_true, y_pred, squared=False))\n",
    "    \n",
    "    y_pred_low = sp.special.inv_boxcox(y_pred_low0, lf_lambdas[i]).reshape(-1)\n",
    "    R2_all_low.append(r2_score(y_true, y_pred_low))\n",
    "    RMSE_all_low.append(mean_squared_error(y_true, y_pred_low, squared=False))\n",
    "\n",
    "    # 5th PERCENTILE\n",
    "    p5 = np.percentile(y_true, 5.0)\n",
    "    indx = [y_true <= p5][0]\n",
    "    x_val_p5 = x_val1[indx, :]\n",
    "    y_true_p5 = y_true[indx]\n",
    "    y_pred_p5 = y_pred[indx]\n",
    "    y_pred_p5_low = y_pred_low[indx]\n",
    "    RMSE_p5.append(mean_squared_error(y_true_p5, y_pred_p5, squared=False))\n",
    "    RMSE_p5_low.append(mean_squared_error(y_true_p5, y_pred_p5_low, squared=False))\n",
    "\n",
    "    # 95th PERCENTILE\n",
    "    p95 = np.percentile(y_true, 95.0)\n",
    "    indx = [y_true >= p95][0]\n",
    "    x_val_p95 = x_val1[indx]\n",
    "    y_true_p95 = y_true[indx]\n",
    "    y_pred_p95 = y_pred[indx]\n",
    "    y_pred_p95_low = y_pred_low[indx]\n",
    "    RMSE_p95.append(mean_squared_error(y_true_p95, y_pred_p95, squared=False))\n",
    "    RMSE_p95_low.append(mean_squared_error(y_true_p95, y_pred_p95_low, squared=False))\n",
    "                        \n",
    "    # MSLL\n",
    "    ll = msll(y_val, y_pred0, y_var0)\n",
    "    ll_low = msll(y_val, y_pred_low0, y_var_low0)\n",
    "    MSLL.append(ll)\n",
    "    MSLL_low.append(ll_low)\n",
    "    \n",
    "    r2_high, r2_low = r2_low_vs_high(y_pred_low, y_pred, x_val1, y_true)\n",
    "    r2_high_list.append(r2_high)\n",
    "    r2_low_list.append(r2_low)"
   ]
  },
  {
   "cell_type": "code",
   "execution_count": 36,
   "id": "c03c873e-89ee-4963-9018-6a94d9c39292",
   "metadata": {},
   "outputs": [
    {
     "name": "stdout",
     "output_type": "stream",
     "text": [
      "Mean RMSE =  1.1288174216277413 ± 0.45955825345996737\n",
      "Mean R2 =  0.6180231256311904 ± 0.10646565424263782\n",
      "5th RMSE =  0.5652902009825029 ± 0.23832664507962512\n",
      "95th RMSE =  3.001644981397689 ± 1.5755066408650757\n",
      "MSLL=  0.9044514227576208 ± 0.19855495122324227\n",
      "Mean RMSE =  1.2059885816345628 ± 0.4592714269204212\n",
      "Mean R2 =  0.5474398303518873 ± 0.14323051517276358\n",
      "5th RMSE =  0.5875472687144019 ± 0.29444462409967453\n",
      "95th RMSE =  2.841226967200339 ± 1.1729332246925321\n",
      "MSLL=  18705811.2223 ± 7429526.352754536\n"
     ]
    }
   ],
   "source": [
    "print('Mean RMSE = ', np.mean(RMSE_all), '±', np.std(RMSE_all))\n",
    "print('Mean R2 = ', np.mean(R2_all), '±', np.std(R2_all))\n",
    "print('5th RMSE = ', np.mean(RMSE_p5), '±', np.std(RMSE_p5))\n",
    "print('95th RMSE = ', np.mean(RMSE_p95), '±', np.std(RMSE_p95))\n",
    "print('MSLL= ', np.mean(MSLL), '±', np.std(MSLL))\n",
    "                        \n",
    "print('Mean RMSE = ', np.mean(RMSE_all_low), '±', np.std(RMSE_all_low))\n",
    "print('Mean R2 = ', np.mean(R2_all_low), '±', np.std(R2_all_low))\n",
    "print('5th RMSE = ', np.mean(RMSE_p5_low), '±', np.std(RMSE_p5_low))\n",
    "print('95th RMSE = ', np.mean(RMSE_p95_low), '±', np.std(RMSE_p95_low))\n",
    "print('MSLL= ', np.mean(MSLL_low), '±', np.std(MSLL_low))\n",
    "\n",
    "np.save('exp1_ypred_lf_r2_2000-2005.npy', r2_low_list)\n",
    "np.save('exp1_ypred_hf_r2_2000-2005.npy', r2_high_list)"
   ]
  },
  {
   "cell_type": "markdown",
   "id": "868bc7e5-c098-4ee7-b6e7-7bd50067bf89",
   "metadata": {
    "jp-MarkdownHeadingCollapsed": true,
    "tags": []
   },
   "source": [
    "## GP model on gauge data"
   ]
  },
  {
   "cell_type": "code",
   "execution_count": 17,
   "id": "54438d2c-40a1-41e9-a7d1-b452b3e91a49",
   "metadata": {},
   "outputs": [
    {
     "name": "stderr",
     "output_type": "stream",
     "text": [
      "  0%|          | 0/5 [00:00<?, ?it/s]"
     ]
    },
    {
     "name": "stdout",
     "output_type": "stream",
     "text": [
      "Optimization restart 1/5, f = 6486.723697730104\n"
     ]
    }
   ],
   "source": [
    "R2_all = []\n",
    "RMSE_all = []\n",
    "RMSE_p5 = []\n",
    "RMSE_p95 = []\n",
    "MSLL = []\n",
    "\n",
    "for i in tqdm(range(len(cv_x_train_hf))):\n",
    "\n",
    "    x_train_hf1, y_train_hf = cv_x_train_hf[i], cv_y_train_hf[i]\n",
    "    x_val1, y_val = cv_x_val[i], cv_y_val[i]\n",
    "    \n",
    "    # Input data\n",
    "    kernel = GPy.kern.StdPeriodic(1, active_dims=[0], period=1) * GPy.kern.Matern52(1, active_dims=[0]) + GPy.kern.Matern52(3, active_dims=[1,2,3], ARD=True)\n",
    "    m = GPy.models.GPRegression(x_train_hf1, y_train_hf, kernel)\n",
    "    m.optimize_restarts(num_restarts = 5)\n",
    "    \n",
    "    y_pred0, y_var0 = m.predict(x_val1)\n",
    "    \n",
    "    y_pred = sp.special.inv_boxcox(y_pred0, lf_lambdas[i]).reshape(-1)\n",
    "    y_true = sp.special.inv_boxcox(y_val, lf_lambdas[i]).reshape(-1)\n",
    "    R2_all.append(r2_score(y_true, y_pred))\n",
    "    RMSE_all.append(mean_squared_error(y_true, y_pred, squared=False))\n",
    "    \n",
    "    # 5th PERCENTILE\n",
    "    p5 = np.percentile(y_true, 5.0)\n",
    "    indx = [y_true <= p5][0]\n",
    "    x_val_p5 = x_val1[indx, :]\n",
    "    y_true_p5 = y_true[indx]\n",
    "    y_pred_p5 = y_pred[indx]\n",
    "    RMSE_p5.append(mean_squared_error(y_true_p5, y_pred_p5, squared=False))\n",
    "\n",
    "    # 95th PERCENTILE\n",
    "    p95 = np.percentile(y_true, 95.0)\n",
    "    indx = [y_true >= p95][0]\n",
    "    x_val_p95 = x_val1[indx]\n",
    "    y_true_p95 = y_true[indx]\n",
    "    y_pred_p95 = y_pred[indx]\n",
    "    RMSE_p95.append(mean_squared_error(y_true_p95, y_pred_p95, squared=False))\n",
    "    \n",
    "    # MSLL\n",
    "    ll = msll(y_val, y_pred0, y_var0)\n",
    "    MSLL.append(ll)"
   ]
  },
  {
   "cell_type": "code",
   "execution_count": null,
   "id": "2870fdcd-cb6b-4429-ac5d-8bb56602b23e",
   "metadata": {},
   "outputs": [
    {
     "name": "stdout",
     "output_type": "stream",
     "text": [
      "GP on gauges\n",
      "Mean RMSE =  1.766620778217169 ± 0.45693719979232983\n",
      "Mean R2 =  -0.018762063464400326 ± 0.12908989365533002\n",
      "5th RMSE =  1.8763025060321297 ± 0.2470065166182675\n",
      "95th RMSE =  5.1869952472261325 ± 1.7614928997790533\n",
      "MSLL=  nan ± nan\n"
     ]
    },
    {
     "name": "stderr",
     "output_type": "stream",
     "text": [
      " /Users/kenzatazi/miniconda3/envs/mfdgp/lib/python3.8/site-packages/numpy/core/fromnumeric.py:3432: RuntimeWarning:Mean of empty slice.\n",
      " /Users/kenzatazi/miniconda3/envs/mfdgp/lib/python3.8/site-packages/numpy/core/_methods.py:190: RuntimeWarning:invalid value encountered in double_scalars\n",
      " /Users/kenzatazi/miniconda3/envs/mfdgp/lib/python3.8/site-packages/numpy/core/_methods.py:265: RuntimeWarning:Degrees of freedom <= 0 for slice\n",
      " /Users/kenzatazi/miniconda3/envs/mfdgp/lib/python3.8/site-packages/numpy/core/_methods.py:223: RuntimeWarning:invalid value encountered in divide\n",
      " /Users/kenzatazi/miniconda3/envs/mfdgp/lib/python3.8/site-packages/numpy/core/_methods.py:257: RuntimeWarning:invalid value encountered in double_scalars\n"
     ]
    }
   ],
   "source": [
    "print('GP on gauges')\n",
    "print('Mean RMSE = ', np.mean(RMSE_all), '±', np.std(RMSE_all))\n",
    "print('Mean R2 = ', np.mean(R2_all), '±', np.std(R2_all))\n",
    "print('5th RMSE = ', np.mean(RMSE_p5), '±', np.std(RMSE_p5))\n",
    "print('95th RMSE = ', np.mean(RMSE_p95), '±', np.std(RMSE_p95))\n",
    "print('MLL= ', np.mean(MLL), '±', np.std(MLL))"
   ]
  },
  {
   "cell_type": "markdown",
   "id": "7f7f9059-a499-4df9-8ed0-1e5b85a9f8ae",
   "metadata": {
    "jp-MarkdownHeadingCollapsed": true,
    "tags": []
   },
   "source": [
    "## Linear regression on ERA5 data"
   ]
  },
  {
   "cell_type": "code",
   "execution_count": 10,
   "id": "9f502be3-bd40-43fa-9019-f7c41c7d1477",
   "metadata": {},
   "outputs": [],
   "source": [
    "R2_all = []\n",
    "RMSE_all = []\n",
    "RMSE_p5 = []\n",
    "RMSE_p95 = []\n",
    "MSLL = []\n",
    "\n",
    "for i in range(len(cv_x_train_hf)):\n",
    "\n",
    "    x_train_lf1, y_train_lf = cv_x_train_lf[i], cv_y_train_lf[i]\n",
    "    x_val1, y_val = cv_x_val[i], cv_y_val[i]\n",
    "    \n",
    "    # Train and evaluate\n",
    "    linear_m = LinearRegression()\n",
    "    linear_m.fit(x_train_lf1, y_train_lf)\n",
    "    y_pred0 = linear_m.predict(x_val1)\n",
    "   \n",
    "    # ALL\n",
    "    y_pred = sp.special.inv_boxcox(y_pred0, lf_lambdas[i]).reshape(-1)\n",
    "    y_true = sp.special.inv_boxcox(y_val, lf_lambdas[i]).reshape(-1)\n",
    "    R2_all.append(r2_score(y_true, y_pred))\n",
    "    RMSE_all.append(mean_squared_error(y_true, y_pred, squared=False))\n",
    "    \n",
    "    # 5th PERCENTILE\n",
    "    p5 = np.percentile(y_true, 5.0)\n",
    "    indx = [y_true <= p5][0]\n",
    "    x_val_p5 = x_val1[indx, :]\n",
    "    y_true_p5 = y_true[indx]\n",
    "    y_pred_p5 = y_pred[indx]\n",
    "    RMSE_p5.append(mean_squared_error(y_true_p5, y_pred_p5, squared=False))\n",
    "   \n",
    "    # 95th PERCENTILE\n",
    "    p95 = np.percentile(y_true, 95.0)\n",
    "    indx = [y_true >= p95][0]\n",
    "    x_val_p95 = x_val1[indx]\n",
    "    y_true_p95 = y_true[indx]\n",
    "    y_pred_p95 = y_pred[indx]\n",
    "    RMSE_p95.append(mean_squared_error(y_true_p95, y_pred_p95, squared=False))"
   ]
  },
  {
   "cell_type": "code",
   "execution_count": 11,
   "id": "35b73508-6f81-4262-9ada-842babab9a46",
   "metadata": {},
   "outputs": [
    {
     "name": "stdout",
     "output_type": "stream",
     "text": [
      "Lin Reg on ERA5\n",
      "Mean RMSE =  1.7248765581711365 ± 0.4597332671166103\n",
      "Mean R2 =  0.04280481705372492 ± 0.06493367079424678\n",
      "5th RMSE =  1.7533800970242024 ± 0.17964994091473768\n",
      "95th RMSE =  5.209296895255994 ± 1.5542836532955977\n"
     ]
    }
   ],
   "source": [
    "print('Lin Reg on ERA5')\n",
    "print('Mean RMSE = ', np.mean(RMSE_all), '±', np.std(RMSE_all))\n",
    "print('Mean R2 = ', np.mean(R2_all), '±', np.std(R2_all))\n",
    "print('5th RMSE = ', np.mean(RMSE_p5), '±', np.std(RMSE_p5))\n",
    "print('95th RMSE = ', np.mean(RMSE_p95), '±', np.std(RMSE_p95))"
   ]
  }
 ],
 "metadata": {
  "kernelspec": {
   "display_name": "base",
   "language": "python",
   "name": "python3"
  },
  "language_info": {
   "codemirror_mode": {
    "name": "ipython",
    "version": 3
   },
   "file_extension": ".py",
   "mimetype": "text/x-python",
   "name": "python",
   "nbconvert_exporter": "python",
   "pygments_lexer": "ipython3",
   "version": "3.8.16"
  },
  "vscode": {
   "interpreter": {
    "hash": "5426c688bd3257604544373d620790b2306efd3cd4ed9fb4532f758698a84368"
   }
  }
 },
 "nbformat": 4,
 "nbformat_minor": 5
}
