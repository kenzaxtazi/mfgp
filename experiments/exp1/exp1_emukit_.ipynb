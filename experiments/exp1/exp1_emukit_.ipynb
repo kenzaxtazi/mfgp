{
 "cells": [
  {
   "cell_type": "markdown",
   "id": "220e1f89-e5db-4ea0-8762-c45193d0f19d",
   "metadata": {},
   "source": [
    "# Experiment 1"
   ]
  },
  {
   "cell_type": "code",
   "execution_count": 10,
   "id": "90f5db7b-5395-4d5d-9624-298733a7eccf",
   "metadata": {},
   "outputs": [],
   "source": [
    "import sys\n",
    "sys.path.append('/Users/kenzatazi/Documents/CDT/Code')\n",
    "\n",
    "from load import era5, data_dir, value\n",
    "from sklearn.preprocessing import MinMaxScaler, StandardScaler\n",
    "from matplotlib import pyplot as plt\n",
    "import pandas as pd\n",
    "import numpy as np\n",
    "import GPy\n",
    "from tqdm import tqdm\n",
    "import scipy as sp\n",
    "from sklearn.metrics import mean_squared_error, r2_score\n",
    "from sklearn.model_selection import KFold\n",
    "from mfdgp.utils.metrics import msll, r2_low_vs_high"
   ]
  },
  {
   "cell_type": "code",
   "execution_count": 3,
   "id": "070628eb-456f-4eb2-88e8-326efaa47f02",
   "metadata": {},
   "outputs": [],
   "source": [
    "from sklearn.linear_model import LinearRegression\n",
    "from sklearn.metrics import mean_squared_error, r2_score"
   ]
  },
  {
   "cell_type": "code",
   "execution_count": 4,
   "id": "d5d3cf61-9e60-402e-b56d-104888050963",
   "metadata": {},
   "outputs": [],
   "source": [
    "import emukit\n",
    "from emukit.model_wrappers.gpy_model_wrappers import GPyMultiOutputWrapper\n",
    "from emukit.multi_fidelity.models import GPyLinearMultiFidelityModel\n",
    "from emukit.multi_fidelity.convert_lists_to_array import convert_x_list_to_array, convert_xy_lists_to_arrays"
   ]
  },
  {
   "cell_type": "markdown",
   "id": "82901517-73c8-4c78-8383-f0a82b56bd31",
   "metadata": {
    "tags": []
   },
   "source": [
    "## Prepare data"
   ]
  },
  {
   "cell_type": "code",
   "execution_count": 1,
   "id": "67eee07c-9b61-491e-a122-342ec97f4206",
   "metadata": {},
   "outputs": [],
   "source": [
    "# Load data\n",
    "minyear = 1980\n",
    "maxyear = 2010"
   ]
  },
  {
   "cell_type": "code",
   "execution_count": 5,
   "id": "d8763cd5-a051-4c68-a40e-cb625db31004",
   "metadata": {},
   "outputs": [],
   "source": [
    "gauge_df = value.all_gauge_data(minyear, maxyear, monthly=True)\n",
    "station_names = gauge_df.drop_duplicates('name')['name']\n",
    "\n",
    "# Get CV scheme\n",
    "cv_locs = np.load('/Users/kenzatazi/Documents/CDT/Code/mfdgp/experiments/exp1/cv/exp1_cv_locs.npy')\n",
    "cv_locs = cv_locs.reshape(-1, 2)\n",
    "\n",
    "station_list = []\n",
    "for loc in cv_locs:\n",
    "    station_row = gauge_df[(gauge_df['latitude'] == loc[1]) | (gauge_df['longitude'] == loc[0])].iloc[0]\n",
    "    station_list.append(station_row['name'])\n",
    "station_arr = np.array(station_list)\n",
    "\n",
    "# Split indexes\n",
    "kf = KFold(n_splits=5)\n",
    "\n",
    "cv_train_list = []\n",
    "cv_test_list = []\n",
    "\n",
    "for train_index, test_index in kf.split(station_arr):\n",
    "    hf_train, hf_test = station_arr[train_index], station_arr[test_index]\n",
    "    cv_train_list.append(hf_train)\n",
    "    cv_test_list.append(hf_test)"
   ]
  },
  {
   "cell_type": "code",
   "execution_count": 22,
   "id": "31dd72f5-95ee-4295-ad43-9078fb4e57c7",
   "metadata": {},
   "outputs": [
    {
     "name": "stdout",
     "output_type": "stream",
     "text": [
      "value\n",
      "/Users/kenzatazi/Documents/CDT/Code/data/ERA5/combi_data_value_03-2023.csv\n",
      "value\n",
      "/Users/kenzatazi/Documents/CDT/Code/data/ERA5/combi_data_value_03-2023.csv\n",
      "value\n",
      "/Users/kenzatazi/Documents/CDT/Code/data/ERA5/combi_data_value_03-2023.csv\n",
      "value\n",
      "/Users/kenzatazi/Documents/CDT/Code/data/ERA5/combi_data_value_03-2023.csv\n",
      "value\n",
      "/Users/kenzatazi/Documents/CDT/Code/data/ERA5/combi_data_value_03-2023.csv\n"
     ]
    }
   ],
   "source": [
    "# Split data\n",
    "cv_x_train_hf = []\n",
    "cv_y_train_hf = []\n",
    "cv_x_train_lf = []\n",
    "cv_y_train_lf = []\n",
    "cv_x_val = []\n",
    "cv_y_val = []\n",
    "lf_lambdas = []\n",
    "\n",
    "\n",
    "for i in range(len(cv_train_list)):\n",
    "\n",
    "    hf_train_list = []\n",
    "    for station in cv_train_list[i]:\n",
    "        station_ds = value.gauge_download(\n",
    "            station, minyear=minyear, maxyear=maxyear)\n",
    "        hf_train_list.append(station_ds.dropna().reset_index())\n",
    "    hf_train_df = pd.concat(hf_train_list)\n",
    "\n",
    "    val_list = []\n",
    "    for station in cv_test_list[i]:\n",
    "        station_ds = value.gauge_download(\n",
    "            station, minyear=minyear, maxyear=maxyear)\n",
    "        val_list.append(station_ds.dropna().reset_index())\n",
    "    val_df = pd.concat(val_list)\n",
    "\n",
    "    era5_df = era5.value_gauge_download(\n",
    "        list(cv_test_list[i]) + list(cv_train_list[i]), minyear=minyear, maxyear=maxyear)\n",
    "    \n",
    "    hf_train_df.sort_values(by='time', inplace=True)\n",
    "    val_df.sort_values(by='time', inplace=True)\n",
    "    lf_train_df = era5_df.reset_index().sort_values(by='time')\n",
    "    \n",
    "    # Prepare data\n",
    "    \n",
    "    # Transformations\n",
    "    lf_train_df['tp_tr'], lf_lambda = sp.stats.boxcox(\n",
    "        lf_train_df['tp'].values + 0.01)\n",
    "    hf_train_df['tp_tr'] = sp.stats.boxcox(\n",
    "        hf_train_df['tp'].values + 0.01, lmbda=lf_lambda)\n",
    "    val_df['tp_tr'] = sp.stats.boxcox(\n",
    "        val_df['tp'].values + 0.01, lmbda=lf_lambda)\n",
    "\n",
    "    # Splitting\n",
    "    x_train_lf = lf_train_df[['time', 'lat', 'lon', 'z']].values.reshape(-1, 4)\n",
    "    y_train_lf = lf_train_df['tp_tr'].values.reshape(-1, 1)\n",
    "    x_train_hf = hf_train_df[['time', 'latitude', 'longitude', 'altitude']].values.reshape(-1, 4)\n",
    "    y_train_hf = hf_train_df[['tp_tr']].values.reshape(-1, 1)\n",
    "    x_val = val_df[['time', 'latitude', 'longitude', 'altitude']].values.reshape(-1, 4)\n",
    "    y_val = val_df['tp_tr'].values.reshape(-1, 1)\n",
    "\n",
    "    # Scaling\n",
    "    scaler = StandardScaler().fit(x_train_hf)\n",
    "    x_train_hf1 = scaler.transform(x_train_hf)\n",
    "    x_train_lf1 = scaler.transform(x_train_lf)\n",
    "    x_val1 = scaler.transform(x_val)\n",
    "    \n",
    "    cv_x_train_hf.append(x_train_hf1)\n",
    "    cv_y_train_hf.append(y_train_hf)\n",
    "    cv_x_train_lf.append(x_train_lf1)\n",
    "    cv_y_train_lf.append(y_train_lf)\n",
    "    cv_x_val.append(x_val1)\n",
    "    cv_y_val.append(y_val)\n",
    "    lf_lambdas.append(lf_lambda)"
   ]
  },
  {
   "cell_type": "code",
   "execution_count": 24,
   "id": "09610bd6-825a-413a-8c50-2049ad2cb272",
   "metadata": {},
   "outputs": [
    {
     "name": "stderr",
     "output_type": "stream",
     "text": [
      " /Users/kenzatazi/miniconda3/envs/mfdgp/lib/python3.8/site-packages/numpy/lib/npyio.py:521: VisibleDeprecationWarning:Creating an ndarray from ragged nested sequences (which is a list-or-tuple of lists-or-tuples-or ndarrays with different lengths or shapes) is deprecated. If you meant to do this, you must specify 'dtype=object' when creating the ndarray.\n"
     ]
    }
   ],
   "source": [
    "np.save('data/cv_x_train_hf_value_1980-2010.npy', cv_x_train_hf)\n",
    "np.save('data/cv_y_train_hf_value_1980-2010.npy', cv_y_train_hf)\n",
    "np.save('data/cv_x_train_lf_value_1980-2010.npy', cv_x_train_lf)\n",
    "np.save('data/cv_y_train_lf_value_1980-2010.npy', cv_y_train_lf)\n",
    "np.save('data/cv_y_val_value_1980-2010.npy', cv_y_val)\n",
    "np.save('data/cv_x_val_value_1980-2010.npy', cv_x_val)\n",
    "np.save('data/lf_lambda_1980-2010.npy', lf_lambdas)"
   ]
  },
  {
   "cell_type": "markdown",
   "id": "6e92dcaa-731d-49f1-87a7-56806656a6d0",
   "metadata": {},
   "source": [
    "## Load data"
   ]
  },
  {
   "cell_type": "code",
   "execution_count": 20,
   "id": "30e4949c-5fc3-44c8-bb6c-596ac9e61bea",
   "metadata": {},
   "outputs": [],
   "source": [
    "cv_x_train_hf = np.load('data/cv_x_train_hf_value_1980-2010.npy', allow_pickle=True)\n",
    "cv_y_train_hf = np.load('data/cv_y_train_hf_value_1980-2010.npy', allow_pickle=True)\n",
    "cv_x_train_lf = np.load('data/cv_x_train_lf_value_1980-2010.npy', allow_pickle=True)\n",
    "cv_y_train_lf = np.load('data/cv_y_train_lf_value_1980-2010.npy', allow_pickle=True)\n",
    "cv_x_val = np.load('data/cv_x_val_value_1980-2010.npy', allow_pickle=True)\n",
    "cv_y_val = np.load('data/cv_y_val_value_1980-2010.npy', allow_pickle=True)\n",
    "lf_lambdas = np.load('data/lf_lambda_1980-2010.npy', allow_pickle=True)"
   ]
  },
  {
   "cell_type": "code",
   "execution_count": 27,
   "id": "df60f008",
   "metadata": {},
   "outputs": [
    {
     "data": {
      "text/plain": [
       "48"
      ]
     },
     "execution_count": 27,
     "metadata": {},
     "output_type": "execute_result"
    }
   ],
   "source": [
    "cv_x_train_lf[i][:tr*28]\n",
    "tr\n"
   ]
  },
  {
   "cell_type": "markdown",
   "id": "34f5c511-90bd-4d8a-be1d-ed0b939252c4",
   "metadata": {},
   "source": [
    "## MFDGP"
   ]
  },
  {
   "cell_type": "code",
   "execution_count": 29,
   "id": "370e155e-5a8c-4cfb-bb14-a4e1ce2b391f",
   "metadata": {},
   "outputs": [
    {
     "name": "stderr",
     "output_type": "stream",
     "text": [
      "  0%|          | 0/6 [00:00<?, ?it/s]"
     ]
    },
    {
     "name": "stdout",
     "output_type": "stream",
     "text": [
      "Optimization restart 1/5, f = 668.4692951103332\n",
      "Optimization restart 2/5, f = 668.4692958640181\n",
      "Optimization restart 3/5, f = 668.469297625448\n",
      "Optimization restart 4/5, f = 668.4692957384622\n"
     ]
    },
    {
     "name": "stderr",
     "output_type": "stream",
     "text": [
      "  0%|          | 0/6 [10:56<?, ?it/s]"
     ]
    },
    {
     "name": "stdout",
     "output_type": "stream",
     "text": [
      "KeyboardInterrupt caught, calling on_optimization_end() to round things up\n"
     ]
    },
    {
     "name": "stderr",
     "output_type": "stream",
     "text": [
      "\n"
     ]
    },
    {
     "ename": "KeyboardInterrupt",
     "evalue": "",
     "output_type": "error",
     "traceback": [
      "\u001b[0;31m---------------------------------------------------------------------------\u001b[0m",
      "\u001b[0;31mKeyboardInterrupt\u001b[0m                         Traceback (most recent call last)",
      "Cell \u001b[0;32mIn[29], line 26\u001b[0m\n\u001b[1;32m     23\u001b[0m gpy_lin_mf_model\u001b[39m.\u001b[39mmixed_noise\u001b[39m.\u001b[39mGaussian_noise_1\u001b[39m.\u001b[39mfix(\u001b[39m0\u001b[39m)\n\u001b[1;32m     24\u001b[0m lin_mf_model \u001b[39m=\u001b[39m GPyMultiOutputWrapper(\n\u001b[1;32m     25\u001b[0m     gpy_lin_mf_model, \u001b[39m2\u001b[39m, n_optimization_restarts\u001b[39m=\u001b[39m\u001b[39m5\u001b[39m)\n\u001b[0;32m---> 26\u001b[0m lin_mf_model\u001b[39m.\u001b[39;49moptimize()\n\u001b[1;32m     28\u001b[0m \u001b[39m# Load and prep test data\u001b[39;00m\n\u001b[1;32m     29\u001b[0m x_val1, y_val \u001b[39m=\u001b[39m cv_x_val[i][:tr\u001b[39m*\u001b[39m\u001b[39m7\u001b[39m], cv_y_val[i][:tr\u001b[39m*\u001b[39m\u001b[39m7\u001b[39m]\n",
      "File \u001b[0;32m~/miniconda3/envs/mfdgp/lib/python3.8/site-packages/emukit/model_wrappers/gpy_model_wrappers.py:306\u001b[0m, in \u001b[0;36mGPyMultiOutputWrapper.optimize\u001b[0;34m(self)\u001b[0m\n\u001b[1;32m    304\u001b[0m     \u001b[39mself\u001b[39m\u001b[39m.\u001b[39mgpy_model\u001b[39m.\u001b[39moptimize()\n\u001b[1;32m    305\u001b[0m \u001b[39melif\u001b[39;00m \u001b[39mself\u001b[39m\u001b[39m.\u001b[39mn_optimization_restarts \u001b[39m>\u001b[39m\u001b[39m=\u001b[39m \u001b[39m1\u001b[39m:\n\u001b[0;32m--> 306\u001b[0m     \u001b[39mself\u001b[39;49m\u001b[39m.\u001b[39;49mgpy_model\u001b[39m.\u001b[39;49moptimize_restarts(\n\u001b[1;32m    307\u001b[0m         \u001b[39mself\u001b[39;49m\u001b[39m.\u001b[39;49mn_optimization_restarts, verbose\u001b[39m=\u001b[39;49m\u001b[39mself\u001b[39;49m\u001b[39m.\u001b[39;49mverbose_optimization, robust\u001b[39m=\u001b[39;49m\u001b[39mTrue\u001b[39;49;00m\n\u001b[1;32m    308\u001b[0m     )\n",
      "File \u001b[0;32m~/miniconda3/envs/mfdgp/lib/python3.8/site-packages/paramz/model.py:172\u001b[0m, in \u001b[0;36mModel.optimize_restarts\u001b[0;34m(self, num_restarts, robust, verbose, parallel, num_processes, **kwargs)\u001b[0m\n\u001b[1;32m    170\u001b[0m     \u001b[39mif\u001b[39;00m i \u001b[39m>\u001b[39m \u001b[39m0\u001b[39m:\n\u001b[1;32m    171\u001b[0m         \u001b[39mself\u001b[39m\u001b[39m.\u001b[39mrandomize()\n\u001b[0;32m--> 172\u001b[0m     \u001b[39mself\u001b[39;49m\u001b[39m.\u001b[39;49moptimize(\u001b[39m*\u001b[39;49m\u001b[39m*\u001b[39;49mkwargs)\n\u001b[1;32m    173\u001b[0m \u001b[39melse\u001b[39;00m:\u001b[39m#pragma: no cover\u001b[39;00m\n\u001b[1;32m    174\u001b[0m     \u001b[39mself\u001b[39m\u001b[39m.\u001b[39moptimization_runs\u001b[39m.\u001b[39mappend(jobs[i])\n",
      "File \u001b[0;32m~/miniconda3/envs/mfdgp/lib/python3.8/site-packages/GPy/core/gp.py:675\u001b[0m, in \u001b[0;36mGP.optimize\u001b[0;34m(self, optimizer, start, messages, max_iters, ipython_notebook, clear_after_finish, **kwargs)\u001b[0m\n\u001b[1;32m    673\u001b[0m \u001b[39mself\u001b[39m\u001b[39m.\u001b[39minference_method\u001b[39m.\u001b[39mon_optimization_start()\n\u001b[1;32m    674\u001b[0m \u001b[39mtry\u001b[39;00m:\n\u001b[0;32m--> 675\u001b[0m     ret \u001b[39m=\u001b[39m \u001b[39msuper\u001b[39;49m(GP, \u001b[39mself\u001b[39;49m)\u001b[39m.\u001b[39;49moptimize(optimizer, start, messages, max_iters, ipython_notebook, clear_after_finish, \u001b[39m*\u001b[39;49m\u001b[39m*\u001b[39;49mkwargs)\n\u001b[1;32m    676\u001b[0m \u001b[39mexcept\u001b[39;00m \u001b[39mKeyboardInterrupt\u001b[39;00m:\n\u001b[1;32m    677\u001b[0m     \u001b[39mprint\u001b[39m(\u001b[39m\"\u001b[39m\u001b[39mKeyboardInterrupt caught, calling on_optimization_end() to round things up\u001b[39m\u001b[39m\"\u001b[39m)\n",
      "File \u001b[0;32m~/miniconda3/envs/mfdgp/lib/python3.8/site-packages/paramz/model.py:111\u001b[0m, in \u001b[0;36mModel.optimize\u001b[0;34m(self, optimizer, start, messages, max_iters, ipython_notebook, clear_after_finish, **kwargs)\u001b[0m\n\u001b[1;32m    108\u001b[0m     opt \u001b[39m=\u001b[39m optimizer(max_iters\u001b[39m=\u001b[39mmax_iters, \u001b[39m*\u001b[39m\u001b[39m*\u001b[39mkwargs)\n\u001b[1;32m    110\u001b[0m \u001b[39mwith\u001b[39;00m VerboseOptimization(\u001b[39mself\u001b[39m, opt, maxiters\u001b[39m=\u001b[39mmax_iters, verbose\u001b[39m=\u001b[39mmessages, ipython_notebook\u001b[39m=\u001b[39mipython_notebook, clear_after_finish\u001b[39m=\u001b[39mclear_after_finish) \u001b[39mas\u001b[39;00m vo:\n\u001b[0;32m--> 111\u001b[0m     opt\u001b[39m.\u001b[39;49mrun(start, f_fp\u001b[39m=\u001b[39;49m\u001b[39mself\u001b[39;49m\u001b[39m.\u001b[39;49m_objective_grads, f\u001b[39m=\u001b[39;49m\u001b[39mself\u001b[39;49m\u001b[39m.\u001b[39;49m_objective, fp\u001b[39m=\u001b[39;49m\u001b[39mself\u001b[39;49m\u001b[39m.\u001b[39;49m_grads)\n\u001b[1;32m    113\u001b[0m \u001b[39mself\u001b[39m\u001b[39m.\u001b[39moptimizer_array \u001b[39m=\u001b[39m opt\u001b[39m.\u001b[39mx_opt\n\u001b[1;32m    115\u001b[0m \u001b[39mself\u001b[39m\u001b[39m.\u001b[39moptimization_runs\u001b[39m.\u001b[39mappend(opt)\n",
      "File \u001b[0;32m~/miniconda3/envs/mfdgp/lib/python3.8/site-packages/paramz/optimization/optimization.py:51\u001b[0m, in \u001b[0;36mOptimizer.run\u001b[0;34m(self, x_init, **kwargs)\u001b[0m\n\u001b[1;32m     49\u001b[0m \u001b[39mdef\u001b[39;00m \u001b[39mrun\u001b[39m(\u001b[39mself\u001b[39m, x_init, \u001b[39m*\u001b[39m\u001b[39m*\u001b[39mkwargs):\n\u001b[1;32m     50\u001b[0m     start \u001b[39m=\u001b[39m dt\u001b[39m.\u001b[39mdatetime\u001b[39m.\u001b[39mnow()\n\u001b[0;32m---> 51\u001b[0m     \u001b[39mself\u001b[39;49m\u001b[39m.\u001b[39;49mopt(x_init, \u001b[39m*\u001b[39;49m\u001b[39m*\u001b[39;49mkwargs)\n\u001b[1;32m     52\u001b[0m     end \u001b[39m=\u001b[39m dt\u001b[39m.\u001b[39mdatetime\u001b[39m.\u001b[39mnow()\n\u001b[1;32m     53\u001b[0m     \u001b[39mself\u001b[39m\u001b[39m.\u001b[39mtime \u001b[39m=\u001b[39m \u001b[39mstr\u001b[39m(end \u001b[39m-\u001b[39m start)\n",
      "File \u001b[0;32m~/miniconda3/envs/mfdgp/lib/python3.8/site-packages/paramz/optimization/optimization.py:124\u001b[0m, in \u001b[0;36mopt_lbfgsb.opt\u001b[0;34m(self, x_init, f_fp, f, fp)\u001b[0m\n\u001b[1;32m    121\u001b[0m \u001b[39mif\u001b[39;00m \u001b[39mself\u001b[39m\u001b[39m.\u001b[39mbfgs_factor \u001b[39mis\u001b[39;00m \u001b[39mnot\u001b[39;00m \u001b[39mNone\u001b[39;00m:\n\u001b[1;32m    122\u001b[0m     opt_dict[\u001b[39m'\u001b[39m\u001b[39mfactr\u001b[39m\u001b[39m'\u001b[39m] \u001b[39m=\u001b[39m \u001b[39mself\u001b[39m\u001b[39m.\u001b[39mbfgs_factor\n\u001b[0;32m--> 124\u001b[0m opt_result \u001b[39m=\u001b[39m optimize\u001b[39m.\u001b[39;49mfmin_l_bfgs_b(f_fp, x_init, maxfun\u001b[39m=\u001b[39;49m\u001b[39mself\u001b[39;49m\u001b[39m.\u001b[39;49mmax_iters, maxiter\u001b[39m=\u001b[39;49m\u001b[39mself\u001b[39;49m\u001b[39m.\u001b[39;49mmax_iters, \u001b[39m*\u001b[39;49m\u001b[39m*\u001b[39;49mopt_dict)\n\u001b[1;32m    125\u001b[0m \u001b[39mself\u001b[39m\u001b[39m.\u001b[39mx_opt \u001b[39m=\u001b[39m opt_result[\u001b[39m0\u001b[39m]\n\u001b[1;32m    126\u001b[0m \u001b[39mself\u001b[39m\u001b[39m.\u001b[39mf_opt \u001b[39m=\u001b[39m f_fp(\u001b[39mself\u001b[39m\u001b[39m.\u001b[39mx_opt)[\u001b[39m0\u001b[39m]\n",
      "File \u001b[0;32m~/miniconda3/envs/mfdgp/lib/python3.8/site-packages/scipy/optimize/_lbfgsb_py.py:197\u001b[0m, in \u001b[0;36mfmin_l_bfgs_b\u001b[0;34m(func, x0, fprime, args, approx_grad, bounds, m, factr, pgtol, epsilon, iprint, maxfun, maxiter, disp, callback, maxls)\u001b[0m\n\u001b[1;32m    185\u001b[0m \u001b[39m# build options\u001b[39;00m\n\u001b[1;32m    186\u001b[0m opts \u001b[39m=\u001b[39m {\u001b[39m'\u001b[39m\u001b[39mdisp\u001b[39m\u001b[39m'\u001b[39m: disp,\n\u001b[1;32m    187\u001b[0m         \u001b[39m'\u001b[39m\u001b[39miprint\u001b[39m\u001b[39m'\u001b[39m: iprint,\n\u001b[1;32m    188\u001b[0m         \u001b[39m'\u001b[39m\u001b[39mmaxcor\u001b[39m\u001b[39m'\u001b[39m: m,\n\u001b[0;32m   (...)\u001b[0m\n\u001b[1;32m    194\u001b[0m         \u001b[39m'\u001b[39m\u001b[39mcallback\u001b[39m\u001b[39m'\u001b[39m: callback,\n\u001b[1;32m    195\u001b[0m         \u001b[39m'\u001b[39m\u001b[39mmaxls\u001b[39m\u001b[39m'\u001b[39m: maxls}\n\u001b[0;32m--> 197\u001b[0m res \u001b[39m=\u001b[39m _minimize_lbfgsb(fun, x0, args\u001b[39m=\u001b[39;49margs, jac\u001b[39m=\u001b[39;49mjac, bounds\u001b[39m=\u001b[39;49mbounds,\n\u001b[1;32m    198\u001b[0m                        \u001b[39m*\u001b[39;49m\u001b[39m*\u001b[39;49mopts)\n\u001b[1;32m    199\u001b[0m d \u001b[39m=\u001b[39m {\u001b[39m'\u001b[39m\u001b[39mgrad\u001b[39m\u001b[39m'\u001b[39m: res[\u001b[39m'\u001b[39m\u001b[39mjac\u001b[39m\u001b[39m'\u001b[39m],\n\u001b[1;32m    200\u001b[0m      \u001b[39m'\u001b[39m\u001b[39mtask\u001b[39m\u001b[39m'\u001b[39m: res[\u001b[39m'\u001b[39m\u001b[39mmessage\u001b[39m\u001b[39m'\u001b[39m],\n\u001b[1;32m    201\u001b[0m      \u001b[39m'\u001b[39m\u001b[39mfuncalls\u001b[39m\u001b[39m'\u001b[39m: res[\u001b[39m'\u001b[39m\u001b[39mnfev\u001b[39m\u001b[39m'\u001b[39m],\n\u001b[1;32m    202\u001b[0m      \u001b[39m'\u001b[39m\u001b[39mnit\u001b[39m\u001b[39m'\u001b[39m: res[\u001b[39m'\u001b[39m\u001b[39mnit\u001b[39m\u001b[39m'\u001b[39m],\n\u001b[1;32m    203\u001b[0m      \u001b[39m'\u001b[39m\u001b[39mwarnflag\u001b[39m\u001b[39m'\u001b[39m: res[\u001b[39m'\u001b[39m\u001b[39mstatus\u001b[39m\u001b[39m'\u001b[39m]}\n\u001b[1;32m    204\u001b[0m f \u001b[39m=\u001b[39m res[\u001b[39m'\u001b[39m\u001b[39mfun\u001b[39m\u001b[39m'\u001b[39m]\n",
      "File \u001b[0;32m~/miniconda3/envs/mfdgp/lib/python3.8/site-packages/scipy/optimize/_lbfgsb_py.py:359\u001b[0m, in \u001b[0;36m_minimize_lbfgsb\u001b[0;34m(fun, x0, args, jac, bounds, disp, maxcor, ftol, gtol, eps, maxfun, maxiter, iprint, callback, maxls, finite_diff_rel_step, **unknown_options)\u001b[0m\n\u001b[1;32m    353\u001b[0m task_str \u001b[39m=\u001b[39m task\u001b[39m.\u001b[39mtobytes()\n\u001b[1;32m    354\u001b[0m \u001b[39mif\u001b[39;00m task_str\u001b[39m.\u001b[39mstartswith(\u001b[39mb\u001b[39m\u001b[39m'\u001b[39m\u001b[39mFG\u001b[39m\u001b[39m'\u001b[39m):\n\u001b[1;32m    355\u001b[0m     \u001b[39m# The minimization routine wants f and g at the current x.\u001b[39;00m\n\u001b[1;32m    356\u001b[0m     \u001b[39m# Note that interruptions due to maxfun are postponed\u001b[39;00m\n\u001b[1;32m    357\u001b[0m     \u001b[39m# until the completion of the current minimization iteration.\u001b[39;00m\n\u001b[1;32m    358\u001b[0m     \u001b[39m# Overwrite f and g:\u001b[39;00m\n\u001b[0;32m--> 359\u001b[0m     f, g \u001b[39m=\u001b[39m func_and_grad(x)\n\u001b[1;32m    360\u001b[0m \u001b[39melif\u001b[39;00m task_str\u001b[39m.\u001b[39mstartswith(\u001b[39mb\u001b[39m\u001b[39m'\u001b[39m\u001b[39mNEW_X\u001b[39m\u001b[39m'\u001b[39m):\n\u001b[1;32m    361\u001b[0m     \u001b[39m# new iteration\u001b[39;00m\n\u001b[1;32m    362\u001b[0m     n_iterations \u001b[39m+\u001b[39m\u001b[39m=\u001b[39m \u001b[39m1\u001b[39m\n",
      "File \u001b[0;32m~/miniconda3/envs/mfdgp/lib/python3.8/site-packages/scipy/optimize/_differentiable_functions.py:285\u001b[0m, in \u001b[0;36mScalarFunction.fun_and_grad\u001b[0;34m(self, x)\u001b[0m\n\u001b[1;32m    283\u001b[0m \u001b[39mif\u001b[39;00m \u001b[39mnot\u001b[39;00m np\u001b[39m.\u001b[39marray_equal(x, \u001b[39mself\u001b[39m\u001b[39m.\u001b[39mx):\n\u001b[1;32m    284\u001b[0m     \u001b[39mself\u001b[39m\u001b[39m.\u001b[39m_update_x_impl(x)\n\u001b[0;32m--> 285\u001b[0m \u001b[39mself\u001b[39;49m\u001b[39m.\u001b[39;49m_update_fun()\n\u001b[1;32m    286\u001b[0m \u001b[39mself\u001b[39m\u001b[39m.\u001b[39m_update_grad()\n\u001b[1;32m    287\u001b[0m \u001b[39mreturn\u001b[39;00m \u001b[39mself\u001b[39m\u001b[39m.\u001b[39mf, \u001b[39mself\u001b[39m\u001b[39m.\u001b[39mg\n",
      "File \u001b[0;32m~/miniconda3/envs/mfdgp/lib/python3.8/site-packages/scipy/optimize/_differentiable_functions.py:251\u001b[0m, in \u001b[0;36mScalarFunction._update_fun\u001b[0;34m(self)\u001b[0m\n\u001b[1;32m    249\u001b[0m \u001b[39mdef\u001b[39;00m \u001b[39m_update_fun\u001b[39m(\u001b[39mself\u001b[39m):\n\u001b[1;32m    250\u001b[0m     \u001b[39mif\u001b[39;00m \u001b[39mnot\u001b[39;00m \u001b[39mself\u001b[39m\u001b[39m.\u001b[39mf_updated:\n\u001b[0;32m--> 251\u001b[0m         \u001b[39mself\u001b[39;49m\u001b[39m.\u001b[39;49m_update_fun_impl()\n\u001b[1;32m    252\u001b[0m         \u001b[39mself\u001b[39m\u001b[39m.\u001b[39mf_updated \u001b[39m=\u001b[39m \u001b[39mTrue\u001b[39;00m\n",
      "File \u001b[0;32m~/miniconda3/envs/mfdgp/lib/python3.8/site-packages/scipy/optimize/_differentiable_functions.py:155\u001b[0m, in \u001b[0;36mScalarFunction.__init__.<locals>.update_fun\u001b[0;34m()\u001b[0m\n\u001b[1;32m    154\u001b[0m \u001b[39mdef\u001b[39;00m \u001b[39mupdate_fun\u001b[39m():\n\u001b[0;32m--> 155\u001b[0m     \u001b[39mself\u001b[39m\u001b[39m.\u001b[39mf \u001b[39m=\u001b[39m fun_wrapped(\u001b[39mself\u001b[39;49m\u001b[39m.\u001b[39;49mx)\n",
      "File \u001b[0;32m~/miniconda3/envs/mfdgp/lib/python3.8/site-packages/scipy/optimize/_differentiable_functions.py:137\u001b[0m, in \u001b[0;36mScalarFunction.__init__.<locals>.fun_wrapped\u001b[0;34m(x)\u001b[0m\n\u001b[1;32m    133\u001b[0m \u001b[39mself\u001b[39m\u001b[39m.\u001b[39mnfev \u001b[39m+\u001b[39m\u001b[39m=\u001b[39m \u001b[39m1\u001b[39m\n\u001b[1;32m    134\u001b[0m \u001b[39m# Send a copy because the user may overwrite it.\u001b[39;00m\n\u001b[1;32m    135\u001b[0m \u001b[39m# Overwriting results in undefined behaviour because\u001b[39;00m\n\u001b[1;32m    136\u001b[0m \u001b[39m# fun(self.x) will change self.x, with the two no longer linked.\u001b[39;00m\n\u001b[0;32m--> 137\u001b[0m fx \u001b[39m=\u001b[39m fun(np\u001b[39m.\u001b[39;49mcopy(x), \u001b[39m*\u001b[39;49margs)\n\u001b[1;32m    138\u001b[0m \u001b[39m# Make sure the function returns a true scalar\u001b[39;00m\n\u001b[1;32m    139\u001b[0m \u001b[39mif\u001b[39;00m \u001b[39mnot\u001b[39;00m np\u001b[39m.\u001b[39misscalar(fx):\n",
      "File \u001b[0;32m~/miniconda3/envs/mfdgp/lib/python3.8/site-packages/scipy/optimize/_optimize.py:76\u001b[0m, in \u001b[0;36mMemoizeJac.__call__\u001b[0;34m(self, x, *args)\u001b[0m\n\u001b[1;32m     74\u001b[0m \u001b[39mdef\u001b[39;00m \u001b[39m__call__\u001b[39m(\u001b[39mself\u001b[39m, x, \u001b[39m*\u001b[39margs):\n\u001b[1;32m     75\u001b[0m     \u001b[39m\"\"\" returns the function value \"\"\"\u001b[39;00m\n\u001b[0;32m---> 76\u001b[0m     \u001b[39mself\u001b[39;49m\u001b[39m.\u001b[39;49m_compute_if_needed(x, \u001b[39m*\u001b[39;49margs)\n\u001b[1;32m     77\u001b[0m     \u001b[39mreturn\u001b[39;00m \u001b[39mself\u001b[39m\u001b[39m.\u001b[39m_value\n",
      "File \u001b[0;32m~/miniconda3/envs/mfdgp/lib/python3.8/site-packages/scipy/optimize/_optimize.py:70\u001b[0m, in \u001b[0;36mMemoizeJac._compute_if_needed\u001b[0;34m(self, x, *args)\u001b[0m\n\u001b[1;32m     68\u001b[0m \u001b[39mif\u001b[39;00m \u001b[39mnot\u001b[39;00m np\u001b[39m.\u001b[39mall(x \u001b[39m==\u001b[39m \u001b[39mself\u001b[39m\u001b[39m.\u001b[39mx) \u001b[39mor\u001b[39;00m \u001b[39mself\u001b[39m\u001b[39m.\u001b[39m_value \u001b[39mis\u001b[39;00m \u001b[39mNone\u001b[39;00m \u001b[39mor\u001b[39;00m \u001b[39mself\u001b[39m\u001b[39m.\u001b[39mjac \u001b[39mis\u001b[39;00m \u001b[39mNone\u001b[39;00m:\n\u001b[1;32m     69\u001b[0m     \u001b[39mself\u001b[39m\u001b[39m.\u001b[39mx \u001b[39m=\u001b[39m np\u001b[39m.\u001b[39masarray(x)\u001b[39m.\u001b[39mcopy()\n\u001b[0;32m---> 70\u001b[0m     fg \u001b[39m=\u001b[39m \u001b[39mself\u001b[39;49m\u001b[39m.\u001b[39;49mfun(x, \u001b[39m*\u001b[39;49margs)\n\u001b[1;32m     71\u001b[0m     \u001b[39mself\u001b[39m\u001b[39m.\u001b[39mjac \u001b[39m=\u001b[39m fg[\u001b[39m1\u001b[39m]\n\u001b[1;32m     72\u001b[0m     \u001b[39mself\u001b[39m\u001b[39m.\u001b[39m_value \u001b[39m=\u001b[39m fg[\u001b[39m0\u001b[39m]\n",
      "File \u001b[0;32m~/miniconda3/envs/mfdgp/lib/python3.8/site-packages/paramz/model.py:273\u001b[0m, in \u001b[0;36mModel._objective_grads\u001b[0;34m(self, x)\u001b[0m\n\u001b[1;32m    271\u001b[0m \u001b[39mdef\u001b[39;00m \u001b[39m_objective_grads\u001b[39m(\u001b[39mself\u001b[39m, x):\n\u001b[1;32m    272\u001b[0m     \u001b[39mtry\u001b[39;00m:\n\u001b[0;32m--> 273\u001b[0m         \u001b[39mself\u001b[39m\u001b[39m.\u001b[39moptimizer_array \u001b[39m=\u001b[39m x\n\u001b[1;32m    274\u001b[0m         obj_f, \u001b[39mself\u001b[39m\u001b[39m.\u001b[39mobj_grads \u001b[39m=\u001b[39m \u001b[39mself\u001b[39m\u001b[39m.\u001b[39mobjective_function(), \u001b[39mself\u001b[39m\u001b[39m.\u001b[39m_transform_gradients(\u001b[39mself\u001b[39m\u001b[39m.\u001b[39mobjective_function_gradients())\n\u001b[1;32m    275\u001b[0m         \u001b[39mself\u001b[39m\u001b[39m.\u001b[39m_fail_count \u001b[39m=\u001b[39m \u001b[39m0\u001b[39m\n",
      "File \u001b[0;32m~/miniconda3/envs/mfdgp/lib/python3.8/site-packages/paramz/parameterized.py:339\u001b[0m, in \u001b[0;36mParameterized.__setattr__\u001b[0;34m(self, name, val)\u001b[0m\n\u001b[1;32m    337\u001b[0m         param \u001b[39m=\u001b[39m \u001b[39mself\u001b[39m\u001b[39m.\u001b[39mparameters[pnames\u001b[39m.\u001b[39mindex(name)]\n\u001b[1;32m    338\u001b[0m         param[:] \u001b[39m=\u001b[39m val; \u001b[39mreturn\u001b[39;00m\n\u001b[0;32m--> 339\u001b[0m \u001b[39mreturn\u001b[39;00m \u001b[39mobject\u001b[39;49m\u001b[39m.\u001b[39;49m\u001b[39m__setattr__\u001b[39;49m(\u001b[39mself\u001b[39;49m, name, val)\n",
      "File \u001b[0;32m~/miniconda3/envs/mfdgp/lib/python3.8/site-packages/paramz/core/parameter_core.py:124\u001b[0m, in \u001b[0;36mOptimizationHandlable.optimizer_array\u001b[0;34m(self, p)\u001b[0m\n\u001b[1;32m    121\u001b[0m \u001b[39m#self._highest_parent_.tie.propagate_val()\u001b[39;00m\n\u001b[1;32m    123\u001b[0m \u001b[39mself\u001b[39m\u001b[39m.\u001b[39m_optimizer_copy_transformed \u001b[39m=\u001b[39m \u001b[39mFalse\u001b[39;00m\n\u001b[0;32m--> 124\u001b[0m \u001b[39mself\u001b[39;49m\u001b[39m.\u001b[39;49mtrigger_update()\n",
      "File \u001b[0;32m~/miniconda3/envs/mfdgp/lib/python3.8/site-packages/paramz/core/updateable.py:79\u001b[0m, in \u001b[0;36mUpdateable.trigger_update\u001b[0;34m(self, trigger_parent)\u001b[0m\n\u001b[1;32m     76\u001b[0m \u001b[39mif\u001b[39;00m \u001b[39mnot\u001b[39;00m \u001b[39mself\u001b[39m\u001b[39m.\u001b[39mupdate_model() \u001b[39mor\u001b[39;00m (\u001b[39mhasattr\u001b[39m(\u001b[39mself\u001b[39m, \u001b[39m\"\u001b[39m\u001b[39m_in_init_\u001b[39m\u001b[39m\"\u001b[39m) \u001b[39mand\u001b[39;00m \u001b[39mself\u001b[39m\u001b[39m.\u001b[39m_in_init_):\n\u001b[1;32m     77\u001b[0m     \u001b[39m#print \"Warning: updates are off, updating the model will do nothing\"\u001b[39;00m\n\u001b[1;32m     78\u001b[0m     \u001b[39mreturn\u001b[39;00m\n\u001b[0;32m---> 79\u001b[0m \u001b[39mself\u001b[39;49m\u001b[39m.\u001b[39;49m_trigger_params_changed(trigger_parent)\n",
      "File \u001b[0;32m~/miniconda3/envs/mfdgp/lib/python3.8/site-packages/paramz/core/parameter_core.py:134\u001b[0m, in \u001b[0;36mOptimizationHandlable._trigger_params_changed\u001b[0;34m(self, trigger_parent)\u001b[0m\n\u001b[1;32m    127\u001b[0m \u001b[39m\"\"\"\u001b[39;00m\n\u001b[1;32m    128\u001b[0m \u001b[39mFirst tell all children to update,\u001b[39;00m\n\u001b[1;32m    129\u001b[0m \u001b[39mthen update yourself.\u001b[39;00m\n\u001b[1;32m    130\u001b[0m \n\u001b[1;32m    131\u001b[0m \u001b[39mIf trigger_parent is True, we will tell the parent, otherwise not.\u001b[39;00m\n\u001b[1;32m    132\u001b[0m \u001b[39m\"\"\"\u001b[39;00m\n\u001b[1;32m    133\u001b[0m [p\u001b[39m.\u001b[39m_trigger_params_changed(trigger_parent\u001b[39m=\u001b[39m\u001b[39mFalse\u001b[39;00m) \u001b[39mfor\u001b[39;00m p \u001b[39min\u001b[39;00m \u001b[39mself\u001b[39m\u001b[39m.\u001b[39mparameters \u001b[39mif\u001b[39;00m \u001b[39mnot\u001b[39;00m p\u001b[39m.\u001b[39mis_fixed]\n\u001b[0;32m--> 134\u001b[0m \u001b[39mself\u001b[39;49m\u001b[39m.\u001b[39;49mnotify_observers(\u001b[39mNone\u001b[39;49;00m, \u001b[39mNone\u001b[39;49;00m \u001b[39mif\u001b[39;49;00m trigger_parent \u001b[39melse\u001b[39;49;00m \u001b[39m-\u001b[39;49mnp\u001b[39m.\u001b[39;49minf)\n",
      "File \u001b[0;32m~/miniconda3/envs/mfdgp/lib/python3.8/site-packages/paramz/core/observable.py:91\u001b[0m, in \u001b[0;36mObservable.notify_observers\u001b[0;34m(self, which, min_priority)\u001b[0m\n\u001b[1;32m     89\u001b[0m     which \u001b[39m=\u001b[39m \u001b[39mself\u001b[39m\n\u001b[1;32m     90\u001b[0m \u001b[39mif\u001b[39;00m min_priority \u001b[39mis\u001b[39;00m \u001b[39mNone\u001b[39;00m:\n\u001b[0;32m---> 91\u001b[0m     [callble(\u001b[39mself\u001b[39m, which\u001b[39m=\u001b[39mwhich) \u001b[39mfor\u001b[39;00m _, _, callble \u001b[39min\u001b[39;00m \u001b[39mself\u001b[39m\u001b[39m.\u001b[39mobservers]\n\u001b[1;32m     92\u001b[0m \u001b[39melse\u001b[39;00m:\n\u001b[1;32m     93\u001b[0m     \u001b[39mfor\u001b[39;00m p, _, callble \u001b[39min\u001b[39;00m \u001b[39mself\u001b[39m\u001b[39m.\u001b[39mobservers:\n",
      "File \u001b[0;32m~/miniconda3/envs/mfdgp/lib/python3.8/site-packages/paramz/core/observable.py:91\u001b[0m, in \u001b[0;36m<listcomp>\u001b[0;34m(.0)\u001b[0m\n\u001b[1;32m     89\u001b[0m     which \u001b[39m=\u001b[39m \u001b[39mself\u001b[39m\n\u001b[1;32m     90\u001b[0m \u001b[39mif\u001b[39;00m min_priority \u001b[39mis\u001b[39;00m \u001b[39mNone\u001b[39;00m:\n\u001b[0;32m---> 91\u001b[0m     [callble(\u001b[39mself\u001b[39;49m, which\u001b[39m=\u001b[39;49mwhich) \u001b[39mfor\u001b[39;00m _, _, callble \u001b[39min\u001b[39;00m \u001b[39mself\u001b[39m\u001b[39m.\u001b[39mobservers]\n\u001b[1;32m     92\u001b[0m \u001b[39melse\u001b[39;00m:\n\u001b[1;32m     93\u001b[0m     \u001b[39mfor\u001b[39;00m p, _, callble \u001b[39min\u001b[39;00m \u001b[39mself\u001b[39m\u001b[39m.\u001b[39mobservers:\n",
      "File \u001b[0;32m~/miniconda3/envs/mfdgp/lib/python3.8/site-packages/paramz/core/parameter_core.py:508\u001b[0m, in \u001b[0;36mParameterizable._parameters_changed_notification\u001b[0;34m(self, me, which)\u001b[0m\n\u001b[1;32m    503\u001b[0m \u001b[39m\"\"\"\u001b[39;00m\n\u001b[1;32m    504\u001b[0m \u001b[39mIn parameterizable we just need to make sure, that the next call to optimizer_array\u001b[39;00m\n\u001b[1;32m    505\u001b[0m \u001b[39mwill update the optimizer_array to the latest parameters\u001b[39;00m\n\u001b[1;32m    506\u001b[0m \u001b[39m\"\"\"\u001b[39;00m\n\u001b[1;32m    507\u001b[0m \u001b[39mself\u001b[39m\u001b[39m.\u001b[39m_optimizer_copy_transformed \u001b[39m=\u001b[39m \u001b[39mFalse\u001b[39;00m \u001b[39m# tells the optimizer array to update on next request\u001b[39;00m\n\u001b[0;32m--> 508\u001b[0m \u001b[39mself\u001b[39;49m\u001b[39m.\u001b[39;49mparameters_changed()\n",
      "File \u001b[0;32m~/miniconda3/envs/mfdgp/lib/python3.8/site-packages/GPy/core/gp.py:274\u001b[0m, in \u001b[0;36mGP.parameters_changed\u001b[0;34m(self)\u001b[0m\n\u001b[1;32m    265\u001b[0m \u001b[39mdef\u001b[39;00m \u001b[39mparameters_changed\u001b[39m(\u001b[39mself\u001b[39m):\n\u001b[1;32m    266\u001b[0m     \u001b[39m\"\"\"\u001b[39;00m\n\u001b[1;32m    267\u001b[0m \u001b[39m    Method that is called upon any changes to :class:`~GPy.core.parameterization.param.Param` variables within the model.\u001b[39;00m\n\u001b[1;32m    268\u001b[0m \u001b[39m    In particular in the GP class this method re-performs inference, recalculating the posterior and log marginal likelihood and gradients of the model\u001b[39;00m\n\u001b[0;32m   (...)\u001b[0m\n\u001b[1;32m    272\u001b[0m \u001b[39m        this method yourself, there may be unexpected consequences.\u001b[39;00m\n\u001b[1;32m    273\u001b[0m \u001b[39m    \"\"\"\u001b[39;00m\n\u001b[0;32m--> 274\u001b[0m     \u001b[39mself\u001b[39m\u001b[39m.\u001b[39mposterior, \u001b[39mself\u001b[39m\u001b[39m.\u001b[39m_log_marginal_likelihood, \u001b[39mself\u001b[39m\u001b[39m.\u001b[39mgrad_dict \u001b[39m=\u001b[39m \u001b[39mself\u001b[39;49m\u001b[39m.\u001b[39;49minference_method\u001b[39m.\u001b[39;49minference(\u001b[39mself\u001b[39;49m\u001b[39m.\u001b[39;49mkern, \u001b[39mself\u001b[39;49m\u001b[39m.\u001b[39;49mX, \u001b[39mself\u001b[39;49m\u001b[39m.\u001b[39;49mlikelihood, \u001b[39mself\u001b[39;49m\u001b[39m.\u001b[39;49mY_normalized, \u001b[39mself\u001b[39;49m\u001b[39m.\u001b[39;49mmean_function, \u001b[39mself\u001b[39;49m\u001b[39m.\u001b[39;49mY_metadata)\n\u001b[1;32m    275\u001b[0m     \u001b[39mself\u001b[39m\u001b[39m.\u001b[39mlikelihood\u001b[39m.\u001b[39mupdate_gradients(\u001b[39mself\u001b[39m\u001b[39m.\u001b[39mgrad_dict[\u001b[39m'\u001b[39m\u001b[39mdL_dthetaL\u001b[39m\u001b[39m'\u001b[39m])\n\u001b[1;32m    276\u001b[0m     \u001b[39mself\u001b[39m\u001b[39m.\u001b[39mkern\u001b[39m.\u001b[39mupdate_gradients_full(\u001b[39mself\u001b[39m\u001b[39m.\u001b[39mgrad_dict[\u001b[39m'\u001b[39m\u001b[39mdL_dK\u001b[39m\u001b[39m'\u001b[39m], \u001b[39mself\u001b[39m\u001b[39m.\u001b[39mX)\n",
      "File \u001b[0;32m~/miniconda3/envs/mfdgp/lib/python3.8/site-packages/GPy/inference/latent_function_inference/exact_gaussian_inference.py:58\u001b[0m, in \u001b[0;36mExactGaussianInference.inference\u001b[0;34m(self, kern, X, likelihood, Y, mean_function, Y_metadata, K, variance, Z_tilde)\u001b[0m\n\u001b[1;32m     55\u001b[0m Ky \u001b[39m=\u001b[39m K\u001b[39m.\u001b[39mcopy()\n\u001b[1;32m     56\u001b[0m diag\u001b[39m.\u001b[39madd(Ky, variance\u001b[39m+\u001b[39m\u001b[39m1e-8\u001b[39m)\n\u001b[0;32m---> 58\u001b[0m Wi, LW, LWi, W_logdet \u001b[39m=\u001b[39m pdinv(Ky)\n\u001b[1;32m     60\u001b[0m alpha, _ \u001b[39m=\u001b[39m dpotrs(LW, YYT_factor, lower\u001b[39m=\u001b[39m\u001b[39m1\u001b[39m)\n\u001b[1;32m     62\u001b[0m log_marginal \u001b[39m=\u001b[39m  \u001b[39m0.5\u001b[39m\u001b[39m*\u001b[39m(\u001b[39m-\u001b[39mY\u001b[39m.\u001b[39msize \u001b[39m*\u001b[39m log_2_pi \u001b[39m-\u001b[39m Y\u001b[39m.\u001b[39mshape[\u001b[39m1\u001b[39m] \u001b[39m*\u001b[39m W_logdet \u001b[39m-\u001b[39m np\u001b[39m.\u001b[39msum(alpha \u001b[39m*\u001b[39m YYT_factor))\n",
      "File \u001b[0;32m~/miniconda3/envs/mfdgp/lib/python3.8/site-packages/GPy/util/linalg.py:210\u001b[0m, in \u001b[0;36mpdinv\u001b[0;34m(A, *args)\u001b[0m\n\u001b[1;32m    208\u001b[0m logdet \u001b[39m=\u001b[39m \u001b[39m2.\u001b[39m\u001b[39m*\u001b[39mnp\u001b[39m.\u001b[39msum(np\u001b[39m.\u001b[39mlog(np\u001b[39m.\u001b[39mdiag(L)))\n\u001b[1;32m    209\u001b[0m Li \u001b[39m=\u001b[39m dtrtri(L)\n\u001b[0;32m--> 210\u001b[0m Ai, _ \u001b[39m=\u001b[39m dpotri(L, lower\u001b[39m=\u001b[39;49m\u001b[39m1\u001b[39;49m)\n\u001b[1;32m    211\u001b[0m \u001b[39m# Ai = np.tril(Ai) + np.tril(Ai,-1).T\u001b[39;00m\n\u001b[1;32m    212\u001b[0m symmetrify(Ai)\n",
      "File \u001b[0;32m~/miniconda3/envs/mfdgp/lib/python3.8/site-packages/GPy/util/linalg.py:142\u001b[0m, in \u001b[0;36mdpotri\u001b[0;34m(A, lower)\u001b[0m\n\u001b[1;32m    128\u001b[0m \u001b[39m\"\"\"\u001b[39;00m\n\u001b[1;32m    129\u001b[0m \u001b[39mWrapper for lapack dpotri function\u001b[39;00m\n\u001b[1;32m    130\u001b[0m \n\u001b[0;32m   (...)\u001b[0m\n\u001b[1;32m    138\u001b[0m \n\u001b[1;32m    139\u001b[0m \u001b[39m\"\"\"\u001b[39;00m\n\u001b[1;32m    141\u001b[0m A \u001b[39m=\u001b[39m force_F_ordered(A)\n\u001b[0;32m--> 142\u001b[0m R, info \u001b[39m=\u001b[39m lapack\u001b[39m.\u001b[39;49mdpotri(A, lower\u001b[39m=\u001b[39;49mlower) \u001b[39m#needs to be zero here, seems to be a scipy bug\u001b[39;00m\n\u001b[1;32m    144\u001b[0m symmetrify(R)\n\u001b[1;32m    145\u001b[0m \u001b[39mreturn\u001b[39;00m R, info\n",
      "\u001b[0;31mKeyboardInterrupt\u001b[0m: "
     ]
    }
   ],
   "source": [
    "R2_all = []\n",
    "\n",
    "for t in tqdm([1, 2, 4, 8, 15, 30]):\n",
    "\n",
    "    R2 = []\n",
    "\n",
    "    for i in range(len(cv_train_list)):\n",
    "\n",
    "        tr = 12 * t\n",
    "\n",
    "        # Input data\n",
    "        X_train, Y_train = convert_xy_lists_to_arrays([cv_x_train_lf[i][:tr*28], cv_x_train_hf[i][:tr*28]], [\n",
    "                                                      cv_y_train_lf[i][:tr*28], cv_y_train_hf[i][:tr*28]])\n",
    "\n",
    "        # Train and evaluate\n",
    "        kern1 = GPy.kern.Matern52(input_dim=4, ARD=True)\n",
    "        kernels = [kern1, GPy.kern.Matern52(input_dim=4, ARD=True)]\n",
    "        lin_mf_kernel = emukit.multi_fidelity.kernels.LinearMultiFidelityKernel(\n",
    "            kernels)\n",
    "        gpy_lin_mf_model = GPyLinearMultiFidelityModel(\n",
    "            X_train, Y_train, lin_mf_kernel, n_fidelities=2,)\n",
    "        gpy_lin_mf_model.mixed_noise.Gaussian_noise.fix(0)\n",
    "        gpy_lin_mf_model.mixed_noise.Gaussian_noise_1.fix(0)\n",
    "        lin_mf_model = GPyMultiOutputWrapper(\n",
    "            gpy_lin_mf_model, 2, n_optimization_restarts=5)\n",
    "        lin_mf_model.optimize()\n",
    "\n",
    "        # Load and prep test data\n",
    "        x_val1, y_val = cv_x_val[i][:tr*7], cv_y_val[i][:tr*7]\n",
    "        n = x_val1.shape[0]\n",
    "        x_met = convert_x_list_to_array([x_val1, x_val1])\n",
    "\n",
    "        # ALL\n",
    "        y_pred0, y_var0 = lin_mf_model.predict(x_met[n:])\n",
    "        y_pred_low0, y_var_low0 = lin_mf_model.predict(x_met[:n])\n",
    "\n",
    "        y_pred = sp.special.inv_boxcox(y_pred0, lf_lambdas[i]).reshape(-1)\n",
    "        y_true = sp.special.inv_boxcox(y_val, lf_lambdas[i]).reshape(-1)\n",
    "        R2.append(r2_score(y_true, y_pred))\n",
    "\n",
    "    print('Mean R2 = ', np.mean(R2), '±', np.std(R2))\n",
    "    R2_all.append([np.mean(R2), np.std(R2)])\n",
    "\n",
    "np.savetxt('app_c_value.npy', R2_all)"
   ]
  },
  {
   "cell_type": "code",
   "execution_count": 14,
   "id": "c03c873e-89ee-4963-9018-6a94d9c39292",
   "metadata": {},
   "outputs": [
    {
     "name": "stdout",
     "output_type": "stream",
     "text": [
      "Mean RMSE =  1.8554768746561332 ± 0.0\n",
      "Mean R2 =  0.4456420375310417 ± 0.0\n",
      "5th RMSE =  0.9196423098694533 ± 0.0\n",
      "95th RMSE =  5.077877083218228 ± 0.0\n",
      "MSLL=  1.0922637325560496 ± 0.0\n",
      "Mean RMSE =  1.9670327346686514 ± 0.0\n",
      "Mean R2 =  0.3769794489376289 ± 0.0\n",
      "5th RMSE =  1.0649328671758052 ± 0.0\n",
      "95th RMSE =  4.168218379910711 ± 0.0\n",
      "MSLL=  27390097.713403944 ± 0.0\n"
     ]
    }
   ],
   "source": [
    "plt.figure()\n",
    "R2_arr = np.array(R2_all)\n",
    "plt.errorbar([0, 2, 4, 8, 15, 30], R2_arr[:, 0], yerr=R2_arr[:, 1],\n",
    "             capsize=5, marker='.', linestyle='none')\n",
    "reg = LinearRegression().fit(\n",
    "    np.array([0, 2, 4, 8, 15, 30]).reshape(-1, 1), R2_arr[:, 0])\n",
    "y = reg.predict(np.linspace(0, 30, 10).reshape(-1, 1))\n",
    "plt.plot(np.linspace(0, 30, 10).reshape(-1, 1), y, linestyle='--')\n",
    "plt.ylabel('$R^2$')\n",
    "plt.xlabel('Years')\n",
    "plt.savefig('appendix_C_plot.png', dpi=300)\n"
   ]
  }
 ],
 "metadata": {
  "kernelspec": {
   "display_name": "base",
   "language": "python",
   "name": "python3"
  },
  "language_info": {
   "codemirror_mode": {
    "name": "ipython",
    "version": 3
   },
   "file_extension": ".py",
   "mimetype": "text/x-python",
   "name": "python",
   "nbconvert_exporter": "python",
   "pygments_lexer": "ipython3",
   "version": "3.8.16"
  },
  "vscode": {
   "interpreter": {
    "hash": "5426c688bd3257604544373d620790b2306efd3cd4ed9fb4532f758698a84368"
   }
  }
 },
 "nbformat": 4,
 "nbformat_minor": 5
}
