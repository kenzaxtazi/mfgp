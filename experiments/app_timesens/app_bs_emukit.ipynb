{
 "cells": [
  {
   "attachments": {},
   "cell_type": "markdown",
   "id": "a44092c0-87e9-41b3-9356-048a4ee8c42c",
   "metadata": {},
   "source": [
    "# Appendix C"
   ]
  },
  {
   "cell_type": "code",
   "execution_count": 1,
   "id": "90f5db7b-5395-4d5d-9624-298733a7eccf",
   "metadata": {},
   "outputs": [],
   "source": [
    "import sys\n",
    "sys.path.append('/Users/kenzatazi/Documents/CDT/Code')\n",
    "\n",
    "from load import beas_sutlej_gauges, era5, data_dir\n",
    "from sklearn.preprocessing import MinMaxScaler, StandardScaler\n",
    "from matplotlib import pyplot as plt\n",
    "\n",
    "from tqdm import tqdm\n",
    "\n",
    "import pandas as pd\n",
    "import numpy as np\n",
    "import GPy\n",
    "import scipy as sp\n",
    "from sklearn.metrics import mean_squared_error, r2_score\n",
    "from sklearn.model_selection import KFold\n",
    "from sklearn.linear_model import LinearRegression\n",
    "from mfdgp.utils.metrics import msll, r2_low_vs_high"
   ]
  },
  {
   "cell_type": "code",
   "execution_count": 2,
   "id": "d5d3cf61-9e60-402e-b56d-104888050963",
   "metadata": {},
   "outputs": [],
   "source": [
    "import emukit\n",
    "from emukit.model_wrappers.gpy_model_wrappers import GPyMultiOutputWrapper\n",
    "from emukit.multi_fidelity.models import GPyLinearMultiFidelityModel\n",
    "from emukit.multi_fidelity.convert_lists_to_array import convert_x_list_to_array, convert_xy_lists_to_arrays"
   ]
  },
  {
   "cell_type": "code",
   "execution_count": 3,
   "id": "652328cb-9625-4ba5-b5df-3a49b3e8a90f",
   "metadata": {},
   "outputs": [],
   "source": [
    "import pickle"
   ]
  },
  {
   "cell_type": "markdown",
   "id": "3da9fafb-928a-4d5e-b9b5-7842473b30d4",
   "metadata": {
    "tags": []
   },
   "source": [
    "## Prepare data"
   ]
  },
  {
   "cell_type": "code",
   "execution_count": 4,
   "id": "5b4d8701-d7df-4800-a23b-06713ac0e3b3",
   "metadata": {},
   "outputs": [],
   "source": [
    "# Date range\n",
    "minyear = 1980\n",
    "maxyear = 2010"
   ]
  },
  {
   "cell_type": "code",
   "execution_count": 5,
   "id": "aac2cafb-0201-41d1-89cc-7f1ca323591e",
   "metadata": {},
   "outputs": [
    {
     "name": "stderr",
     "output_type": "stream",
     "text": [
      " /Users/kenzatazi/Documents/CDT/Code/load/beas_sutlej_gauges.py:91: SettingWithCopyWarning:\n",
      "A value is trying to be set on a copy of a slice from a DataFrame.\n",
      "Try using .loc[row_indexer,col_indexer] = value instead\n",
      "\n",
      "See the caveats in the documentation: https://pandas.pydata.org/pandas-docs/stable/user_guide/indexing.html#returning-a-view-versus-a-copy\n"
     ]
    }
   ],
   "source": [
    "# Load cross-validation scheme\n",
    "da = beas_sutlej_gauges.all_gauge_data(minyear, maxyear, threshold=365*30)\n",
    "station_names = np.array(list(da))"
   ]
  },
  {
   "cell_type": "code",
   "execution_count": 6,
   "id": "498c7b75",
   "metadata": {},
   "outputs": [
    {
     "data": {
      "text/plain": [
       "['Pandoh', 'Banjar', 'Bhuntar', 'Larji', 'Suni', 'Rampur', 'Kasol', 'Bhakra']"
      ]
     },
     "execution_count": 6,
     "metadata": {},
     "output_type": "execute_result"
    }
   ],
   "source": [
    "list(da)\n"
   ]
  },
  {
   "cell_type": "code",
   "execution_count": 7,
   "id": "3e699e19",
   "metadata": {},
   "outputs": [],
   "source": [
    "# Split into five chunks\n",
    "kf = KFold(n_splits=8)\n",
    "\n",
    "cv_train_list = []\n",
    "cv_test_list = []\n",
    "\n",
    "for train_index, test_index in kf.split(station_names):\n",
    "    hf_train, hf_test = station_names[train_index], station_names[test_index]\n",
    "    cv_train_list.append(hf_train)\n",
    "    cv_test_list.append(hf_test)"
   ]
  },
  {
   "cell_type": "code",
   "execution_count": 40,
   "id": "4f56acaf",
   "metadata": {},
   "outputs": [
    {
     "data": {
      "text/plain": [
       "[array(['Banjar', 'Bhuntar', 'Larji', 'Suni', 'Rampur', 'Kasol', 'Bhakra'],\n",
       "       dtype='<U7'),\n",
       " array(['Pandoh', 'Bhuntar', 'Larji', 'Suni', 'Rampur', 'Kasol', 'Bhakra'],\n",
       "       dtype='<U7'),\n",
       " array(['Pandoh', 'Banjar', 'Larji', 'Suni', 'Rampur', 'Kasol', 'Bhakra'],\n",
       "       dtype='<U7'),\n",
       " array(['Pandoh', 'Banjar', 'Bhuntar', 'Suni', 'Rampur', 'Kasol', 'Bhakra'],\n",
       "       dtype='<U7'),\n",
       " array(['Pandoh', 'Banjar', 'Bhuntar', 'Larji', 'Rampur', 'Kasol',\n",
       "        'Bhakra'], dtype='<U7'),\n",
       " array(['Pandoh', 'Banjar', 'Bhuntar', 'Larji', 'Suni', 'Kasol', 'Bhakra'],\n",
       "       dtype='<U7'),\n",
       " array(['Pandoh', 'Banjar', 'Bhuntar', 'Larji', 'Suni', 'Rampur', 'Bhakra'],\n",
       "       dtype='<U7'),\n",
       " array(['Pandoh', 'Banjar', 'Bhuntar', 'Larji', 'Suni', 'Rampur', 'Kasol'],\n",
       "       dtype='<U7')]"
      ]
     },
     "execution_count": 40,
     "metadata": {},
     "output_type": "execute_result"
    }
   ],
   "source": [
    "cv_train_list"
   ]
  },
  {
   "cell_type": "code",
   "execution_count": 41,
   "id": "5ce600e4-2080-4584-b55f-953b9c731c21",
   "metadata": {},
   "outputs": [
    {
     "name": "stderr",
     "output_type": "stream",
     "text": [
      " /Users/kenzatazi/Documents/CDT/Code/load/beas_sutlej_gauges.py:34: FutureWarning:In a future version, `df.iloc[:, i] = newvals` will attempt to set the values inplace instead of always setting a new array. To retain the old behavior, use either `df[df.columns[i]] = newvals` or, if columns are non-unique, `df.isetitem(i, newvals)`\n",
      " /Users/kenzatazi/Documents/CDT/Code/load/beas_sutlej_gauges.py:34: FutureWarning:In a future version, `df.iloc[:, i] = newvals` will attempt to set the values inplace instead of always setting a new array. To retain the old behavior, use either `df[df.columns[i]] = newvals` or, if columns are non-unique, `df.isetitem(i, newvals)`\n"
     ]
    },
    {
     "name": "stdout",
     "output_type": "stream",
     "text": [
      "indus\n",
      "/Users/kenzatazi/Documents/CDT/Code/data/ERA5/combi_data_indus_03-2023.csv\n"
     ]
    },
    {
     "name": "stderr",
     "output_type": "stream",
     "text": [
      " /Users/kenzatazi/Documents/CDT/Code/load/beas_sutlej_gauges.py:34: FutureWarning:In a future version, `df.iloc[:, i] = newvals` will attempt to set the values inplace instead of always setting a new array. To retain the old behavior, use either `df[df.columns[i]] = newvals` or, if columns are non-unique, `df.isetitem(i, newvals)`\n",
      " /Users/kenzatazi/Documents/CDT/Code/load/beas_sutlej_gauges.py:34: FutureWarning:In a future version, `df.iloc[:, i] = newvals` will attempt to set the values inplace instead of always setting a new array. To retain the old behavior, use either `df[df.columns[i]] = newvals` or, if columns are non-unique, `df.isetitem(i, newvals)`\n"
     ]
    },
    {
     "name": "stdout",
     "output_type": "stream",
     "text": [
      "indus\n",
      "/Users/kenzatazi/Documents/CDT/Code/data/ERA5/combi_data_indus_03-2023.csv\n"
     ]
    },
    {
     "name": "stderr",
     "output_type": "stream",
     "text": [
      " /Users/kenzatazi/Documents/CDT/Code/load/beas_sutlej_gauges.py:34: FutureWarning:In a future version, `df.iloc[:, i] = newvals` will attempt to set the values inplace instead of always setting a new array. To retain the old behavior, use either `df[df.columns[i]] = newvals` or, if columns are non-unique, `df.isetitem(i, newvals)`\n",
      " /Users/kenzatazi/Documents/CDT/Code/load/beas_sutlej_gauges.py:34: FutureWarning:In a future version, `df.iloc[:, i] = newvals` will attempt to set the values inplace instead of always setting a new array. To retain the old behavior, use either `df[df.columns[i]] = newvals` or, if columns are non-unique, `df.isetitem(i, newvals)`\n"
     ]
    },
    {
     "name": "stdout",
     "output_type": "stream",
     "text": [
      "indus\n",
      "/Users/kenzatazi/Documents/CDT/Code/data/ERA5/combi_data_indus_03-2023.csv\n"
     ]
    },
    {
     "name": "stderr",
     "output_type": "stream",
     "text": [
      " /Users/kenzatazi/Documents/CDT/Code/load/beas_sutlej_gauges.py:34: FutureWarning:In a future version, `df.iloc[:, i] = newvals` will attempt to set the values inplace instead of always setting a new array. To retain the old behavior, use either `df[df.columns[i]] = newvals` or, if columns are non-unique, `df.isetitem(i, newvals)`\n",
      " /Users/kenzatazi/Documents/CDT/Code/load/beas_sutlej_gauges.py:34: FutureWarning:In a future version, `df.iloc[:, i] = newvals` will attempt to set the values inplace instead of always setting a new array. To retain the old behavior, use either `df[df.columns[i]] = newvals` or, if columns are non-unique, `df.isetitem(i, newvals)`\n"
     ]
    },
    {
     "name": "stdout",
     "output_type": "stream",
     "text": [
      "indus\n",
      "/Users/kenzatazi/Documents/CDT/Code/data/ERA5/combi_data_indus_03-2023.csv\n"
     ]
    },
    {
     "name": "stderr",
     "output_type": "stream",
     "text": [
      " /Users/kenzatazi/Documents/CDT/Code/load/beas_sutlej_gauges.py:34: FutureWarning:In a future version, `df.iloc[:, i] = newvals` will attempt to set the values inplace instead of always setting a new array. To retain the old behavior, use either `df[df.columns[i]] = newvals` or, if columns are non-unique, `df.isetitem(i, newvals)`\n",
      " /Users/kenzatazi/Documents/CDT/Code/load/beas_sutlej_gauges.py:34: FutureWarning:In a future version, `df.iloc[:, i] = newvals` will attempt to set the values inplace instead of always setting a new array. To retain the old behavior, use either `df[df.columns[i]] = newvals` or, if columns are non-unique, `df.isetitem(i, newvals)`\n"
     ]
    },
    {
     "name": "stdout",
     "output_type": "stream",
     "text": [
      "indus\n",
      "/Users/kenzatazi/Documents/CDT/Code/data/ERA5/combi_data_indus_03-2023.csv\n"
     ]
    },
    {
     "name": "stderr",
     "output_type": "stream",
     "text": [
      " /Users/kenzatazi/Documents/CDT/Code/load/beas_sutlej_gauges.py:34: FutureWarning:In a future version, `df.iloc[:, i] = newvals` will attempt to set the values inplace instead of always setting a new array. To retain the old behavior, use either `df[df.columns[i]] = newvals` or, if columns are non-unique, `df.isetitem(i, newvals)`\n",
      " /Users/kenzatazi/Documents/CDT/Code/load/beas_sutlej_gauges.py:34: FutureWarning:In a future version, `df.iloc[:, i] = newvals` will attempt to set the values inplace instead of always setting a new array. To retain the old behavior, use either `df[df.columns[i]] = newvals` or, if columns are non-unique, `df.isetitem(i, newvals)`\n"
     ]
    },
    {
     "name": "stdout",
     "output_type": "stream",
     "text": [
      "indus\n",
      "/Users/kenzatazi/Documents/CDT/Code/data/ERA5/combi_data_indus_03-2023.csv\n"
     ]
    },
    {
     "name": "stderr",
     "output_type": "stream",
     "text": [
      " /Users/kenzatazi/Documents/CDT/Code/load/beas_sutlej_gauges.py:34: FutureWarning:In a future version, `df.iloc[:, i] = newvals` will attempt to set the values inplace instead of always setting a new array. To retain the old behavior, use either `df[df.columns[i]] = newvals` or, if columns are non-unique, `df.isetitem(i, newvals)`\n",
      " /Users/kenzatazi/Documents/CDT/Code/load/beas_sutlej_gauges.py:34: FutureWarning:In a future version, `df.iloc[:, i] = newvals` will attempt to set the values inplace instead of always setting a new array. To retain the old behavior, use either `df[df.columns[i]] = newvals` or, if columns are non-unique, `df.isetitem(i, newvals)`\n"
     ]
    },
    {
     "name": "stdout",
     "output_type": "stream",
     "text": [
      "indus\n",
      "/Users/kenzatazi/Documents/CDT/Code/data/ERA5/combi_data_indus_03-2023.csv\n"
     ]
    },
    {
     "name": "stderr",
     "output_type": "stream",
     "text": [
      " /Users/kenzatazi/Documents/CDT/Code/load/beas_sutlej_gauges.py:34: FutureWarning:In a future version, `df.iloc[:, i] = newvals` will attempt to set the values inplace instead of always setting a new array. To retain the old behavior, use either `df[df.columns[i]] = newvals` or, if columns are non-unique, `df.isetitem(i, newvals)`\n",
      " /Users/kenzatazi/Documents/CDT/Code/load/beas_sutlej_gauges.py:34: FutureWarning:In a future version, `df.iloc[:, i] = newvals` will attempt to set the values inplace instead of always setting a new array. To retain the old behavior, use either `df[df.columns[i]] = newvals` or, if columns are non-unique, `df.isetitem(i, newvals)`\n"
     ]
    },
    {
     "name": "stdout",
     "output_type": "stream",
     "text": [
      "indus\n",
      "/Users/kenzatazi/Documents/CDT/Code/data/ERA5/combi_data_indus_03-2023.csv\n"
     ]
    }
   ],
   "source": [
    "# Split data\n",
    "cv_x_train_hf = []\n",
    "cv_y_train_hf = []\n",
    "cv_x_train_lf = []\n",
    "cv_y_train_lf = []\n",
    "cv_x_val = []\n",
    "cv_y_val = []\n",
    "lf_lambdas = []\n",
    "\n",
    "for i in range(len(cv_train_list)):\n",
    "\n",
    "    hf_train_list = []\n",
    "    for station in cv_train_list[i]:\n",
    "        station_ds = beas_sutlej_gauges.gauge_download(\n",
    "            station, minyear=minyear, maxyear=maxyear)\n",
    "        hf_train_list.append(station_ds.to_dataframe().dropna().reset_index())\n",
    "    hf_train_df = pd.concat(hf_train_list)\n",
    "\n",
    "    val_list = []\n",
    "    for station in cv_test_list[i]:\n",
    "        station_ds = beas_sutlej_gauges.gauge_download(\n",
    "            station, minyear=minyear, maxyear=maxyear)\n",
    "        val_list.append(station_ds.to_dataframe().dropna().reset_index())\n",
    "    val_df = pd.concat(val_list)\n",
    "\n",
    "    # era5.collect_ERA5('indus', minyear=minyear, maxyear=maxyear)\n",
    "    era5_df = era5.gauges_download(\n",
    "        list(cv_test_list[i]) + list(cv_train_list[i]), minyear=minyear, maxyear=maxyear)\n",
    "\n",
    "    hf_train_df.sort_values(by='time', inplace=True)\n",
    "    val_df.sort_values(by='time', inplace=True)\n",
    "    lf_train_df = era5_df.sort_values(by='time')\n",
    "    \n",
    "    # Prepare data\n",
    "    \n",
    "    # Transformations\n",
    "    lf_train_df['tp_tr'], lf_lambda = sp.stats.boxcox(\n",
    "        lf_train_df['tp'].values + 0.01)\n",
    "    hf_train_df['tp_tr'] = sp.stats.boxcox(\n",
    "        hf_train_df['tp'].values + 0.01, lmbda=lf_lambda)\n",
    "    val_df['tp_tr'] = sp.stats.boxcox(\n",
    "        val_df['tp'].values + 0.01, lmbda=lf_lambda)\n",
    "\n",
    "    # Splitting\n",
    "    x_train_lf = lf_train_df[['time', 'lat', 'lon', 'z']].values.reshape(-1, 4)\n",
    "    y_train_lf = lf_train_df['tp_tr'].values.reshape(-1, 1)\n",
    "    x_train_hf = hf_train_df[['time', 'lat', 'lon', 'z']].values.reshape(-1, 4)\n",
    "    y_train_hf = hf_train_df[['tp_tr']].values.reshape(-1, 1)\n",
    "    x_val = val_df[['time', 'lat', 'lon', 'z']].values.reshape(-1, 4)\n",
    "    y_val = val_df['tp_tr'].values.reshape(-1, 1)\n",
    "\n",
    "    # Scaling\n",
    "    scaler = StandardScaler().fit(x_train_hf)\n",
    "    x_train_hf1 = scaler.transform(x_train_hf)\n",
    "    x_train_lf1 = scaler.transform(x_train_lf)\n",
    "    x_val1 = scaler.transform(x_val)\n",
    "    \n",
    "    cv_x_train_hf.append(x_train_hf1)\n",
    "    cv_y_train_hf.append(y_train_hf)\n",
    "    cv_x_train_lf.append(x_train_lf1)\n",
    "    cv_y_train_lf.append(y_train_lf)\n",
    "    cv_x_val.append(x_val1)\n",
    "    cv_y_val.append(y_val)\n",
    "    lf_lambdas.append(lf_lambda)\n"
   ]
  },
  {
   "cell_type": "code",
   "execution_count": 28,
   "id": "8e48c5c6",
   "metadata": {},
   "outputs": [
    {
     "data": {
      "text/plain": [
       "array([[-1.71767669,  0.53078931,  0.66383662,  1.48097508],\n",
       "       [-1.71767669, -1.46405854, -0.03107639, -0.83487355],\n",
       "       [-1.71767669,  1.25706887,  0.21453942, -0.24625436],\n",
       "       ...,\n",
       "       [ 1.71767669,  0.53078931,  0.66383662,  1.48097508],\n",
       "       [ 1.71767669, -0.88787676, -0.71999877, -0.8219975 ],\n",
       "       [ 1.71767669, -0.09865297,  0.30439886,  1.76976637]])"
      ]
     },
     "execution_count": 28,
     "metadata": {},
     "output_type": "execute_result"
    }
   ],
   "source": [
    "np.array(cv_x_train_hf[0])\n"
   ]
  },
  {
   "cell_type": "code",
   "execution_count": 42,
   "id": "5718b0b2-a250-42c3-9df5-f7cb06d1db2e",
   "metadata": {},
   "outputs": [],
   "source": [
    "np.save('data/cv_x_train_hf_bs_1980-2010.npy', np.array(cv_x_train_hf))\n",
    "np.save('data/cv_y_train_hf_bs_1980-2010.npy', np.array(cv_y_train_hf))\n",
    "np.save('data/cv_x_train_lf_bs_1980-2010.npy', np.array(cv_x_train_lf))\n",
    "np.save('data/cv_y_train_lf_bs_1980-2010.npy', np.array(cv_y_train_lf))\n",
    "np.save('data/cv_y_val_bs_1980-2010.npy', np.array(cv_y_val))\n",
    "np.save('data/cv_x_val_bs_1980-2010.npy', np.array(cv_x_val))\n",
    "np.save('data/lf_lambda_1980-2010.npy', np.array(lf_lambdas))"
   ]
  },
  {
   "cell_type": "markdown",
   "id": "a286bb4f-a806-48d7-a341-dc0d96276316",
   "metadata": {},
   "source": [
    "## Load data"
   ]
  },
  {
   "cell_type": "code",
   "execution_count": 8,
   "id": "d40fe9c3-ede0-4e69-b183-08c030af91d8",
   "metadata": {},
   "outputs": [],
   "source": [
    "cv_x_train_hf = np.load('data/cv_x_train_hf_bs_1980-2010.npy', allow_pickle=True)\n",
    "cv_y_train_hf = np.load('data/cv_y_train_hf_bs_1980-2010.npy', allow_pickle=True)\n",
    "cv_x_train_lf = np.load('data/cv_x_train_lf_bs_1980-2010.npy', allow_pickle=True)\n",
    "cv_y_train_lf = np.load('data/cv_y_train_lf_bs_1980-2010.npy', allow_pickle=True)\n",
    "cv_x_val = np.load('data/cv_x_val_bs_1980-2010.npy', allow_pickle=True)\n",
    "cv_y_val = np.load('data/cv_y_val_bs_1980-2010.npy', allow_pickle=True)\n",
    "lf_lambdas = np.load('data/lf_lambda_1980-2010.npy', allow_pickle=True)"
   ]
  },
  {
   "cell_type": "markdown",
   "id": "9cf79536-415a-4b95-a761-ba327221399f",
   "metadata": {},
   "source": [
    "## MFDGP"
   ]
  },
  {
   "cell_type": "code",
   "execution_count": 9,
   "id": "b2f731cf-6bd5-445d-a2d0-e4b519a02b70",
   "metadata": {},
   "outputs": [
    {
     "name": "stderr",
     "output_type": "stream",
     "text": [
      "  0%|          | 0/6 [00:00<?, ?it/s] /Users/kenzatazi/miniconda3/envs/mfdgp/lib/python3.8/site-packages/paramz/transformations.py:111: RuntimeWarning:divide by zero encountered in log\n"
     ]
    },
    {
     "name": "stdout",
     "output_type": "stream",
     "text": [
      "Optimization restart 1/5, f = 7.022376651122922\n",
      "Optimization restart 2/5, f = 7.0341989748807165\n",
      "Optimization restart 3/5, f = 9.157347424510181\n",
      "Optimization restart 4/5, f = 7.025504414262787\n",
      "Optimization restart 5/5, f = 6.831177838090923\n"
     ]
    },
    {
     "name": "stderr",
     "output_type": "stream",
     "text": [
      " /Users/kenzatazi/miniconda3/envs/mfdgp/lib/python3.8/site-packages/paramz/transformations.py:111: RuntimeWarning:divide by zero encountered in log\n"
     ]
    },
    {
     "name": "stdout",
     "output_type": "stream",
     "text": [
      "Optimization restart 1/5, f = 9.48307352235203\n",
      "Optimization restart 2/5, f = 8.715707722546261\n",
      "Optimization restart 3/5, f = 7.4909290378499485\n",
      "Optimization restart 4/5, f = 7.490929974820922\n",
      "Optimization restart 5/5, f = 17.24947044416062\n"
     ]
    },
    {
     "name": "stderr",
     "output_type": "stream",
     "text": [
      " /Users/kenzatazi/miniconda3/envs/mfdgp/lib/python3.8/site-packages/paramz/transformations.py:111: RuntimeWarning:divide by zero encountered in log\n"
     ]
    },
    {
     "name": "stdout",
     "output_type": "stream",
     "text": [
      "Optimization restart 1/5, f = 4.5456245749819075\n",
      "Optimization restart 2/5, f = 2.3907438368481344\n",
      "Optimization restart 3/5, f = 14.171334670557862\n",
      "Optimization restart 4/5, f = 4.545624533208361\n",
      "Optimization restart 5/5, f = 3.4515906300025776\n"
     ]
    },
    {
     "name": "stderr",
     "output_type": "stream",
     "text": [
      " /Users/kenzatazi/miniconda3/envs/mfdgp/lib/python3.8/site-packages/paramz/transformations.py:111: RuntimeWarning:divide by zero encountered in log\n"
     ]
    },
    {
     "name": "stdout",
     "output_type": "stream",
     "text": [
      "Optimization restart 1/5, f = 3.9323925254563488\n",
      "Optimization restart 2/5, f = 5.808676847045875\n",
      "Optimization restart 3/5, f = 3.9323923749790133\n",
      "Optimization restart 4/5, f = 3.9323923117768587\n",
      "Optimization restart 5/5, f = 5.7559171445231065\n"
     ]
    },
    {
     "name": "stderr",
     "output_type": "stream",
     "text": [
      " /Users/kenzatazi/miniconda3/envs/mfdgp/lib/python3.8/site-packages/paramz/transformations.py:111: RuntimeWarning:divide by zero encountered in log\n"
     ]
    },
    {
     "name": "stdout",
     "output_type": "stream",
     "text": [
      "Optimization restart 1/5, f = 3.9466823140576945\n",
      "Optimization restart 2/5, f = 3.946682418441412\n",
      "Optimization restart 3/5, f = 7.980287023331638\n",
      "Optimization restart 4/5, f = 3.9466821351122725\n",
      "Optimization restart 5/5, f = 3.9466822111107867\n"
     ]
    },
    {
     "name": "stderr",
     "output_type": "stream",
     "text": [
      " /Users/kenzatazi/miniconda3/envs/mfdgp/lib/python3.8/site-packages/paramz/transformations.py:111: RuntimeWarning:divide by zero encountered in log\n"
     ]
    },
    {
     "name": "stdout",
     "output_type": "stream",
     "text": [
      "Optimization restart 1/5, f = 0.8950956055689865\n",
      "Optimization restart 2/5, f = 0.8950956254056166\n",
      "Optimization restart 3/5, f = 0.8950954601663987\n",
      "Optimization restart 4/5, f = 0.8950956176840137\n",
      "Optimization restart 5/5, f = 0.8950955429635563\n"
     ]
    },
    {
     "name": "stderr",
     "output_type": "stream",
     "text": [
      " /Users/kenzatazi/miniconda3/envs/mfdgp/lib/python3.8/site-packages/paramz/transformations.py:111: RuntimeWarning:divide by zero encountered in log\n"
     ]
    },
    {
     "name": "stdout",
     "output_type": "stream",
     "text": [
      "Optimization restart 1/5, f = 7.7533340541495335\n",
      "Optimization restart 2/5, f = 7.753334164505375\n",
      "Optimization restart 3/5, f = 7.96082295883642\n",
      "Optimization restart 4/5, f = 11.930596815715376\n",
      "Optimization restart 5/5, f = 7.75333401011172\n"
     ]
    },
    {
     "name": "stderr",
     "output_type": "stream",
     "text": [
      " /Users/kenzatazi/miniconda3/envs/mfdgp/lib/python3.8/site-packages/paramz/transformations.py:111: RuntimeWarning:divide by zero encountered in log\n"
     ]
    },
    {
     "name": "stdout",
     "output_type": "stream",
     "text": [
      "Optimization restart 1/5, f = 7.445782564732182\n",
      "Optimization restart 2/5, f = 6.834475006054243\n",
      "Optimization restart 3/5, f = 6.834474838292575\n",
      "Optimization restart 4/5, f = 7.499158433348374\n"
     ]
    },
    {
     "name": "stderr",
     "output_type": "stream",
     "text": [
      " 17%|█▋        | 1/6 [00:19<01:35, 19.05s/it]"
     ]
    },
    {
     "name": "stdout",
     "output_type": "stream",
     "text": [
      "Optimization restart 5/5, f = 7.633488686074605\n",
      "Mean R2 =  -0.3930318958096898 ± 0.0823269199250866\n"
     ]
    },
    {
     "name": "stderr",
     "output_type": "stream",
     "text": [
      " /Users/kenzatazi/miniconda3/envs/mfdgp/lib/python3.8/site-packages/paramz/transformations.py:111: RuntimeWarning:divide by zero encountered in log\n"
     ]
    },
    {
     "name": "stdout",
     "output_type": "stream",
     "text": [
      "Optimization restart 1/5, f = 5.108325563363728\n",
      "Optimization restart 2/5, f = 5.108325941564068\n",
      "Optimization restart 3/5, f = 7.188918360574682\n",
      "Optimization restart 4/5, f = 6.023730442420316\n",
      "Optimization restart 5/5, f = 6.05858685660634\n"
     ]
    },
    {
     "name": "stderr",
     "output_type": "stream",
     "text": [
      " /Users/kenzatazi/miniconda3/envs/mfdgp/lib/python3.8/site-packages/paramz/transformations.py:111: RuntimeWarning:divide by zero encountered in log\n"
     ]
    },
    {
     "name": "stdout",
     "output_type": "stream",
     "text": [
      "Optimization restart 1/5, f = 3.9388101936811495\n",
      "Optimization restart 2/5, f = 3.8324911220382276\n",
      "Optimization restart 3/5, f = 147.39690215909508\n"
     ]
    },
    {
     "name": "stderr",
     "output_type": "stream",
     "text": [
      " /Users/kenzatazi/miniconda3/envs/mfdgp/lib/python3.8/site-packages/GPy/kern/src/stationary.py:243: RuntimeWarning:invalid value encountered in divide\n"
     ]
    },
    {
     "name": "stdout",
     "output_type": "stream",
     "text": [
      "Optimization restart 4/5, f = 10.991129325896726\n",
      "Optimization restart 5/5, f = 9.079169787237625\n"
     ]
    },
    {
     "name": "stderr",
     "output_type": "stream",
     "text": [
      " /Users/kenzatazi/miniconda3/envs/mfdgp/lib/python3.8/site-packages/paramz/transformations.py:111: RuntimeWarning:divide by zero encountered in log\n"
     ]
    },
    {
     "name": "stdout",
     "output_type": "stream",
     "text": [
      "Optimization restart 1/5, f = 0.8453153328272478\n",
      "Optimization restart 2/5, f = 5.558460864251202\n",
      "Optimization restart 3/5, f = 0.5458785588223307\n",
      "Optimization restart 4/5, f = 1.9176969894274265\n",
      "Optimization restart 5/5, f = 1.671503891251497\n"
     ]
    },
    {
     "name": "stderr",
     "output_type": "stream",
     "text": [
      " /Users/kenzatazi/miniconda3/envs/mfdgp/lib/python3.8/site-packages/paramz/transformations.py:111: RuntimeWarning:divide by zero encountered in log\n"
     ]
    },
    {
     "name": "stdout",
     "output_type": "stream",
     "text": [
      "Optimization restart 1/5, f = 5.007954887525905\n",
      "Optimization restart 2/5, f = 5.069505166937343\n",
      "Optimization restart 3/5, f = 4.896704416754275\n",
      "Optimization restart 4/5, f = 4.957662674879252\n"
     ]
    },
    {
     "name": "stderr",
     "output_type": "stream",
     "text": [
      " /Users/kenzatazi/miniconda3/envs/mfdgp/lib/python3.8/site-packages/GPy/kern/src/stationary.py:243: RuntimeWarning:invalid value encountered in divide\n",
      " /Users/kenzatazi/miniconda3/envs/mfdgp/lib/python3.8/site-packages/paramz/transformations.py:111: RuntimeWarning:divide by zero encountered in log\n"
     ]
    },
    {
     "name": "stdout",
     "output_type": "stream",
     "text": [
      "Optimization restart 5/5, f = 9.53095912034835\n",
      "Optimization restart 1/5, f = 2.9615918319585646\n",
      "Optimization restart 2/5, f = 2.460486232736848\n",
      "Optimization restart 3/5, f = 3.876856569563685\n",
      "Optimization restart 4/5, f = 3.6473983369846863\n",
      "Optimization restart 5/5, f = 4.020903183772457\n"
     ]
    },
    {
     "name": "stderr",
     "output_type": "stream",
     "text": [
      " /Users/kenzatazi/miniconda3/envs/mfdgp/lib/python3.8/site-packages/paramz/transformations.py:111: RuntimeWarning:divide by zero encountered in log\n"
     ]
    },
    {
     "name": "stdout",
     "output_type": "stream",
     "text": [
      "Optimization restart 1/5, f = 5.183759700792237\n",
      "Optimization restart 2/5, f = 3.788865954630637\n",
      "Optimization restart 3/5, f = 3.552079863688025\n",
      "Optimization restart 4/5, f = 4.038366928673128\n",
      "Optimization restart 5/5, f = 5.130699708159597\n"
     ]
    },
    {
     "name": "stderr",
     "output_type": "stream",
     "text": [
      " /Users/kenzatazi/miniconda3/envs/mfdgp/lib/python3.8/site-packages/paramz/transformations.py:111: RuntimeWarning:divide by zero encountered in log\n"
     ]
    },
    {
     "name": "stdout",
     "output_type": "stream",
     "text": [
      "Optimization restart 1/5, f = 8.39218214792712\n",
      "Optimization restart 2/5, f = 7.730723020499035\n",
      "Optimization restart 3/5, f = 10.725159055051048\n",
      "Optimization restart 4/5, f = 8.611347929331576\n",
      "Optimization restart 5/5, f = 6.804040158227032\n"
     ]
    },
    {
     "name": "stderr",
     "output_type": "stream",
     "text": [
      " /Users/kenzatazi/miniconda3/envs/mfdgp/lib/python3.8/site-packages/paramz/transformations.py:111: RuntimeWarning:divide by zero encountered in log\n"
     ]
    },
    {
     "name": "stdout",
     "output_type": "stream",
     "text": [
      "Optimization restart 1/5, f = 8.753841819249647\n",
      "Optimization restart 2/5, f = 7.890590569354398\n",
      "Optimization restart 3/5, f = 8.784004723576516\n",
      "Optimization restart 4/5, f = 7.6115408615426645\n"
     ]
    },
    {
     "name": "stderr",
     "output_type": "stream",
     "text": [
      " 33%|███▎      | 2/6 [00:33<01:05, 16.28s/it]"
     ]
    },
    {
     "name": "stdout",
     "output_type": "stream",
     "text": [
      "Optimization restart 5/5, f = 8.320306870699035\n",
      "Mean R2 =  -0.39214300713863603 ± 0.08077638204701579\n"
     ]
    },
    {
     "name": "stderr",
     "output_type": "stream",
     "text": [
      " /Users/kenzatazi/miniconda3/envs/mfdgp/lib/python3.8/site-packages/paramz/transformations.py:111: RuntimeWarning:divide by zero encountered in log\n"
     ]
    },
    {
     "name": "stdout",
     "output_type": "stream",
     "text": [
      "Optimization restart 1/5, f = 66.93367068250198\n",
      "Optimization restart 2/5, f = 66.772223739624\n",
      "Optimization restart 3/5, f = 66.77222474742531\n",
      "Optimization restart 4/5, f = 66.77222319379959\n",
      "Optimization restart 5/5, f = 66.93367107395828\n"
     ]
    },
    {
     "name": "stderr",
     "output_type": "stream",
     "text": [
      " /Users/kenzatazi/miniconda3/envs/mfdgp/lib/python3.8/site-packages/paramz/transformations.py:111: RuntimeWarning:divide by zero encountered in log\n"
     ]
    },
    {
     "name": "stdout",
     "output_type": "stream",
     "text": [
      "Optimization restart 1/5, f = 65.80413725467315\n",
      "Optimization restart 2/5, f = 87.13853871348076\n",
      "Optimization restart 3/5, f = 65.80413624787292\n",
      "Optimization restart 4/5, f = 65.80413885280225\n",
      "Optimization restart 5/5, f = 66.28322187805827\n"
     ]
    },
    {
     "name": "stderr",
     "output_type": "stream",
     "text": [
      " /Users/kenzatazi/miniconda3/envs/mfdgp/lib/python3.8/site-packages/paramz/transformations.py:111: RuntimeWarning:divide by zero encountered in log\n"
     ]
    },
    {
     "name": "stdout",
     "output_type": "stream",
     "text": [
      "Optimization restart 1/5, f = 67.38512001029015\n",
      "Optimization restart 2/5, f = 67.38511207370966\n",
      "Optimization restart 3/5, f = 72.484748422759\n",
      "Optimization restart 4/5, f = 268028979.00112137\n",
      "Optimization restart 5/5, f = 67.3851105901791\n"
     ]
    },
    {
     "name": "stderr",
     "output_type": "stream",
     "text": [
      " /Users/kenzatazi/miniconda3/envs/mfdgp/lib/python3.8/site-packages/paramz/transformations.py:111: RuntimeWarning:divide by zero encountered in log\n"
     ]
    },
    {
     "name": "stdout",
     "output_type": "stream",
     "text": [
      "Optimization restart 1/5, f = 69.73452887303263\n",
      "Optimization restart 2/5, f = 69.73452847013004\n",
      "Optimization restart 3/5, f = 69.73453139387667\n",
      "Optimization restart 4/5, f = 69.73452974657268\n",
      "Optimization restart 5/5, f = 69.7345306249384\n"
     ]
    },
    {
     "name": "stderr",
     "output_type": "stream",
     "text": [
      " /Users/kenzatazi/miniconda3/envs/mfdgp/lib/python3.8/site-packages/paramz/transformations.py:111: RuntimeWarning:divide by zero encountered in log\n"
     ]
    },
    {
     "name": "stdout",
     "output_type": "stream",
     "text": [
      "Optimization restart 1/5, f = 65.99341210073933\n",
      "Optimization restart 2/5, f = 64.94075457195032\n",
      "Optimization restart 3/5, f = 64.94075823147367\n",
      "Optimization restart 4/5, f = 65.99030153297335\n",
      "Optimization restart 5/5, f = 65.32006021890221\n"
     ]
    },
    {
     "name": "stderr",
     "output_type": "stream",
     "text": [
      " /Users/kenzatazi/miniconda3/envs/mfdgp/lib/python3.8/site-packages/paramz/transformations.py:111: RuntimeWarning:divide by zero encountered in log\n"
     ]
    },
    {
     "name": "stdout",
     "output_type": "stream",
     "text": [
      "Optimization restart 1/5, f = 61.6284946708199\n",
      "Optimization restart 2/5, f = 61.628494759899155\n",
      "Optimization restart 3/5, f = 61.62849438417122\n",
      "Optimization restart 4/5, f = 61.628504769666755\n",
      "Optimization restart 5/5, f = 61.62849571663004\n"
     ]
    },
    {
     "name": "stderr",
     "output_type": "stream",
     "text": [
      " /Users/kenzatazi/miniconda3/envs/mfdgp/lib/python3.8/site-packages/paramz/transformations.py:111: RuntimeWarning:divide by zero encountered in log\n"
     ]
    },
    {
     "name": "stdout",
     "output_type": "stream",
     "text": [
      "Optimization restart 1/5, f = 68.92647857667716\n",
      "Optimization restart 2/5, f = 68.92647899734465\n",
      "Optimization restart 3/5, f = 68.09362398728058\n",
      "Optimization restart 4/5, f = 68.92647847846658\n",
      "Optimization restart 5/5, f = 68.13217815694091\n"
     ]
    },
    {
     "name": "stderr",
     "output_type": "stream",
     "text": [
      " /Users/kenzatazi/miniconda3/envs/mfdgp/lib/python3.8/site-packages/paramz/transformations.py:111: RuntimeWarning:divide by zero encountered in log\n"
     ]
    },
    {
     "name": "stdout",
     "output_type": "stream",
     "text": [
      "Optimization restart 1/5, f = 65.78058431954715\n",
      "Optimization restart 2/5, f = 65.78059317698288\n",
      "Optimization restart 3/5, f = 70.5569902127154\n",
      "Optimization restart 4/5, f = 65.78058625144365\n"
     ]
    },
    {
     "name": "stderr",
     "output_type": "stream",
     "text": [
      " 50%|█████     | 3/6 [01:02<01:07, 22.34s/it]"
     ]
    },
    {
     "name": "stdout",
     "output_type": "stream",
     "text": [
      "Optimization restart 5/5, f = 65.78058247401813\n",
      "Mean R2 =  -0.37599113985067056 ± 0.08653803600285713\n"
     ]
    },
    {
     "name": "stderr",
     "output_type": "stream",
     "text": [
      " /Users/kenzatazi/miniconda3/envs/mfdgp/lib/python3.8/site-packages/paramz/transformations.py:111: RuntimeWarning:divide by zero encountered in log\n"
     ]
    },
    {
     "name": "stdout",
     "output_type": "stream",
     "text": [
      "Optimization restart 1/5, f = 138.58828653541067\n",
      "Optimization restart 2/5, f = 138.58828685741378\n",
      "Optimization restart 3/5, f = 138.58828785728826\n",
      "Optimization restart 4/5, f = 138.58828864420133\n",
      "Optimization restart 5/5, f = 138.58828594935653\n"
     ]
    },
    {
     "name": "stderr",
     "output_type": "stream",
     "text": [
      " /Users/kenzatazi/miniconda3/envs/mfdgp/lib/python3.8/site-packages/paramz/transformations.py:111: RuntimeWarning:divide by zero encountered in log\n"
     ]
    },
    {
     "name": "stdout",
     "output_type": "stream",
     "text": [
      "Optimization restart 1/5, f = 136.94613171636416\n",
      "Optimization restart 2/5, f = 136.94613094178385\n",
      "Optimization restart 3/5, f = 136.94613088256563\n",
      "Optimization restart 4/5, f = 136.72811806581677\n",
      "Optimization restart 5/5, f = 151.9833793611739\n"
     ]
    },
    {
     "name": "stderr",
     "output_type": "stream",
     "text": [
      " /Users/kenzatazi/miniconda3/envs/mfdgp/lib/python3.8/site-packages/paramz/transformations.py:111: RuntimeWarning:divide by zero encountered in log\n"
     ]
    },
    {
     "name": "stdout",
     "output_type": "stream",
     "text": [
      "Optimization restart 1/5, f = 140.72654716395772\n",
      "Optimization restart 2/5, f = 140.72654687432237\n",
      "Optimization restart 3/5, f = 140.20593148409017\n",
      "Optimization restart 4/5, f = 140.20593138015428\n",
      "Optimization restart 5/5, f = 215.97587303062363\n"
     ]
    },
    {
     "name": "stderr",
     "output_type": "stream",
     "text": [
      " /Users/kenzatazi/miniconda3/envs/mfdgp/lib/python3.8/site-packages/paramz/transformations.py:111: RuntimeWarning:divide by zero encountered in log\n"
     ]
    },
    {
     "name": "stdout",
     "output_type": "stream",
     "text": [
      "Optimization restart 1/5, f = 143.95363600249726\n",
      "Optimization restart 2/5, f = 143.9536367532149\n",
      "Optimization restart 3/5, f = 143.95363963191357\n",
      "Optimization restart 4/5, f = 143.95363290444067\n",
      "Optimization restart 5/5, f = 143.95363297134105\n"
     ]
    },
    {
     "name": "stderr",
     "output_type": "stream",
     "text": [
      " /Users/kenzatazi/miniconda3/envs/mfdgp/lib/python3.8/site-packages/paramz/transformations.py:111: RuntimeWarning:divide by zero encountered in log\n"
     ]
    },
    {
     "name": "stdout",
     "output_type": "stream",
     "text": [
      "Optimization restart 1/5, f = 147.7244940201193\n",
      "Optimization restart 2/5, f = 137.49124243429006\n",
      "Optimization restart 3/5, f = 137.4912427343101\n",
      "Optimization restart 4/5, f = 172.03554233894124\n",
      "Optimization restart 5/5, f = 137.49124495131127\n"
     ]
    },
    {
     "name": "stderr",
     "output_type": "stream",
     "text": [
      " /Users/kenzatazi/miniconda3/envs/mfdgp/lib/python3.8/site-packages/paramz/transformations.py:111: RuntimeWarning:divide by zero encountered in log\n"
     ]
    },
    {
     "name": "stdout",
     "output_type": "stream",
     "text": [
      "Optimization restart 1/5, f = 136.7798249692909\n",
      "Optimization restart 2/5, f = 136.77981227226462\n",
      "Optimization restart 3/5, f = 136.77981757372874\n",
      "Optimization restart 4/5, f = 136.77981239152209\n",
      "Optimization restart 5/5, f = 136.779811345172\n"
     ]
    },
    {
     "name": "stderr",
     "output_type": "stream",
     "text": [
      " /Users/kenzatazi/miniconda3/envs/mfdgp/lib/python3.8/site-packages/paramz/transformations.py:111: RuntimeWarning:divide by zero encountered in log\n"
     ]
    },
    {
     "name": "stdout",
     "output_type": "stream",
     "text": [
      "Optimization restart 1/5, f = 149.23640482966013\n",
      "Optimization restart 2/5, f = 141.65735961191288\n",
      "Optimization restart 3/5, f = 149.59143210237687\n",
      "Optimization restart 4/5, f = 141.65738066871432\n",
      "Optimization restart 5/5, f = 141.65737647798392\n"
     ]
    },
    {
     "name": "stderr",
     "output_type": "stream",
     "text": [
      " /Users/kenzatazi/miniconda3/envs/mfdgp/lib/python3.8/site-packages/paramz/transformations.py:111: RuntimeWarning:divide by zero encountered in log\n"
     ]
    },
    {
     "name": "stdout",
     "output_type": "stream",
     "text": [
      "Optimization restart 1/5, f = 141.73343443627624\n",
      "Optimization restart 2/5, f = 141.73342808560625\n",
      "Optimization restart 3/5, f = 141.73342629654343\n",
      "Optimization restart 4/5, f = 141.73344826235615\n"
     ]
    },
    {
     "name": "stderr",
     "output_type": "stream",
     "text": [
      " 67%|██████▋   | 4/6 [01:52<01:05, 32.89s/it]"
     ]
    },
    {
     "name": "stdout",
     "output_type": "stream",
     "text": [
      "Optimization restart 5/5, f = 143.34966355219103\n",
      "Mean R2 =  -0.37340592305817677 ± 0.08739104979392062\n"
     ]
    },
    {
     "name": "stderr",
     "output_type": "stream",
     "text": [
      " /Users/kenzatazi/miniconda3/envs/mfdgp/lib/python3.8/site-packages/paramz/transformations.py:111: RuntimeWarning:divide by zero encountered in log\n"
     ]
    },
    {
     "name": "stdout",
     "output_type": "stream",
     "text": [
      "Optimization restart 1/5, f = 338.1901388495419\n",
      "Optimization restart 2/5, f = 338.1901793298882\n",
      "Optimization restart 3/5, f = 325.97749166123833\n",
      "Optimization restart 4/5, f = 336.04945958425805\n",
      "Optimization restart 5/5, f = 338.19018102923394\n"
     ]
    },
    {
     "name": "stderr",
     "output_type": "stream",
     "text": [
      " /Users/kenzatazi/miniconda3/envs/mfdgp/lib/python3.8/site-packages/paramz/transformations.py:111: RuntimeWarning:divide by zero encountered in log\n"
     ]
    },
    {
     "name": "stdout",
     "output_type": "stream",
     "text": [
      "Optimization restart 1/5, f = 368.15096044041013\n",
      "Optimization restart 2/5, f = 347.7069775944948\n",
      "Optimization restart 3/5, f = 383.85714119813815\n",
      "Optimization restart 4/5, f = 368.126049650663\n",
      "Optimization restart 5/5, f = 376.8601844431664\n"
     ]
    },
    {
     "name": "stderr",
     "output_type": "stream",
     "text": [
      " /Users/kenzatazi/miniconda3/envs/mfdgp/lib/python3.8/site-packages/paramz/transformations.py:111: RuntimeWarning:divide by zero encountered in log\n"
     ]
    },
    {
     "name": "stdout",
     "output_type": "stream",
     "text": [
      "Optimization restart 1/5, f = 362.03262936860324\n",
      "Optimization restart 2/5, f = 373.02760064896415\n",
      "Optimization restart 3/5, f = 362.0326241678978\n",
      "Optimization restart 4/5, f = 382.0846737254173\n",
      "Optimization restart 5/5, f = 371.3075708518911\n"
     ]
    },
    {
     "name": "stderr",
     "output_type": "stream",
     "text": [
      " /Users/kenzatazi/miniconda3/envs/mfdgp/lib/python3.8/site-packages/paramz/transformations.py:111: RuntimeWarning:divide by zero encountered in log\n"
     ]
    },
    {
     "name": "stdout",
     "output_type": "stream",
     "text": [
      "Optimization restart 1/5, f = 376.85815190984806\n",
      "Optimization restart 2/5, f = 358.59588754665094\n",
      "Optimization restart 3/5, f = 365.9824455437648\n",
      "Optimization restart 4/5, f = 358.59581131273995\n",
      "Optimization restart 5/5, f = 358.5958103073238\n"
     ]
    },
    {
     "name": "stderr",
     "output_type": "stream",
     "text": [
      " /Users/kenzatazi/miniconda3/envs/mfdgp/lib/python3.8/site-packages/paramz/transformations.py:111: RuntimeWarning:divide by zero encountered in log\n"
     ]
    },
    {
     "name": "stdout",
     "output_type": "stream",
     "text": [
      "Optimization restart 1/5, f = 367.9495865914606\n",
      "Optimization restart 2/5, f = 367.08641969811356\n",
      "Optimization restart 3/5, f = 362.153239620708\n",
      "Optimization restart 4/5, f = 362.26230544524674\n",
      "Optimization restart 5/5, f = 369.73767385551076\n"
     ]
    },
    {
     "name": "stderr",
     "output_type": "stream",
     "text": [
      " /Users/kenzatazi/miniconda3/envs/mfdgp/lib/python3.8/site-packages/paramz/transformations.py:111: RuntimeWarning:divide by zero encountered in log\n"
     ]
    },
    {
     "name": "stdout",
     "output_type": "stream",
     "text": [
      "Optimization restart 1/5, f = 360.4193386100348\n",
      "Optimization restart 2/5, f = 355.1009795947233\n",
      "Optimization restart 3/5, f = 363.1349313940332\n",
      "Optimization restart 4/5, f = 355.1009629646697\n",
      "Optimization restart 5/5, f = 360.89047849495165\n"
     ]
    },
    {
     "name": "stderr",
     "output_type": "stream",
     "text": [
      " /Users/kenzatazi/miniconda3/envs/mfdgp/lib/python3.8/site-packages/paramz/transformations.py:111: RuntimeWarning:divide by zero encountered in log\n"
     ]
    },
    {
     "name": "stdout",
     "output_type": "stream",
     "text": [
      "Optimization restart 1/5, f = 353.33355183938363\n",
      "Optimization restart 2/5, f = 353.33355198584434\n",
      "Optimization restart 3/5, f = 353.3335510495757\n",
      "Optimization restart 4/5, f = 365.2425156458577\n",
      "Optimization restart 5/5, f = 361.05987694836756\n"
     ]
    },
    {
     "name": "stderr",
     "output_type": "stream",
     "text": [
      " /Users/kenzatazi/miniconda3/envs/mfdgp/lib/python3.8/site-packages/paramz/transformations.py:111: RuntimeWarning:divide by zero encountered in log\n"
     ]
    },
    {
     "name": "stdout",
     "output_type": "stream",
     "text": [
      "Optimization restart 1/5, f = 364.78122356577205\n",
      "Optimization restart 2/5, f = 349.6763074835691\n",
      "Optimization restart 3/5, f = 375.22092922044374\n",
      "Optimization restart 4/5, f = 349.6763118845032\n"
     ]
    },
    {
     "name": "stderr",
     "output_type": "stream",
     "text": [
      " 83%|████████▎ | 5/6 [03:35<00:58, 58.32s/it]"
     ]
    },
    {
     "name": "stdout",
     "output_type": "stream",
     "text": [
      "Optimization restart 5/5, f = 349.6763247014747\n",
      "Mean R2 =  -0.3969580476901406 ± 0.18277009538489272\n"
     ]
    },
    {
     "name": "stderr",
     "output_type": "stream",
     "text": [
      " /Users/kenzatazi/miniconda3/envs/mfdgp/lib/python3.8/site-packages/paramz/transformations.py:111: RuntimeWarning:divide by zero encountered in log\n"
     ]
    },
    {
     "name": "stdout",
     "output_type": "stream",
     "text": [
      "Optimization restart 1/5, f = 695.4642350679876\n",
      "Optimization restart 2/5, f = 707.0437832205076\n",
      "Optimization restart 3/5, f = 680.9718874270649\n",
      "Optimization restart 4/5, f = 701.4185762945915\n",
      "Optimization restart 5/5, f = 704.0498175546724\n"
     ]
    },
    {
     "name": "stderr",
     "output_type": "stream",
     "text": [
      " /Users/kenzatazi/miniconda3/envs/mfdgp/lib/python3.8/site-packages/paramz/transformations.py:111: RuntimeWarning:divide by zero encountered in log\n"
     ]
    },
    {
     "name": "stdout",
     "output_type": "stream",
     "text": [
      "Optimization restart 1/5, f = 692.2016268959849\n",
      "Optimization restart 2/5, f = 715.475137951882\n",
      "Optimization restart 3/5, f = 696.2032647590988\n",
      "Optimization restart 4/5, f = 696.2032650194458\n",
      "Optimization restart 5/5, f = 696.2032747296557\n"
     ]
    },
    {
     "name": "stderr",
     "output_type": "stream",
     "text": [
      " /Users/kenzatazi/miniconda3/envs/mfdgp/lib/python3.8/site-packages/paramz/transformations.py:111: RuntimeWarning:divide by zero encountered in log\n"
     ]
    },
    {
     "name": "stdout",
     "output_type": "stream",
     "text": [
      "Optimization restart 1/5, f = 722.0673449501742\n",
      "Optimization restart 2/5, f = 718.7352724110834\n",
      "Optimization restart 3/5, f = 723.0440342401894\n",
      "Optimization restart 4/5, f = 738.3297096340561\n",
      "Optimization restart 5/5, f = 731.7398578774602\n"
     ]
    },
    {
     "name": "stderr",
     "output_type": "stream",
     "text": [
      " /Users/kenzatazi/miniconda3/envs/mfdgp/lib/python3.8/site-packages/paramz/transformations.py:111: RuntimeWarning:divide by zero encountered in log\n"
     ]
    },
    {
     "name": "stdout",
     "output_type": "stream",
     "text": [
      "Optimization restart 1/5, f = 727.3887915331567\n",
      "Optimization restart 2/5, f = 723.9041742437001\n",
      "Optimization restart 3/5, f = 719.1365506855611\n",
      "Optimization restart 4/5, f = 725.2443449708644\n",
      "Optimization restart 5/5, f = 726.4900487247345\n"
     ]
    },
    {
     "name": "stderr",
     "output_type": "stream",
     "text": [
      " /Users/kenzatazi/miniconda3/envs/mfdgp/lib/python3.8/site-packages/paramz/transformations.py:111: RuntimeWarning:divide by zero encountered in log\n"
     ]
    },
    {
     "name": "stdout",
     "output_type": "stream",
     "text": [
      "Optimization restart 1/5, f = 689.6649419076286\n",
      "Optimization restart 2/5, f = 689.6649468089511\n",
      "Optimization restart 3/5, f = 689.6649408605044\n",
      "Optimization restart 4/5, f = 718.122869271689\n",
      "Optimization restart 5/5, f = 689.6649396534938\n"
     ]
    },
    {
     "name": "stderr",
     "output_type": "stream",
     "text": [
      " /Users/kenzatazi/miniconda3/envs/mfdgp/lib/python3.8/site-packages/paramz/transformations.py:111: RuntimeWarning:divide by zero encountered in log\n"
     ]
    },
    {
     "name": "stdout",
     "output_type": "stream",
     "text": [
      "Optimization restart 1/5, f = 692.0497132444153\n",
      "Optimization restart 2/5, f = 696.7800614519864\n",
      "Optimization restart 3/5, f = 702.5685612553671\n",
      "Optimization restart 4/5, f = 722.418092408924\n",
      "Optimization restart 5/5, f = 692.0497172362418\n"
     ]
    },
    {
     "name": "stderr",
     "output_type": "stream",
     "text": [
      " /Users/kenzatazi/miniconda3/envs/mfdgp/lib/python3.8/site-packages/paramz/transformations.py:111: RuntimeWarning:divide by zero encountered in log\n"
     ]
    },
    {
     "name": "stdout",
     "output_type": "stream",
     "text": [
      "Optimization restart 1/5, f = 661.8674860902775\n",
      "Optimization restart 2/5, f = 661.8674840777735\n",
      "Optimization restart 3/5, f = 749.8870320932295\n",
      "Optimization restart 4/5, f = 661.8674959315906\n",
      "Optimization restart 5/5, f = 661.8674817654269\n"
     ]
    },
    {
     "name": "stderr",
     "output_type": "stream",
     "text": [
      " /Users/kenzatazi/miniconda3/envs/mfdgp/lib/python3.8/site-packages/paramz/transformations.py:111: RuntimeWarning:divide by zero encountered in log\n"
     ]
    },
    {
     "name": "stdout",
     "output_type": "stream",
     "text": [
      "Optimization restart 1/5, f = 686.8221188441386\n",
      "Optimization restart 2/5, f = 692.2313796545959\n",
      "Optimization restart 3/5, f = 697.1241231711949\n",
      "Optimization restart 4/5, f = 686.8221469721033\n"
     ]
    },
    {
     "name": "stderr",
     "output_type": "stream",
     "text": [
      "100%|██████████| 6/6 [10:08<00:00, 101.45s/it]"
     ]
    },
    {
     "name": "stdout",
     "output_type": "stream",
     "text": [
      "Optimization restart 5/5, f = 710.7386070496791\n",
      "Mean R2 =  -0.3445948234637437 ± 0.1472861254875015\n"
     ]
    },
    {
     "name": "stderr",
     "output_type": "stream",
     "text": [
      "\n"
     ]
    }
   ],
   "source": [
    "R2_all = []\n",
    "\n",
    "for t in tqdm([1, 2, 4, 8, 15, 30]):\n",
    "\n",
    "    R2 = []\n",
    "\n",
    "    for i in range(len(cv_train_list)):\n",
    "\n",
    "        tr = 12 * t\n",
    "\n",
    "        # Input data\n",
    "        X_train, Y_train = convert_xy_lists_to_arrays([cv_x_train_lf[i][:tr], cv_x_train_hf[i][:tr]], [cv_y_train_lf[i][:tr], cv_y_train_hf[i][:tr]])\n",
    "\n",
    "        # Train and evaluate\n",
    "        kern1 = GPy.kern.Matern52(input_dim=4, ARD=True)\n",
    "        kernels = [kern1, GPy.kern.Matern52(input_dim=4, ARD=True)]\n",
    "        lin_mf_kernel = emukit.multi_fidelity.kernels.LinearMultiFidelityKernel(kernels)\n",
    "        gpy_lin_mf_model = GPyLinearMultiFidelityModel(X_train, Y_train, lin_mf_kernel, n_fidelities=2,)\n",
    "        gpy_lin_mf_model.mixed_noise.Gaussian_noise.fix(0)\n",
    "        gpy_lin_mf_model.mixed_noise.Gaussian_noise_1.fix(0)\n",
    "        lin_mf_model = GPyMultiOutputWrapper(gpy_lin_mf_model, 2, n_optimization_restarts=5)\n",
    "        lin_mf_model.optimize()\n",
    "        \n",
    "        # Load and prep test data                                     \n",
    "        x_val1, y_val = cv_x_val[i], cv_y_val[i]                                                                                   \n",
    "        n = x_val1.shape[0]\n",
    "        x_met = convert_x_list_to_array([x_val1, x_val1])\n",
    "        \n",
    "        # ALL\n",
    "        y_pred0, y_var0 = lin_mf_model.predict(x_met[n:])\n",
    "        y_pred_low0, y_var_low0 = lin_mf_model.predict(x_met[:n])\n",
    "        \n",
    "        y_pred = sp.special.inv_boxcox(y_pred0, lf_lambdas[i]).reshape(-1)\n",
    "        y_true = sp.special.inv_boxcox(y_val, lf_lambdas[i]).reshape(-1)\n",
    "        R2.append(r2_score(y_true, y_pred))\n",
    "    \n",
    "    print('Mean R2 = ', np.mean(R2), '±', np.std(R2))\n",
    "    R2_all.append([np.mean(R2), np.std(R2)])\n",
    "\n",
    "np.savetxt('app_c_ypred_lf_r2.npy', R2_all)"
   ]
  },
  {
   "cell_type": "code",
   "execution_count": 17,
   "id": "e03517b4",
   "metadata": {},
   "outputs": [
    {
     "data": {
      "image/png": "[encoded data removed]",
      "text/plain": [
       "<Figure size 640x480 with 1 Axes>"
      ]
     },
     "metadata": {},
     "output_type": "display_data"
    }
   ],
   "source": [
    "plt.figure()\n",
    "R2_arr = np.array(R2_all)\n",
    "plt.errorbar([0, 2, 4, 8, 15, 30], R2_arr[:,0], yerr=R2_arr[:,1], capsize=5, marker='.', linestyle='none')\n",
    "reg = LinearRegression().fit(np.array([0, 2, 4, 8, 15, 30]).reshape(-1,1), R2_arr[:, 0])\n",
    "y = reg.predict(np.linspace(0, 30, 10).reshape(-1, 1))\n",
    "plt.plot(np.linspace(0,30,10).reshape(-1,1), y, linestyle='--')\n",
    "plt.ylabel('$R^2$')\n",
    "plt.xlabel('Years')\n",
    "plt.savefig('appendix_C_plot.png', dpi=300)"
   ]
  },
  {
   "cell_type": "code",
   "execution_count": null,
   "id": "96249697",
   "metadata": {},
   "outputs": [],
   "source": []
  },
  {
   "cell_type": "code",
   "execution_count": null,
   "id": "be8feafe",
   "metadata": {},
   "outputs": [],
   "source": []
  },
  {
   "cell_type": "code",
   "execution_count": null,
   "id": "88492273",
   "metadata": {},
   "outputs": [],
   "source": []
  },
  {
   "cell_type": "code",
   "execution_count": null,
   "id": "f14b66b0",
   "metadata": {},
   "outputs": [],
   "source": []
  }
 ],
 "metadata": {
  "kernelspec": {
   "display_name": "Python 3 (ipykernel)",
   "language": "python",
   "name": "python3"
  },
  "language_info": {
   "codemirror_mode": {
    "name": "ipython",
    "version": 3
   },
   "file_extension": ".py",
   "mimetype": "text/x-python",
   "name": "python",
   "nbconvert_exporter": "python",
   "pygments_lexer": "ipython3",
   "version": "3.8.16"
  }
 },
 "nbformat": 4,
 "nbformat_minor": 5
}
